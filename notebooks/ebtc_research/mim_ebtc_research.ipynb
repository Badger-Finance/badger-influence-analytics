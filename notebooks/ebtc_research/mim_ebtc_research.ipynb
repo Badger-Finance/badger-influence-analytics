{
 "cells": [
  {
   "cell_type": "markdown",
   "source": [
    "## Fees research\n",
    "Based on MIM protocol\n",
    "Refer to this document: https://hackmd.io/z3y2mMdCRtGYoHEJ-17tXw?both\n",
    "\n",
    "### How to get some revenue out of fees?\n",
    "There are multiple types of fees in MIM protocol, but we are mostly interested in borrow fee:\n",
    "This fee is added to debt every time MIM is borrowed.\n",
    "\n",
    "As an example, if you borrow 1000 MIMs your debt will be increased to 1000.5 MIMs but you will actually receive 1000 MIM. These 0.5 MIMs will be distributed to sSPELL holders\n",
    "\n",
    "MIM protocol owns 30% of SPELL token, potentially getting 30% of fees generated from borrowing(if staked):\n",
    "\n",
    "![](https://3232147659-files.gitbook.io/~/files/v0/b/gitbook-legacy-files/o/assets%2F-Mc9U0yE30Tc9xb3mVGA%2F-MlVGO-O-0eCUTb-XK1Y%2F-MlVLeXA6fo0aFM-qo5T%2FScreenshot%202021-10-08%20at%2015.41.53.png?alt=media&token=58577811-2734-45d2-8bed-187fcf72da2c)\n",
    "\n",
    "---"
   ],
   "metadata": {
    "collapsed": false,
    "pycharm": {
     "name": "#%% md\n"
    }
   }
  },
  {
   "cell_type": "markdown",
   "source": [
    "## Fees simulation\n",
    "Let's assume if we could capture 30% of fees as MIM by staking token and getting protocol fees"
   ],
   "metadata": {
    "collapsed": false,
    "pycharm": {
     "name": "#%% md\n"
    }
   }
  },
  {
   "cell_type": "code",
   "execution_count": 10,
   "outputs": [
    {
     "data": {
      "text/plain": "<IPython.core.display.HTML object>",
      "text/html": "<table border=\"1\" class=\"dataframe\">\n  <thead>\n    <tr style=\"text-align: right;\">\n      <th>Volume in $</th>\n      <th>Treasury Capture</th>\n      <th>Projected Yearly Revenue in $</th>\n      <th>Borrow Fee</th>\n      <th>Leverage</th>\n    </tr>\n  </thead>\n  <tbody>\n    <tr>\n      <td>1000000.0000</td>\n      <td>30.0%</td>\n      <td>1500.0</td>\n      <td>0.5%</td>\n      <td>1</td>\n    </tr>\n    <tr>\n      <td>1000000.0000</td>\n      <td>30.0%</td>\n      <td>10000.0</td>\n      <td>0.5%</td>\n      <td>2</td>\n    </tr>\n    <tr>\n      <td>1000000.0000</td>\n      <td>30.0%</td>\n      <td>15000.0</td>\n      <td>0.5%</td>\n      <td>3</td>\n    </tr>\n    <tr>\n      <td>1000000.0000</td>\n      <td>30.0%</td>\n      <td>20000.0</td>\n      <td>0.5%</td>\n      <td>4</td>\n    </tr>\n    <tr>\n      <td>1000000.0000</td>\n      <td>30.0%</td>\n      <td>25000.0</td>\n      <td>0.5%</td>\n      <td>5</td>\n    </tr>\n    <tr>\n      <td>1000000.0000</td>\n      <td>30.0%</td>\n      <td>30000.0</td>\n      <td>0.5%</td>\n      <td>6</td>\n    </tr>\n    <tr>\n      <td>-</td>\n      <td>-</td>\n      <td>-</td>\n      <td>-</td>\n      <td>-</td>\n    </tr>\n    <tr>\n      <td>2000000.0000</td>\n      <td>30.0%</td>\n      <td>3000.0</td>\n      <td>0.5%</td>\n      <td>1</td>\n    </tr>\n    <tr>\n      <td>2000000.0000</td>\n      <td>30.0%</td>\n      <td>20000.0</td>\n      <td>0.5%</td>\n      <td>2</td>\n    </tr>\n    <tr>\n      <td>2000000.0000</td>\n      <td>30.0%</td>\n      <td>30000.0</td>\n      <td>0.5%</td>\n      <td>3</td>\n    </tr>\n    <tr>\n      <td>2000000.0000</td>\n      <td>30.0%</td>\n      <td>40000.0</td>\n      <td>0.5%</td>\n      <td>4</td>\n    </tr>\n    <tr>\n      <td>2000000.0000</td>\n      <td>30.0%</td>\n      <td>50000.0</td>\n      <td>0.5%</td>\n      <td>5</td>\n    </tr>\n    <tr>\n      <td>2000000.0000</td>\n      <td>30.0%</td>\n      <td>60000.0</td>\n      <td>0.5%</td>\n      <td>6</td>\n    </tr>\n    <tr>\n      <td>-</td>\n      <td>-</td>\n      <td>-</td>\n      <td>-</td>\n      <td>-</td>\n    </tr>\n    <tr>\n      <td>3000000.0000</td>\n      <td>30.0%</td>\n      <td>4500.0</td>\n      <td>0.5%</td>\n      <td>1</td>\n    </tr>\n    <tr>\n      <td>3000000.0000</td>\n      <td>30.0%</td>\n      <td>30000.0</td>\n      <td>0.5%</td>\n      <td>2</td>\n    </tr>\n    <tr>\n      <td>3000000.0000</td>\n      <td>30.0%</td>\n      <td>45000.0</td>\n      <td>0.5%</td>\n      <td>3</td>\n    </tr>\n    <tr>\n      <td>3000000.0000</td>\n      <td>30.0%</td>\n      <td>60000.0</td>\n      <td>0.5%</td>\n      <td>4</td>\n    </tr>\n    <tr>\n      <td>3000000.0000</td>\n      <td>30.0%</td>\n      <td>75000.0</td>\n      <td>0.5%</td>\n      <td>5</td>\n    </tr>\n    <tr>\n      <td>3000000.0000</td>\n      <td>30.0%</td>\n      <td>90000.0</td>\n      <td>0.5%</td>\n      <td>6</td>\n    </tr>\n    <tr>\n      <td>-</td>\n      <td>-</td>\n      <td>-</td>\n      <td>-</td>\n      <td>-</td>\n    </tr>\n    <tr>\n      <td>4000000.0000</td>\n      <td>30.0%</td>\n      <td>6000.0</td>\n      <td>0.5%</td>\n      <td>1</td>\n    </tr>\n    <tr>\n      <td>4000000.0000</td>\n      <td>30.0%</td>\n      <td>40000.0</td>\n      <td>0.5%</td>\n      <td>2</td>\n    </tr>\n    <tr>\n      <td>4000000.0000</td>\n      <td>30.0%</td>\n      <td>60000.0</td>\n      <td>0.5%</td>\n      <td>3</td>\n    </tr>\n    <tr>\n      <td>4000000.0000</td>\n      <td>30.0%</td>\n      <td>80000.0</td>\n      <td>0.5%</td>\n      <td>4</td>\n    </tr>\n    <tr>\n      <td>4000000.0000</td>\n      <td>30.0%</td>\n      <td>100000.0</td>\n      <td>0.5%</td>\n      <td>5</td>\n    </tr>\n    <tr>\n      <td>4000000.0000</td>\n      <td>30.0%</td>\n      <td>120000.0</td>\n      <td>0.5%</td>\n      <td>6</td>\n    </tr>\n    <tr>\n      <td>-</td>\n      <td>-</td>\n      <td>-</td>\n      <td>-</td>\n      <td>-</td>\n    </tr>\n    <tr>\n      <td>5000000.0000</td>\n      <td>30.0%</td>\n      <td>7500.0</td>\n      <td>0.5%</td>\n      <td>1</td>\n    </tr>\n    <tr>\n      <td>5000000.0000</td>\n      <td>30.0%</td>\n      <td>50000.0</td>\n      <td>0.5%</td>\n      <td>2</td>\n    </tr>\n    <tr>\n      <td>5000000.0000</td>\n      <td>30.0%</td>\n      <td>75000.0</td>\n      <td>0.5%</td>\n      <td>3</td>\n    </tr>\n    <tr>\n      <td>5000000.0000</td>\n      <td>30.0%</td>\n      <td>100000.0</td>\n      <td>0.5%</td>\n      <td>4</td>\n    </tr>\n    <tr>\n      <td>5000000.0000</td>\n      <td>30.0%</td>\n      <td>125000.0</td>\n      <td>0.5%</td>\n      <td>5</td>\n    </tr>\n    <tr>\n      <td>5000000.0000</td>\n      <td>30.0%</td>\n      <td>150000.0</td>\n      <td>0.5%</td>\n      <td>6</td>\n    </tr>\n    <tr>\n      <td>-</td>\n      <td>-</td>\n      <td>-</td>\n      <td>-</td>\n      <td>-</td>\n    </tr>\n    <tr>\n      <td>6000000.0000</td>\n      <td>30.0%</td>\n      <td>9000.0</td>\n      <td>0.5%</td>\n      <td>1</td>\n    </tr>\n    <tr>\n      <td>6000000.0000</td>\n      <td>30.0%</td>\n      <td>60000.0</td>\n      <td>0.5%</td>\n      <td>2</td>\n    </tr>\n    <tr>\n      <td>6000000.0000</td>\n      <td>30.0%</td>\n      <td>90000.0</td>\n      <td>0.5%</td>\n      <td>3</td>\n    </tr>\n    <tr>\n      <td>6000000.0000</td>\n      <td>30.0%</td>\n      <td>120000.0</td>\n      <td>0.5%</td>\n      <td>4</td>\n    </tr>\n    <tr>\n      <td>6000000.0000</td>\n      <td>30.0%</td>\n      <td>150000.0</td>\n      <td>0.5%</td>\n      <td>5</td>\n    </tr>\n    <tr>\n      <td>6000000.0000</td>\n      <td>30.0%</td>\n      <td>180000.0</td>\n      <td>0.5%</td>\n      <td>6</td>\n    </tr>\n    <tr>\n      <td>-</td>\n      <td>-</td>\n      <td>-</td>\n      <td>-</td>\n      <td>-</td>\n    </tr>\n    <tr>\n      <td>7000000.0000</td>\n      <td>30.0%</td>\n      <td>10500.0</td>\n      <td>0.5%</td>\n      <td>1</td>\n    </tr>\n    <tr>\n      <td>7000000.0000</td>\n      <td>30.0%</td>\n      <td>70000.0</td>\n      <td>0.5%</td>\n      <td>2</td>\n    </tr>\n    <tr>\n      <td>7000000.0000</td>\n      <td>30.0%</td>\n      <td>105000.0</td>\n      <td>0.5%</td>\n      <td>3</td>\n    </tr>\n    <tr>\n      <td>7000000.0000</td>\n      <td>30.0%</td>\n      <td>140000.0</td>\n      <td>0.5%</td>\n      <td>4</td>\n    </tr>\n    <tr>\n      <td>7000000.0000</td>\n      <td>30.0%</td>\n      <td>175000.0</td>\n      <td>0.5%</td>\n      <td>5</td>\n    </tr>\n    <tr>\n      <td>7000000.0000</td>\n      <td>30.0%</td>\n      <td>210000.0</td>\n      <td>0.5%</td>\n      <td>6</td>\n    </tr>\n    <tr>\n      <td>-</td>\n      <td>-</td>\n      <td>-</td>\n      <td>-</td>\n      <td>-</td>\n    </tr>\n    <tr>\n      <td>8000000.0000</td>\n      <td>30.0%</td>\n      <td>12000.0</td>\n      <td>0.5%</td>\n      <td>1</td>\n    </tr>\n    <tr>\n      <td>8000000.0000</td>\n      <td>30.0%</td>\n      <td>80000.0</td>\n      <td>0.5%</td>\n      <td>2</td>\n    </tr>\n    <tr>\n      <td>8000000.0000</td>\n      <td>30.0%</td>\n      <td>120000.0</td>\n      <td>0.5%</td>\n      <td>3</td>\n    </tr>\n    <tr>\n      <td>8000000.0000</td>\n      <td>30.0%</td>\n      <td>160000.0</td>\n      <td>0.5%</td>\n      <td>4</td>\n    </tr>\n    <tr>\n      <td>8000000.0000</td>\n      <td>30.0%</td>\n      <td>200000.0</td>\n      <td>0.5%</td>\n      <td>5</td>\n    </tr>\n    <tr>\n      <td>8000000.0000</td>\n      <td>30.0%</td>\n      <td>240000.0</td>\n      <td>0.5%</td>\n      <td>6</td>\n    </tr>\n    <tr>\n      <td>-</td>\n      <td>-</td>\n      <td>-</td>\n      <td>-</td>\n      <td>-</td>\n    </tr>\n    <tr>\n      <td>9000000.0000</td>\n      <td>30.0%</td>\n      <td>13500.0</td>\n      <td>0.5%</td>\n      <td>1</td>\n    </tr>\n    <tr>\n      <td>9000000.0000</td>\n      <td>30.0%</td>\n      <td>90000.0</td>\n      <td>0.5%</td>\n      <td>2</td>\n    </tr>\n    <tr>\n      <td>9000000.0000</td>\n      <td>30.0%</td>\n      <td>135000.0</td>\n      <td>0.5%</td>\n      <td>3</td>\n    </tr>\n    <tr>\n      <td>9000000.0000</td>\n      <td>30.0%</td>\n      <td>180000.0</td>\n      <td>0.5%</td>\n      <td>4</td>\n    </tr>\n    <tr>\n      <td>9000000.0000</td>\n      <td>30.0%</td>\n      <td>225000.0</td>\n      <td>0.5%</td>\n      <td>5</td>\n    </tr>\n    <tr>\n      <td>9000000.0000</td>\n      <td>30.0%</td>\n      <td>270000.0</td>\n      <td>0.5%</td>\n      <td>6</td>\n    </tr>\n    <tr>\n      <td>-</td>\n      <td>-</td>\n      <td>-</td>\n      <td>-</td>\n      <td>-</td>\n    </tr>\n    <tr>\n      <td>10000000.0000</td>\n      <td>30.0%</td>\n      <td>15000.0</td>\n      <td>0.5%</td>\n      <td>1</td>\n    </tr>\n    <tr>\n      <td>10000000.0000</td>\n      <td>30.0%</td>\n      <td>100000.0</td>\n      <td>0.5%</td>\n      <td>2</td>\n    </tr>\n    <tr>\n      <td>10000000.0000</td>\n      <td>30.0%</td>\n      <td>150000.0</td>\n      <td>0.5%</td>\n      <td>3</td>\n    </tr>\n    <tr>\n      <td>10000000.0000</td>\n      <td>30.0%</td>\n      <td>200000.0</td>\n      <td>0.5%</td>\n      <td>4</td>\n    </tr>\n    <tr>\n      <td>10000000.0000</td>\n      <td>30.0%</td>\n      <td>250000.0</td>\n      <td>0.5%</td>\n      <td>5</td>\n    </tr>\n    <tr>\n      <td>10000000.0000</td>\n      <td>30.0%</td>\n      <td>300000.0</td>\n      <td>0.5%</td>\n      <td>6</td>\n    </tr>\n    <tr>\n      <td>-</td>\n      <td>-</td>\n      <td>-</td>\n      <td>-</td>\n      <td>-</td>\n    </tr>\n    <tr>\n      <td>11000000.0000</td>\n      <td>30.0%</td>\n      <td>16500.0</td>\n      <td>0.5%</td>\n      <td>1</td>\n    </tr>\n    <tr>\n      <td>11000000.0000</td>\n      <td>30.0%</td>\n      <td>110000.0</td>\n      <td>0.5%</td>\n      <td>2</td>\n    </tr>\n    <tr>\n      <td>11000000.0000</td>\n      <td>30.0%</td>\n      <td>165000.0</td>\n      <td>0.5%</td>\n      <td>3</td>\n    </tr>\n    <tr>\n      <td>11000000.0000</td>\n      <td>30.0%</td>\n      <td>220000.0</td>\n      <td>0.5%</td>\n      <td>4</td>\n    </tr>\n    <tr>\n      <td>11000000.0000</td>\n      <td>30.0%</td>\n      <td>275000.0</td>\n      <td>0.5%</td>\n      <td>5</td>\n    </tr>\n    <tr>\n      <td>11000000.0000</td>\n      <td>30.0%</td>\n      <td>330000.0</td>\n      <td>0.5%</td>\n      <td>6</td>\n    </tr>\n    <tr>\n      <td>-</td>\n      <td>-</td>\n      <td>-</td>\n      <td>-</td>\n      <td>-</td>\n    </tr>\n    <tr>\n      <td>12000000.0000</td>\n      <td>30.0%</td>\n      <td>18000.0</td>\n      <td>0.5%</td>\n      <td>1</td>\n    </tr>\n    <tr>\n      <td>12000000.0000</td>\n      <td>30.0%</td>\n      <td>120000.0</td>\n      <td>0.5%</td>\n      <td>2</td>\n    </tr>\n    <tr>\n      <td>12000000.0000</td>\n      <td>30.0%</td>\n      <td>180000.0</td>\n      <td>0.5%</td>\n      <td>3</td>\n    </tr>\n    <tr>\n      <td>12000000.0000</td>\n      <td>30.0%</td>\n      <td>240000.0</td>\n      <td>0.5%</td>\n      <td>4</td>\n    </tr>\n    <tr>\n      <td>12000000.0000</td>\n      <td>30.0%</td>\n      <td>300000.0</td>\n      <td>0.5%</td>\n      <td>5</td>\n    </tr>\n    <tr>\n      <td>12000000.0000</td>\n      <td>30.0%</td>\n      <td>360000.0</td>\n      <td>0.5%</td>\n      <td>6</td>\n    </tr>\n    <tr>\n      <td>-</td>\n      <td>-</td>\n      <td>-</td>\n      <td>-</td>\n      <td>-</td>\n    </tr>\n    <tr>\n      <td>13000000.0000</td>\n      <td>30.0%</td>\n      <td>19500.0</td>\n      <td>0.5%</td>\n      <td>1</td>\n    </tr>\n    <tr>\n      <td>13000000.0000</td>\n      <td>30.0%</td>\n      <td>130000.0</td>\n      <td>0.5%</td>\n      <td>2</td>\n    </tr>\n    <tr>\n      <td>13000000.0000</td>\n      <td>30.0%</td>\n      <td>195000.0</td>\n      <td>0.5%</td>\n      <td>3</td>\n    </tr>\n    <tr>\n      <td>13000000.0000</td>\n      <td>30.0%</td>\n      <td>260000.0</td>\n      <td>0.5%</td>\n      <td>4</td>\n    </tr>\n    <tr>\n      <td>13000000.0000</td>\n      <td>30.0%</td>\n      <td>325000.0</td>\n      <td>0.5%</td>\n      <td>5</td>\n    </tr>\n    <tr>\n      <td>13000000.0000</td>\n      <td>30.0%</td>\n      <td>390000.0</td>\n      <td>0.5%</td>\n      <td>6</td>\n    </tr>\n    <tr>\n      <td>-</td>\n      <td>-</td>\n      <td>-</td>\n      <td>-</td>\n      <td>-</td>\n    </tr>\n    <tr>\n      <td>14000000.0000</td>\n      <td>30.0%</td>\n      <td>21000.0</td>\n      <td>0.5%</td>\n      <td>1</td>\n    </tr>\n    <tr>\n      <td>14000000.0000</td>\n      <td>30.0%</td>\n      <td>140000.0</td>\n      <td>0.5%</td>\n      <td>2</td>\n    </tr>\n    <tr>\n      <td>14000000.0000</td>\n      <td>30.0%</td>\n      <td>210000.0</td>\n      <td>0.5%</td>\n      <td>3</td>\n    </tr>\n    <tr>\n      <td>14000000.0000</td>\n      <td>30.0%</td>\n      <td>280000.0</td>\n      <td>0.5%</td>\n      <td>4</td>\n    </tr>\n    <tr>\n      <td>14000000.0000</td>\n      <td>30.0%</td>\n      <td>350000.0</td>\n      <td>0.5%</td>\n      <td>5</td>\n    </tr>\n    <tr>\n      <td>14000000.0000</td>\n      <td>30.0%</td>\n      <td>420000.0</td>\n      <td>0.5%</td>\n      <td>6</td>\n    </tr>\n    <tr>\n      <td>-</td>\n      <td>-</td>\n      <td>-</td>\n      <td>-</td>\n      <td>-</td>\n    </tr>\n    <tr>\n      <td>15000000.0000</td>\n      <td>30.0%</td>\n      <td>22500.0</td>\n      <td>0.5%</td>\n      <td>1</td>\n    </tr>\n    <tr>\n      <td>15000000.0000</td>\n      <td>30.0%</td>\n      <td>150000.0</td>\n      <td>0.5%</td>\n      <td>2</td>\n    </tr>\n    <tr>\n      <td>15000000.0000</td>\n      <td>30.0%</td>\n      <td>225000.0</td>\n      <td>0.5%</td>\n      <td>3</td>\n    </tr>\n    <tr>\n      <td>15000000.0000</td>\n      <td>30.0%</td>\n      <td>300000.0</td>\n      <td>0.5%</td>\n      <td>4</td>\n    </tr>\n    <tr>\n      <td>15000000.0000</td>\n      <td>30.0%</td>\n      <td>375000.0</td>\n      <td>0.5%</td>\n      <td>5</td>\n    </tr>\n    <tr>\n      <td>15000000.0000</td>\n      <td>30.0%</td>\n      <td>450000.0</td>\n      <td>0.5%</td>\n      <td>6</td>\n    </tr>\n    <tr>\n      <td>-</td>\n      <td>-</td>\n      <td>-</td>\n      <td>-</td>\n      <td>-</td>\n    </tr>\n  </tbody>\n</table>"
     },
     "metadata": {},
     "output_type": "display_data"
    }
   ],
   "source": [
    "from IPython.core.display_functions import display\n",
    "import matplotlib.pyplot as plt\n",
    "import pandas as pd\n",
    "from IPython.display import HTML\n",
    "from notebooks.ebtc_research.generate_data import get_tables_mimlike\n",
    "\n",
    "plt.style.use('seaborn')\n",
    "pd.set_option('display.max_rows', 500)\n",
    "\n",
    "TABLE_HEADERS = [\"Volume in $\", \"Treasury Capture\", \"Projected Yearly Revenue in $\", \"Borrow Fee\", \"Leverage\"]\n",
    "revenue_tables, volumes = get_tables_mimlike()\n",
    "df = pd.DataFrame(data=[*revenue_tables], columns=TABLE_HEADERS)\n",
    "display(HTML(df.to_html(index=False)))"
   ],
   "metadata": {
    "collapsed": false,
    "pycharm": {
     "name": "#%%\n"
    }
   }
  },
  {
   "cell_type": "code",
   "execution_count": 11,
   "outputs": [
    {
     "data": {
      "text/plain": "    Volume in $ Treasury Capture Projected Yearly Revenue in $ Borrow Fee  \\\n0  1000000.0000            30.0%                        1500.0       0.5%   \n1  1000000.0000            30.0%                       10000.0       0.5%   \n2  1000000.0000            30.0%                       15000.0       0.5%   \n3  1000000.0000            30.0%                       20000.0       0.5%   \n4  1000000.0000            30.0%                       25000.0       0.5%   \n5  1000000.0000            30.0%                       30000.0       0.5%   \n\n  Leverage  \n0        1  \n1        2  \n2        3  \n3        4  \n4        5  \n5        6  ",
      "text/html": "<div>\n<style scoped>\n    .dataframe tbody tr th:only-of-type {\n        vertical-align: middle;\n    }\n\n    .dataframe tbody tr th {\n        vertical-align: top;\n    }\n\n    .dataframe thead th {\n        text-align: right;\n    }\n</style>\n<table border=\"1\" class=\"dataframe\">\n  <thead>\n    <tr style=\"text-align: right;\">\n      <th></th>\n      <th>Volume in $</th>\n      <th>Treasury Capture</th>\n      <th>Projected Yearly Revenue in $</th>\n      <th>Borrow Fee</th>\n      <th>Leverage</th>\n    </tr>\n  </thead>\n  <tbody>\n    <tr>\n      <th>0</th>\n      <td>1000000.0000</td>\n      <td>30.0%</td>\n      <td>1500.0</td>\n      <td>0.5%</td>\n      <td>1</td>\n    </tr>\n    <tr>\n      <th>1</th>\n      <td>1000000.0000</td>\n      <td>30.0%</td>\n      <td>10000.0</td>\n      <td>0.5%</td>\n      <td>2</td>\n    </tr>\n    <tr>\n      <th>2</th>\n      <td>1000000.0000</td>\n      <td>30.0%</td>\n      <td>15000.0</td>\n      <td>0.5%</td>\n      <td>3</td>\n    </tr>\n    <tr>\n      <th>3</th>\n      <td>1000000.0000</td>\n      <td>30.0%</td>\n      <td>20000.0</td>\n      <td>0.5%</td>\n      <td>4</td>\n    </tr>\n    <tr>\n      <th>4</th>\n      <td>1000000.0000</td>\n      <td>30.0%</td>\n      <td>25000.0</td>\n      <td>0.5%</td>\n      <td>5</td>\n    </tr>\n    <tr>\n      <th>5</th>\n      <td>1000000.0000</td>\n      <td>30.0%</td>\n      <td>30000.0</td>\n      <td>0.5%</td>\n      <td>6</td>\n    </tr>\n  </tbody>\n</table>\n</div>"
     },
     "execution_count": 11,
     "metadata": {},
     "output_type": "execute_result"
    }
   ],
   "source": [
    "# Remove empty rows\n",
    "df.drop(df.loc[df['Leverage'] == \"-\"].index, inplace=True)\n",
    "df = df.loc[df['Volume in $'] == \"1000000.0000\"]\n",
    "df\n"
   ],
   "metadata": {
    "collapsed": false,
    "pycharm": {
     "name": "#%%\n"
    }
   }
  }
 ],
 "metadata": {
  "kernelspec": {
   "display_name": "Python 3",
   "language": "python",
   "name": "python3"
  },
  "language_info": {
   "codemirror_mode": {
    "name": "ipython",
    "version": 2
   },
   "file_extension": ".py",
   "mimetype": "text/x-python",
   "name": "python",
   "nbconvert_exporter": "python",
   "pygments_lexer": "ipython2",
   "version": "2.7.6"
  }
 },
 "nbformat": 4,
 "nbformat_minor": 0
}