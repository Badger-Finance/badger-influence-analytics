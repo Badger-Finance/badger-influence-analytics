{
 "cells": [
  {
   "cell_type": "markdown",
   "source": [
    "## Fees research\n",
    "Based on MIM protocol\n",
    "Refer to this document: https://hackmd.io/z3y2mMdCRtGYoHEJ-17tXw?both\n",
    "\n",
    "### How to get some revenue out of fees?\n",
    "There are multiple types of fees in MIM protocol, but we are mostly interested in borrow fee:\n",
    "This fee is added to debt every time MIM is borrowed.\n",
    "\n",
    "As an example, if you borrow 1000 MIMs your debt will be increased to 1000.5 MIMs but you will actually receive 1000 MIM. These 0.5 MIMs will be distributed to sSPELL holders\n",
    "\n",
    "MIM protocol owns 30% of SPELL token, potentially getting 30% of fees generated from borrowing(if staked):\n",
    "\n",
    "![](https://3232147659-files.gitbook.io/~/files/v0/b/gitbook-legacy-files/o/assets%2F-Mc9U0yE30Tc9xb3mVGA%2F-MlVGO-O-0eCUTb-XK1Y%2F-MlVLeXA6fo0aFM-qo5T%2FScreenshot%202021-10-08%20at%2015.41.53.png?alt=media&token=58577811-2734-45d2-8bed-187fcf72da2c)\n",
    "\n",
    "---"
   ],
   "metadata": {
    "collapsed": false,
    "pycharm": {
     "name": "#%% md\n"
    }
   }
  },
  {
   "cell_type": "markdown",
   "source": [
    "## Fees simulation\n",
    "Let's assume if we could capture X% of fees as MIM by staking token and getting protocol fees"
   ],
   "metadata": {
    "collapsed": false,
    "pycharm": {
     "name": "#%% md\n"
    }
   }
  },
  {
   "cell_type": "code",
   "execution_count": 31,
   "outputs": [
    {
     "data": {
      "text/plain": "<IPython.core.display.HTML object>",
      "text/html": "<table border=\"1\" class=\"dataframe\">\n  <thead>\n    <tr style=\"text-align: right;\">\n      <th>Volume in $</th>\n      <th>Treasury Capture</th>\n      <th>Projected Yearly Revenue in $</th>\n      <th>Fee</th>\n      <th>Leverage</th>\n    </tr>\n  </thead>\n  <tbody>\n    <tr>\n      <td>1000000.0000</td>\n      <td>30.0%</td>\n      <td>1500.0</td>\n      <td>0.5%</td>\n      <td>1</td>\n    </tr>\n    <tr>\n      <td>1000000.0000</td>\n      <td>30.0%</td>\n      <td>10000.0</td>\n      <td>0.5%</td>\n      <td>2</td>\n    </tr>\n    <tr>\n      <td>1000000.0000</td>\n      <td>30.0%</td>\n      <td>15000.0</td>\n      <td>0.5%</td>\n      <td>3</td>\n    </tr>\n    <tr>\n      <td>1000000.0000</td>\n      <td>30.0%</td>\n      <td>20000.0</td>\n      <td>0.5%</td>\n      <td>4</td>\n    </tr>\n    <tr>\n      <td>1000000.0000</td>\n      <td>30.0%</td>\n      <td>25000.0</td>\n      <td>0.5%</td>\n      <td>5</td>\n    </tr>\n    <tr>\n      <td>1000000.0000</td>\n      <td>30.0%</td>\n      <td>30000.0</td>\n      <td>0.5%</td>\n      <td>6</td>\n    </tr>\n    <tr>\n      <td>2000000.0000</td>\n      <td>30.0%</td>\n      <td>3000.0</td>\n      <td>0.5%</td>\n      <td>1</td>\n    </tr>\n    <tr>\n      <td>2000000.0000</td>\n      <td>30.0%</td>\n      <td>20000.0</td>\n      <td>0.5%</td>\n      <td>2</td>\n    </tr>\n    <tr>\n      <td>2000000.0000</td>\n      <td>30.0%</td>\n      <td>30000.0</td>\n      <td>0.5%</td>\n      <td>3</td>\n    </tr>\n    <tr>\n      <td>2000000.0000</td>\n      <td>30.0%</td>\n      <td>40000.0</td>\n      <td>0.5%</td>\n      <td>4</td>\n    </tr>\n    <tr>\n      <td>2000000.0000</td>\n      <td>30.0%</td>\n      <td>50000.0</td>\n      <td>0.5%</td>\n      <td>5</td>\n    </tr>\n    <tr>\n      <td>2000000.0000</td>\n      <td>30.0%</td>\n      <td>60000.0</td>\n      <td>0.5%</td>\n      <td>6</td>\n    </tr>\n    <tr>\n      <td>3000000.0000</td>\n      <td>30.0%</td>\n      <td>4500.0</td>\n      <td>0.5%</td>\n      <td>1</td>\n    </tr>\n    <tr>\n      <td>3000000.0000</td>\n      <td>30.0%</td>\n      <td>30000.0</td>\n      <td>0.5%</td>\n      <td>2</td>\n    </tr>\n    <tr>\n      <td>3000000.0000</td>\n      <td>30.0%</td>\n      <td>45000.0</td>\n      <td>0.5%</td>\n      <td>3</td>\n    </tr>\n    <tr>\n      <td>3000000.0000</td>\n      <td>30.0%</td>\n      <td>60000.0</td>\n      <td>0.5%</td>\n      <td>4</td>\n    </tr>\n    <tr>\n      <td>3000000.0000</td>\n      <td>30.0%</td>\n      <td>75000.0</td>\n      <td>0.5%</td>\n      <td>5</td>\n    </tr>\n    <tr>\n      <td>3000000.0000</td>\n      <td>30.0%</td>\n      <td>90000.0</td>\n      <td>0.5%</td>\n      <td>6</td>\n    </tr>\n    <tr>\n      <td>4000000.0000</td>\n      <td>30.0%</td>\n      <td>6000.0</td>\n      <td>0.5%</td>\n      <td>1</td>\n    </tr>\n    <tr>\n      <td>4000000.0000</td>\n      <td>30.0%</td>\n      <td>40000.0</td>\n      <td>0.5%</td>\n      <td>2</td>\n    </tr>\n    <tr>\n      <td>4000000.0000</td>\n      <td>30.0%</td>\n      <td>60000.0</td>\n      <td>0.5%</td>\n      <td>3</td>\n    </tr>\n    <tr>\n      <td>4000000.0000</td>\n      <td>30.0%</td>\n      <td>80000.0</td>\n      <td>0.5%</td>\n      <td>4</td>\n    </tr>\n    <tr>\n      <td>4000000.0000</td>\n      <td>30.0%</td>\n      <td>100000.0</td>\n      <td>0.5%</td>\n      <td>5</td>\n    </tr>\n    <tr>\n      <td>4000000.0000</td>\n      <td>30.0%</td>\n      <td>120000.0</td>\n      <td>0.5%</td>\n      <td>6</td>\n    </tr>\n    <tr>\n      <td>5000000.0000</td>\n      <td>30.0%</td>\n      <td>7500.0</td>\n      <td>0.5%</td>\n      <td>1</td>\n    </tr>\n    <tr>\n      <td>5000000.0000</td>\n      <td>30.0%</td>\n      <td>50000.0</td>\n      <td>0.5%</td>\n      <td>2</td>\n    </tr>\n    <tr>\n      <td>5000000.0000</td>\n      <td>30.0%</td>\n      <td>75000.0</td>\n      <td>0.5%</td>\n      <td>3</td>\n    </tr>\n    <tr>\n      <td>5000000.0000</td>\n      <td>30.0%</td>\n      <td>100000.0</td>\n      <td>0.5%</td>\n      <td>4</td>\n    </tr>\n    <tr>\n      <td>5000000.0000</td>\n      <td>30.0%</td>\n      <td>125000.0</td>\n      <td>0.5%</td>\n      <td>5</td>\n    </tr>\n    <tr>\n      <td>5000000.0000</td>\n      <td>30.0%</td>\n      <td>150000.0</td>\n      <td>0.5%</td>\n      <td>6</td>\n    </tr>\n    <tr>\n      <td>6000000.0000</td>\n      <td>30.0%</td>\n      <td>9000.0</td>\n      <td>0.5%</td>\n      <td>1</td>\n    </tr>\n    <tr>\n      <td>6000000.0000</td>\n      <td>30.0%</td>\n      <td>60000.0</td>\n      <td>0.5%</td>\n      <td>2</td>\n    </tr>\n    <tr>\n      <td>6000000.0000</td>\n      <td>30.0%</td>\n      <td>90000.0</td>\n      <td>0.5%</td>\n      <td>3</td>\n    </tr>\n    <tr>\n      <td>6000000.0000</td>\n      <td>30.0%</td>\n      <td>120000.0</td>\n      <td>0.5%</td>\n      <td>4</td>\n    </tr>\n    <tr>\n      <td>6000000.0000</td>\n      <td>30.0%</td>\n      <td>150000.0</td>\n      <td>0.5%</td>\n      <td>5</td>\n    </tr>\n    <tr>\n      <td>6000000.0000</td>\n      <td>30.0%</td>\n      <td>180000.0</td>\n      <td>0.5%</td>\n      <td>6</td>\n    </tr>\n    <tr>\n      <td>7000000.0000</td>\n      <td>30.0%</td>\n      <td>10500.0</td>\n      <td>0.5%</td>\n      <td>1</td>\n    </tr>\n    <tr>\n      <td>7000000.0000</td>\n      <td>30.0%</td>\n      <td>70000.0</td>\n      <td>0.5%</td>\n      <td>2</td>\n    </tr>\n    <tr>\n      <td>7000000.0000</td>\n      <td>30.0%</td>\n      <td>105000.0</td>\n      <td>0.5%</td>\n      <td>3</td>\n    </tr>\n    <tr>\n      <td>7000000.0000</td>\n      <td>30.0%</td>\n      <td>140000.0</td>\n      <td>0.5%</td>\n      <td>4</td>\n    </tr>\n    <tr>\n      <td>7000000.0000</td>\n      <td>30.0%</td>\n      <td>175000.0</td>\n      <td>0.5%</td>\n      <td>5</td>\n    </tr>\n    <tr>\n      <td>7000000.0000</td>\n      <td>30.0%</td>\n      <td>210000.0</td>\n      <td>0.5%</td>\n      <td>6</td>\n    </tr>\n    <tr>\n      <td>8000000.0000</td>\n      <td>30.0%</td>\n      <td>12000.0</td>\n      <td>0.5%</td>\n      <td>1</td>\n    </tr>\n    <tr>\n      <td>8000000.0000</td>\n      <td>30.0%</td>\n      <td>80000.0</td>\n      <td>0.5%</td>\n      <td>2</td>\n    </tr>\n    <tr>\n      <td>8000000.0000</td>\n      <td>30.0%</td>\n      <td>120000.0</td>\n      <td>0.5%</td>\n      <td>3</td>\n    </tr>\n    <tr>\n      <td>8000000.0000</td>\n      <td>30.0%</td>\n      <td>160000.0</td>\n      <td>0.5%</td>\n      <td>4</td>\n    </tr>\n    <tr>\n      <td>8000000.0000</td>\n      <td>30.0%</td>\n      <td>200000.0</td>\n      <td>0.5%</td>\n      <td>5</td>\n    </tr>\n    <tr>\n      <td>8000000.0000</td>\n      <td>30.0%</td>\n      <td>240000.0</td>\n      <td>0.5%</td>\n      <td>6</td>\n    </tr>\n    <tr>\n      <td>9000000.0000</td>\n      <td>30.0%</td>\n      <td>13500.0</td>\n      <td>0.5%</td>\n      <td>1</td>\n    </tr>\n    <tr>\n      <td>9000000.0000</td>\n      <td>30.0%</td>\n      <td>90000.0</td>\n      <td>0.5%</td>\n      <td>2</td>\n    </tr>\n    <tr>\n      <td>9000000.0000</td>\n      <td>30.0%</td>\n      <td>135000.0</td>\n      <td>0.5%</td>\n      <td>3</td>\n    </tr>\n    <tr>\n      <td>9000000.0000</td>\n      <td>30.0%</td>\n      <td>180000.0</td>\n      <td>0.5%</td>\n      <td>4</td>\n    </tr>\n    <tr>\n      <td>9000000.0000</td>\n      <td>30.0%</td>\n      <td>225000.0</td>\n      <td>0.5%</td>\n      <td>5</td>\n    </tr>\n    <tr>\n      <td>9000000.0000</td>\n      <td>30.0%</td>\n      <td>270000.0</td>\n      <td>0.5%</td>\n      <td>6</td>\n    </tr>\n    <tr>\n      <td>10000000.0000</td>\n      <td>30.0%</td>\n      <td>15000.0</td>\n      <td>0.5%</td>\n      <td>1</td>\n    </tr>\n    <tr>\n      <td>10000000.0000</td>\n      <td>30.0%</td>\n      <td>100000.0</td>\n      <td>0.5%</td>\n      <td>2</td>\n    </tr>\n    <tr>\n      <td>10000000.0000</td>\n      <td>30.0%</td>\n      <td>150000.0</td>\n      <td>0.5%</td>\n      <td>3</td>\n    </tr>\n    <tr>\n      <td>10000000.0000</td>\n      <td>30.0%</td>\n      <td>200000.0</td>\n      <td>0.5%</td>\n      <td>4</td>\n    </tr>\n    <tr>\n      <td>10000000.0000</td>\n      <td>30.0%</td>\n      <td>250000.0</td>\n      <td>0.5%</td>\n      <td>5</td>\n    </tr>\n    <tr>\n      <td>10000000.0000</td>\n      <td>30.0%</td>\n      <td>300000.0</td>\n      <td>0.5%</td>\n      <td>6</td>\n    </tr>\n    <tr>\n      <td>11000000.0000</td>\n      <td>30.0%</td>\n      <td>16500.0</td>\n      <td>0.5%</td>\n      <td>1</td>\n    </tr>\n    <tr>\n      <td>11000000.0000</td>\n      <td>30.0%</td>\n      <td>110000.0</td>\n      <td>0.5%</td>\n      <td>2</td>\n    </tr>\n    <tr>\n      <td>11000000.0000</td>\n      <td>30.0%</td>\n      <td>165000.0</td>\n      <td>0.5%</td>\n      <td>3</td>\n    </tr>\n    <tr>\n      <td>11000000.0000</td>\n      <td>30.0%</td>\n      <td>220000.0</td>\n      <td>0.5%</td>\n      <td>4</td>\n    </tr>\n    <tr>\n      <td>11000000.0000</td>\n      <td>30.0%</td>\n      <td>275000.0</td>\n      <td>0.5%</td>\n      <td>5</td>\n    </tr>\n    <tr>\n      <td>11000000.0000</td>\n      <td>30.0%</td>\n      <td>330000.0</td>\n      <td>0.5%</td>\n      <td>6</td>\n    </tr>\n    <tr>\n      <td>12000000.0000</td>\n      <td>30.0%</td>\n      <td>18000.0</td>\n      <td>0.5%</td>\n      <td>1</td>\n    </tr>\n    <tr>\n      <td>12000000.0000</td>\n      <td>30.0%</td>\n      <td>120000.0</td>\n      <td>0.5%</td>\n      <td>2</td>\n    </tr>\n    <tr>\n      <td>12000000.0000</td>\n      <td>30.0%</td>\n      <td>180000.0</td>\n      <td>0.5%</td>\n      <td>3</td>\n    </tr>\n    <tr>\n      <td>12000000.0000</td>\n      <td>30.0%</td>\n      <td>240000.0</td>\n      <td>0.5%</td>\n      <td>4</td>\n    </tr>\n    <tr>\n      <td>12000000.0000</td>\n      <td>30.0%</td>\n      <td>300000.0</td>\n      <td>0.5%</td>\n      <td>5</td>\n    </tr>\n    <tr>\n      <td>12000000.0000</td>\n      <td>30.0%</td>\n      <td>360000.0</td>\n      <td>0.5%</td>\n      <td>6</td>\n    </tr>\n    <tr>\n      <td>13000000.0000</td>\n      <td>30.0%</td>\n      <td>19500.0</td>\n      <td>0.5%</td>\n      <td>1</td>\n    </tr>\n    <tr>\n      <td>13000000.0000</td>\n      <td>30.0%</td>\n      <td>130000.0</td>\n      <td>0.5%</td>\n      <td>2</td>\n    </tr>\n    <tr>\n      <td>13000000.0000</td>\n      <td>30.0%</td>\n      <td>195000.0</td>\n      <td>0.5%</td>\n      <td>3</td>\n    </tr>\n    <tr>\n      <td>13000000.0000</td>\n      <td>30.0%</td>\n      <td>260000.0</td>\n      <td>0.5%</td>\n      <td>4</td>\n    </tr>\n    <tr>\n      <td>13000000.0000</td>\n      <td>30.0%</td>\n      <td>325000.0</td>\n      <td>0.5%</td>\n      <td>5</td>\n    </tr>\n    <tr>\n      <td>13000000.0000</td>\n      <td>30.0%</td>\n      <td>390000.0</td>\n      <td>0.5%</td>\n      <td>6</td>\n    </tr>\n    <tr>\n      <td>14000000.0000</td>\n      <td>30.0%</td>\n      <td>21000.0</td>\n      <td>0.5%</td>\n      <td>1</td>\n    </tr>\n    <tr>\n      <td>14000000.0000</td>\n      <td>30.0%</td>\n      <td>140000.0</td>\n      <td>0.5%</td>\n      <td>2</td>\n    </tr>\n    <tr>\n      <td>14000000.0000</td>\n      <td>30.0%</td>\n      <td>210000.0</td>\n      <td>0.5%</td>\n      <td>3</td>\n    </tr>\n    <tr>\n      <td>14000000.0000</td>\n      <td>30.0%</td>\n      <td>280000.0</td>\n      <td>0.5%</td>\n      <td>4</td>\n    </tr>\n    <tr>\n      <td>14000000.0000</td>\n      <td>30.0%</td>\n      <td>350000.0</td>\n      <td>0.5%</td>\n      <td>5</td>\n    </tr>\n    <tr>\n      <td>14000000.0000</td>\n      <td>30.0%</td>\n      <td>420000.0</td>\n      <td>0.5%</td>\n      <td>6</td>\n    </tr>\n    <tr>\n      <td>15000000.0000</td>\n      <td>30.0%</td>\n      <td>22500.0</td>\n      <td>0.5%</td>\n      <td>1</td>\n    </tr>\n    <tr>\n      <td>15000000.0000</td>\n      <td>30.0%</td>\n      <td>150000.0</td>\n      <td>0.5%</td>\n      <td>2</td>\n    </tr>\n    <tr>\n      <td>15000000.0000</td>\n      <td>30.0%</td>\n      <td>225000.0</td>\n      <td>0.5%</td>\n      <td>3</td>\n    </tr>\n    <tr>\n      <td>15000000.0000</td>\n      <td>30.0%</td>\n      <td>300000.0</td>\n      <td>0.5%</td>\n      <td>4</td>\n    </tr>\n    <tr>\n      <td>15000000.0000</td>\n      <td>30.0%</td>\n      <td>375000.0</td>\n      <td>0.5%</td>\n      <td>5</td>\n    </tr>\n    <tr>\n      <td>15000000.0000</td>\n      <td>30.0%</td>\n      <td>450000.0</td>\n      <td>0.5%</td>\n      <td>6</td>\n    </tr>\n  </tbody>\n</table>"
     },
     "metadata": {},
     "output_type": "display_data"
    }
   ],
   "source": [
    "from IPython.core.display_functions import display\n",
    "import matplotlib.pyplot as plt\n",
    "import pandas as pd\n",
    "from IPython.display import HTML\n",
    "from notebooks.ebtc_research.generate_data import get_tables_mimlike\n",
    "\n",
    "plt.style.use('seaborn')\n",
    "pd.set_option('display.max_rows', 500)\n",
    "\n",
    "TABLE_HEADERS = [\"Volume in $\", \"Treasury Capture\", \"Projected Yearly Revenue in $\", \"Fee\", \"Leverage\"]\n",
    "revenue_tables, volumes = get_tables_mimlike()\n",
    "df = pd.DataFrame(data=[*revenue_tables], columns=TABLE_HEADERS)\n",
    "display(HTML(df.to_html(index=False)))"
   ],
   "metadata": {
    "collapsed": false,
    "pycharm": {
     "name": "#%%\n"
    }
   }
  },
  {
   "cell_type": "code",
   "execution_count": 32,
   "outputs": [
    {
     "data": {
      "text/plain": "<pandas.io.formats.style.Styler at 0x1570ff340>",
      "text/html": "<style type=\"text/css\">\n#T_e7231 th {\n  vertical-align: center;\n  text-align: center;\n  font-size: 12px;\n}\n#T_e7231 caption {\n  color: black;\n  font-size: 10px;\n  font-weight: bold;\n  caption-side: bottom;\n}\n#T_e7231 th:not(.index_name) {\n  background-color: lightblue;\n  color: white;\n}\n#T_e7231 th.col_heading.level0 {\n  font-size: 15px;\n  background-color: darkblue;\n  border: 1px solid darkblue;\n}\n#T_e7231 th.col_heading.level1 {\n  background-color: darkblue;\n  border: 1px solid darkblue;\n}\n#T_e7231 td:hover {\n  background-color: #ffffb3;\n}\n#T_e7231 th {\n  border: 1px solid lightblue;\n}\n#T_e7231 .row0 {\n  border: 2px solid darkblue;\n  background-color: lightblue;\n  color: white;\n  font-weight: bold;\n}\n</style>\n<table id=\"T_e7231\">\n  <caption>Some Caption</caption>\n  <thead>\n    <tr>\n      <th class=\"blank\" >&nbsp;</th>\n      <th class=\"blank level0\" >&nbsp;</th>\n      <th id=\"T_e7231_level0_col0\" class=\"col_heading level0 col0\" colspan=\"4\">data</th>\n    </tr>\n    <tr>\n      <th class=\"blank\" >&nbsp;</th>\n      <th class=\"blank level1\" >&nbsp;</th>\n      <th id=\"T_e7231_level1_col0\" class=\"col_heading level1 col0\" ></th>\n      <th id=\"T_e7231_level1_col1\" class=\"col_heading level1 col1\" >  </th>\n      <th id=\"T_e7231_level1_col2\" class=\"col_heading level1 col2\" >   </th>\n      <th id=\"T_e7231_level1_col3\" class=\"col_heading level1 col3\" >    </th>\n    </tr>\n  </thead>\n  <tbody>\n    <tr>\n      <th id=\"T_e7231_level0_row0\" class=\"row_heading level0 row0\" >Type</th>\n      <th id=\"T_e7231_level1_row0\" class=\"row_heading level1 row0\" ></th>\n      <td id=\"T_e7231_row0_col0\" class=\"data row0 col0\" >a</td>\n      <td id=\"T_e7231_row0_col1\" class=\"data row0 col1\" >b</td>\n      <td id=\"T_e7231_row0_col2\" class=\"data row0 col2\" >c</td>\n      <td id=\"T_e7231_row0_col3\" class=\"data row0 col3\" >d</td>\n    </tr>\n    <tr>\n      <th id=\"T_e7231_level0_row1\" class=\"row_heading level0 row1\" rowspan=\"3\">alpha</th>\n      <th id=\"T_e7231_level1_row1\" class=\"row_heading level1 row1\" >x</th>\n      <td id=\"T_e7231_row1_col0\" class=\"data row1 col0\" >1</td>\n      <td id=\"T_e7231_row1_col1\" class=\"data row1 col1\" >2</td>\n      <td id=\"T_e7231_row1_col2\" class=\"data row1 col2\" >3</td>\n      <td id=\"T_e7231_row1_col3\" class=\"data row1 col3\" >4</td>\n    </tr>\n    <tr>\n      <th id=\"T_e7231_level1_row2\" class=\"row_heading level1 row2\" >y</th>\n      <td id=\"T_e7231_row2_col0\" class=\"data row2 col0\" >5</td>\n      <td id=\"T_e7231_row2_col1\" class=\"data row2 col1\" >6</td>\n      <td id=\"T_e7231_row2_col2\" class=\"data row2 col2\" >7</td>\n      <td id=\"T_e7231_row2_col3\" class=\"data row2 col3\" >8</td>\n    </tr>\n    <tr>\n      <th id=\"T_e7231_level1_row3\" class=\"row_heading level1 row3\" >z</th>\n      <td id=\"T_e7231_row3_col0\" class=\"data row3 col0\" >9</td>\n      <td id=\"T_e7231_row3_col1\" class=\"data row3 col1\" >10</td>\n      <td id=\"T_e7231_row3_col2\" class=\"data row3 col2\" >11</td>\n      <td id=\"T_e7231_row3_col3\" class=\"data row3 col3\" >12</td>\n    </tr>\n    <tr>\n      <th id=\"T_e7231_level0_row4\" class=\"row_heading level0 row4\" >beta</th>\n      <th id=\"T_e7231_level1_row4\" class=\"row_heading level1 row4\" ></th>\n      <td id=\"T_e7231_row4_col0\" class=\"data row4 col0\" >13</td>\n      <td id=\"T_e7231_row4_col1\" class=\"data row4 col1\" >14</td>\n      <td id=\"T_e7231_row4_col2\" class=\"data row4 col2\" >15</td>\n      <td id=\"T_e7231_row4_col3\" class=\"data row4 col3\" >16</td>\n    </tr>\n  </tbody>\n</table>\n"
     },
     "execution_count": 32,
     "metadata": {},
     "output_type": "execute_result"
    }
   ],
   "source": [
    "# create a table summary\n",
    "index = pd.MultiIndex.from_tuples([(\"Type\", ''), (\"alpha\", \"x\"),\n",
    "                           (\"alpha\", \"y\"),\n",
    "                           (\"alpha\",\"z\"),\n",
    "                            (\"beta\", '')])\n",
    "\n",
    "data = [['a', 'b', 'c', 'd'],\n",
    "        [1, 2, 3, 4],\n",
    "        [5, 6, 7, 8],\n",
    "        [9, 10, 11, 12],\n",
    "        [13, 14, 15, 16]]\n",
    "\n",
    "table = pd.DataFrame(data = data,\n",
    "                      index = index,\n",
    "                      columns =  pd.MultiIndex.from_product([['data'], ['', '  ', '   ', '    ']]))\n",
    "\n",
    "\n",
    "# set styles\n",
    "styles=[{'selector':'th','props': [\n",
    "        ('vertical-align','center'),\n",
    "        ('text-align', 'center'),\n",
    "        ('font-size', '12px')]},\n",
    "\n",
    "        {'selector': 'caption','props': [\n",
    "        ('color', 'black'),\n",
    "        ('font-size', '10px'),\n",
    "        ('font-weight', 'bold'),\n",
    "        ('caption-side', 'bottom')]},\n",
    "\n",
    "        {'selector': 'th:not(.index_name)', 'props': [\n",
    "        ('background-color', 'lightblue'),\n",
    "        ('color', 'white')]},\n",
    "\n",
    "        {'selector': 'th.col_heading.level0', 'props': [\n",
    "        ('font-size', '15px'),\n",
    "        ('background-color', 'darkblue'),\n",
    "        (\"border\", \"1px solid darkblue\")]},\n",
    "\n",
    "        {'selector': 'th.col_heading.level1', 'props': [\n",
    "        ('background-color', 'darkblue'),\n",
    "        (\"border\", \"1px solid darkblue\")]},\n",
    "\n",
    "        {'selector': 'td:hover', 'props': [\n",
    "        ('background-color', '#ffffb3')]},\n",
    "\n",
    "        {\"selector\": \"th\", \"props\": [\n",
    "        (\"border\", \"1px solid lightblue\")]},\n",
    "\n",
    "        {\"selector\" :\".row0\", \"props\": [\n",
    "        (\"border\",\"2px solid darkblue\"),\n",
    "        ('background-color', 'lightblue'),\n",
    "        ('color', 'white'),\n",
    "        ('font-weight', 'bold')]}]\n",
    "\n",
    "\n",
    "table = table.style.set_caption(\"Some Caption\").set_table_styles(styles)\n",
    "\n",
    "table"
   ],
   "metadata": {
    "collapsed": false,
    "pycharm": {
     "name": "#%%\n"
    }
   }
  }
 ],
 "metadata": {
  "kernelspec": {
   "display_name": "Python 3",
   "language": "python",
   "name": "python3"
  },
  "language_info": {
   "codemirror_mode": {
    "name": "ipython",
    "version": 2
   },
   "file_extension": ".py",
   "mimetype": "text/x-python",
   "name": "python",
   "nbconvert_exporter": "python",
   "pygments_lexer": "ipython2",
   "version": "2.7.6"
  }
 },
 "nbformat": 4,
 "nbformat_minor": 0
}