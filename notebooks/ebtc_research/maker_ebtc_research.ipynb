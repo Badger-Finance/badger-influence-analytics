{
 "cells": [
  {
   "cell_type": "markdown",
   "source": [
    "## Fees research\n",
    "Based on DAI CDP protocol\n",
    "\n",
    "There are two types of fees in DAI protocol\n",
    "- Liquidation\n",
    "- Borrow fee\n",
    "\n",
    "We are interested in Borrow Fee(also called Variable Annual Fee).\n",
    "\n",
    "A fundamental feature of the MCD system is to accumulate stability fees on Vault debt balances.\n",
    "\n",
    "Example of how fee works:\n",
    "> Stability Fee is set to 2%, it will accumulate at 0.000000000627937192491029810% per second. At the end of year one, the user will owe exactly 2% on the principal.\n",
    "\n",
    "Assuming the user borrows 100 Dai and the rate doesn’t change, at the end of year one they would have a debt of 102.00 Dai. At the end of year two, they would have a debt of 104.04 Dai.\n",
    "\n",
    "### Key points about borrow fees:\n",
    "- Fees accrue over a year\n",
    "- Different protocols(ETH-C, ETH-B, ETH-A, ...) have different stability fees based on collateral ratio, that is based on risk exposure. For example, for collateral 170.00% fee is 0.5%, while for collateral of 145.00% fee is larger - 1.5%\n",
    "\n",
    "## Multiply feature(Leverage)\n",
    "\n",
    "Oasis Multiply is a feature that allows you to immediately utilize your borrowed Dai to buy more collateral within Oasis.app. This means that you can increase or decrease your exposure to a single asset without having to perform multiple transactions or go to other apps to perform the exchange.\n",
    "\n",
    "It sounds like a two-way borrow market\n"
   ],
   "metadata": {
    "collapsed": false,
    "pycharm": {
     "name": "#%% md\n"
    }
   }
  },
  {
   "cell_type": "markdown",
   "source": [
    "## Now, let's first model the case for plain borrowing with variable fees"
   ],
   "metadata": {
    "collapsed": false,
    "pycharm": {
     "name": "#%% md\n"
    }
   }
  },
  {
   "cell_type": "code",
   "execution_count": null,
   "outputs": [],
   "source": [],
   "metadata": {
    "collapsed": false,
    "pycharm": {
     "name": "#%%\n"
    }
   }
  }
 ],
 "metadata": {
  "kernelspec": {
   "display_name": "Python 3",
   "language": "python",
   "name": "python3"
  },
  "language_info": {
   "codemirror_mode": {
    "name": "ipython",
    "version": 2
   },
   "file_extension": ".py",
   "mimetype": "text/x-python",
   "name": "python",
   "nbconvert_exporter": "python",
   "pygments_lexer": "ipython2",
   "version": "2.7.6"
  }
 },
 "nbformat": 4,
 "nbformat_minor": 0
}