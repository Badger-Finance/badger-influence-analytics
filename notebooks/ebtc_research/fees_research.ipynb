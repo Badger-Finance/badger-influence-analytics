{
 "cells": [
  {
   "cell_type": "markdown",
   "source": [
    "## Fees research\n",
    "\n",
    "Refer to this document: https://hackmd.io/mxBUtD7rQrqHhK3l-5jw5g"
   ],
   "metadata": {
    "collapsed": false,
    "pycharm": {
     "name": "#%% md\n"
    }
   }
  },
  {
   "cell_type": "markdown",
   "source": [
    "## Yearly simulations fixed minimal fee\n",
    "\n",
    "Minimal fixed fee in Liquity is 0.5% and can grow up to 5% depending on protocol state\n",
    "Starting with 10m dollars volume and going up to \\$150m volume"
   ],
   "metadata": {
    "collapsed": false,
    "pycharm": {
     "name": "#%% md\n"
    }
   }
  },
  {
   "cell_type": "code",
   "execution_count": 22,
   "outputs": [
    {
     "data": {
      "text/plain": "           Volume  Projected Yearly Revenue  Fee\n0    1000000.0000                    5000.0  0.5\n1    2000000.0000                   10000.0  0.5\n2    3000000.0000                   15000.0  0.5\n3    4000000.0000                   20000.0  0.5\n4    5000000.0000                   25000.0  0.5\n5    6000000.0000                   30000.0  0.5\n6    7000000.0000                   35000.0  0.5\n7    8000000.0000                   40000.0  0.5\n8    9000000.0000                   45000.0  0.5\n9   10000000.0000                   50000.0  0.5\n10  11000000.0000                   55000.0  0.5\n11  12000000.0000                   60000.0  0.5\n12  13000000.0000                   65000.0  0.5\n13  14000000.0000                   70000.0  0.5\n14  15000000.0000                   75000.0  0.5",
      "text/html": "<div>\n<style scoped>\n    .dataframe tbody tr th:only-of-type {\n        vertical-align: middle;\n    }\n\n    .dataframe tbody tr th {\n        vertical-align: top;\n    }\n\n    .dataframe thead th {\n        text-align: right;\n    }\n</style>\n<table border=\"1\" class=\"dataframe\">\n  <thead>\n    <tr style=\"text-align: right;\">\n      <th></th>\n      <th>Volume</th>\n      <th>Projected Yearly Revenue</th>\n      <th>Fee</th>\n    </tr>\n  </thead>\n  <tbody>\n    <tr>\n      <th>0</th>\n      <td>1000000.0000</td>\n      <td>5000.0</td>\n      <td>0.5</td>\n    </tr>\n    <tr>\n      <th>1</th>\n      <td>2000000.0000</td>\n      <td>10000.0</td>\n      <td>0.5</td>\n    </tr>\n    <tr>\n      <th>2</th>\n      <td>3000000.0000</td>\n      <td>15000.0</td>\n      <td>0.5</td>\n    </tr>\n    <tr>\n      <th>3</th>\n      <td>4000000.0000</td>\n      <td>20000.0</td>\n      <td>0.5</td>\n    </tr>\n    <tr>\n      <th>4</th>\n      <td>5000000.0000</td>\n      <td>25000.0</td>\n      <td>0.5</td>\n    </tr>\n    <tr>\n      <th>5</th>\n      <td>6000000.0000</td>\n      <td>30000.0</td>\n      <td>0.5</td>\n    </tr>\n    <tr>\n      <th>6</th>\n      <td>7000000.0000</td>\n      <td>35000.0</td>\n      <td>0.5</td>\n    </tr>\n    <tr>\n      <th>7</th>\n      <td>8000000.0000</td>\n      <td>40000.0</td>\n      <td>0.5</td>\n    </tr>\n    <tr>\n      <th>8</th>\n      <td>9000000.0000</td>\n      <td>45000.0</td>\n      <td>0.5</td>\n    </tr>\n    <tr>\n      <th>9</th>\n      <td>10000000.0000</td>\n      <td>50000.0</td>\n      <td>0.5</td>\n    </tr>\n    <tr>\n      <th>10</th>\n      <td>11000000.0000</td>\n      <td>55000.0</td>\n      <td>0.5</td>\n    </tr>\n    <tr>\n      <th>11</th>\n      <td>12000000.0000</td>\n      <td>60000.0</td>\n      <td>0.5</td>\n    </tr>\n    <tr>\n      <th>12</th>\n      <td>13000000.0000</td>\n      <td>65000.0</td>\n      <td>0.5</td>\n    </tr>\n    <tr>\n      <th>13</th>\n      <td>14000000.0000</td>\n      <td>70000.0</td>\n      <td>0.5</td>\n    </tr>\n    <tr>\n      <th>14</th>\n      <td>15000000.0000</td>\n      <td>75000.0</td>\n      <td>0.5</td>\n    </tr>\n  </tbody>\n</table>\n</div>"
     },
     "metadata": {},
     "output_type": "display_data"
    }
   ],
   "source": [
    "from random import uniform\n",
    "\n",
    "import pandas as pd\n",
    "from IPython.core.display_functions import display\n",
    "\n",
    "TABLE_HEADERS = [\"Volume\", \"Projected Yearly Revenue\", \"Fee\"]\n",
    "MINIMAL_FEE = 0.005  # in %\n",
    "MAX_FEE = 0.05  # in %\n",
    "# Starting with 10m volume\n",
    "SIMULATED_VOLUME = 1000000\n",
    "\n",
    "volumes = []\n",
    "for volume_multiplier in range(1, 16):\n",
    "    volumes.append(SIMULATED_VOLUME * volume_multiplier)\n",
    "revenue_table_minimal_fees = []\n",
    "revenue_table_randomized_fees = []\n",
    "for sim_volume in volumes:\n",
    "    revenue_table_minimal_fees.append([\"{:10.4f}\".format(sim_volume), sim_volume * MINIMAL_FEE, MINIMAL_FEE * 100])\n",
    "    random_fee = uniform(float(MINIMAL_FEE), float(MAX_FEE))\n",
    "    revenue_table_randomized_fees.append([\"{:10.4f}\".format(sim_volume), sim_volume * random_fee, random_fee * 100])\n",
    "\n",
    "dataframe = pd.DataFrame(data=revenue_table_minimal_fees, columns=TABLE_HEADERS)\n",
    "display(dataframe)"
   ],
   "metadata": {
    "collapsed": false,
    "pycharm": {
     "name": "#%%\n"
    }
   }
  }
 ],
 "metadata": {
  "kernelspec": {
   "display_name": "Python 3",
   "language": "python",
   "name": "python3"
  },
  "language_info": {
   "codemirror_mode": {
    "name": "ipython",
    "version": 2
   },
   "file_extension": ".py",
   "mimetype": "text/x-python",
   "name": "python",
   "nbconvert_exporter": "python",
   "pygments_lexer": "ipython2",
   "version": "2.7.6"
  }
 },
 "nbformat": 4,
 "nbformat_minor": 0
}