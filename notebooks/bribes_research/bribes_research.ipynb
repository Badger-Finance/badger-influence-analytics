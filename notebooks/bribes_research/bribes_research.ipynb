{
 "cells": [
  {
   "cell_type": "markdown",
   "source": [
    "## Bribes research"
   ],
   "metadata": {
    "collapsed": false,
    "pycharm": {
     "name": "#%% md\n"
    }
   }
  },
  {
   "cell_type": "code",
   "execution_count": 34,
   "outputs": [
    {
     "name": "stdout",
     "output_type": "stream",
     "text": [
      "CVX $I/O if consuming 100% bribes is 137.83588649666675%\n",
      "AURA $I/O if consuming 100% bribes is 111.92339066855205%\n",
      "CVX $I/O if consuming 50% bribes is 142.50119346737745%\n",
      "AURA $I/O if consuming 50% bribes is 180.29249415360653%\n",
      "Estimated BADGER bribe for CVX: 40902.85895616573$. Percent from total bribes: 24.06%. $I/O: 144.9215075791447\n",
      "Estimated BADGER bribe for AURA: 129097.14104383427$. Percent from total bribes: 75.94%. $I/O: 144.82329416041887\n"
     ]
    }
   ],
   "source": [
    "import math\n",
    "\n",
    "import requests\n",
    "\n",
    "from notebooks.bribes_research.helpers import fetch_token_prices\n",
    "\n",
    "BADGER_BRIBE = 40000\n",
    "\n",
    "BRIBES_URL = \"https://api.llama.airforce/bribes\"\n",
    "DASHBOARD_URL = \"https://api.llama.airforce//dashboard\"\n",
    "\n",
    "token_prices = fetch_token_prices(['badger-dao'])\n",
    "badger_price = token_prices['badger-dao']['usd']\n",
    "badger_bribe_in_dollar = BADGER_BRIBE * badger_price\n",
    "\n",
    "cvx_bribes = requests.post(BRIBES_URL, json={'platform': \"votium\", 'protocol': \"cvx-crv\"}).json()\n",
    "cvx_dash = requests.post(DASHBOARD_URL, json={\"id\": \"bribes-overview-votium\"}).json()\n",
    "aura_bribes = requests.post(BRIBES_URL, json={'platform': \"hh\", 'protocol': \"aura-bal\"}).json()\n",
    "aura_dash = requests.post(DASHBOARD_URL, json={\"id\": \"bribes-overview-aura\"}).json()\n",
    "\n",
    "total_bribes_cvx = sum([bribe['amountDollars'] for bribe in cvx_bribes['epoch']['bribes']])\n",
    "dollar_spent_on_bribes_cvx = cvx_dash['dashboard']['rewardPerDollarBribe']\n",
    "\n",
    "total_bribes_aura = sum([bribe['amountDollars'] for bribe in aura_bribes['epoch']['bribes']])\n",
    "dollar_spent_on_bribes_aura = aura_dash['dashboard']['rewardPerDollarBribe']\n",
    "\n",
    "cvx_dilution_100 = badger_bribe_in_dollar / total_bribes_cvx * 100\n",
    "aura_dilution_100 = badger_bribe_in_dollar / total_bribes_aura * 100\n",
    "\n",
    "cvx_in_out_100 = (100 - cvx_dilution_100) * dollar_spent_on_bribes_cvx\n",
    "aura_in_out_100 = (100 - aura_dilution_100) * dollar_spent_on_bribes_aura\n",
    "\n",
    "print(f\"CVX $I/O if consuming 100% bribes is {cvx_in_out_100}%\")\n",
    "print(f\"AURA $I/O if consuming 100% bribes is {aura_in_out_100}%\")\n",
    "\n",
    "# Rebalancing bribe values\n",
    "cvx_dilution_50 = ((badger_bribe_in_dollar / 2) / total_bribes_cvx * 100)\n",
    "aura_dilution_50 = ((badger_bribe_in_dollar / 2) / total_bribes_aura * 100)\n",
    "\n",
    "cvx_in_out_50 = (100 - cvx_dilution_50) * dollar_spent_on_bribes_cvx\n",
    "aura_in_out_50 = (100 - aura_dilution_50) * dollar_spent_on_bribes_aura\n",
    "print(f\"CVX $I/O if consuming 50% bribes is {cvx_in_out_50}%\")\n",
    "print(f\"AURA $I/O if consuming 50% bribes is {aura_in_out_50}%\")\n",
    "\n",
    "# Rebalance here\n",
    "cvx_in_out_floating = cvx_in_out_50\n",
    "aura_in_out_floating = aura_in_out_50\n",
    "rebalancing_step = 0.01  # in %\n",
    "cvx_bribe_portion = aura_bribe_portion = badger_bribe_in_dollar / 2\n",
    "while not math.isclose(cvx_in_out_floating, aura_in_out_floating, abs_tol=0.5):\n",
    "    if cvx_in_out_floating > aura_in_out_floating:\n",
    "        # Take bribe portion from aura and give it to cvx\n",
    "        bribe_stolen = aura_bribe_portion * rebalancing_step\n",
    "        aura_bribe_portion -= bribe_stolen\n",
    "        cvx_bribe_portion += bribe_stolen\n",
    "    elif aura_in_out_floating > cvx_in_out_floating:\n",
    "        # Take bribe portion from cvx and give it to aura\n",
    "        bribe_stolen = aura_bribe_portion * rebalancing_step\n",
    "        cvx_bribe_portion -= bribe_stolen\n",
    "        aura_bribe_portion += bribe_stolen\n",
    "    cvx_dilution =  cvx_bribe_portion / total_bribes_cvx * 100\n",
    "    aura_dilution = aura_bribe_portion / total_bribes_aura * 100\n",
    "    cvx_in_out_floating = (100 - cvx_dilution) * dollar_spent_on_bribes_cvx\n",
    "    aura_in_out_floating = (100 - aura_dilution) * dollar_spent_on_bribes_aura\n",
    "\n",
    "print(f\"Estimated BADGER bribe for CVX: {cvx_bribe_portion}$. Percent from total bribes: {round(cvx_bribe_portion / badger_bribe_in_dollar * 100, 2)}%. $I/O: {cvx_in_out_floating}\")\n",
    "print(f\"Estimated BADGER bribe for AURA: {aura_bribe_portion}$. Percent from total bribes: {round(aura_bribe_portion / badger_bribe_in_dollar * 100, 2)}%. $I/O: {aura_in_out_floating}\")"
   ],
   "metadata": {
    "collapsed": false,
    "pycharm": {
     "name": "#%%\n"
    }
   }
  }
 ],
 "metadata": {
  "kernelspec": {
   "display_name": "Python 3",
   "language": "python",
   "name": "python3"
  },
  "language_info": {
   "codemirror_mode": {
    "name": "ipython",
    "version": 2
   },
   "file_extension": ".py",
   "mimetype": "text/x-python",
   "name": "python",
   "nbconvert_exporter": "python",
   "pygments_lexer": "ipython2",
   "version": "2.7.6"
  }
 },
 "nbformat": 4,
 "nbformat_minor": 0
}