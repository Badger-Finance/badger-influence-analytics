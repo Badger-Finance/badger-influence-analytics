{
 "cells": [
  {
   "cell_type": "markdown",
   "source": [
    "## Bribes research"
   ],
   "metadata": {
    "collapsed": false,
    "pycharm": {
     "name": "#%% md\n"
    }
   }
  },
  {
   "cell_type": "code",
   "execution_count": 2,
   "outputs": [
    {
     "data": {
      "text/plain": "   Protocol  BADGER bribe  Total bribe in $    Fees  Bribes Portion %  \\\n0       CVX          2000            8179.2   340.8              0.10   \n1      AURA          2000            8179.2   340.8             99.90   \n2       CVX          4000           16358.4   681.6              0.10   \n3      AURA          4000           16358.4   681.6             99.90   \n4       CVX          6000           24537.6  1022.4              0.10   \n5      AURA          6000           24537.6  1022.4             99.90   \n6       CVX          8000           32716.8  1363.2              0.10   \n7      AURA          8000           32716.8  1363.2             99.90   \n8       CVX         10000           40896.0  1704.0              0.10   \n9      AURA         10000           40896.0  1704.0             99.90   \n10      CVX         12000           49075.2  2044.8              0.10   \n11     AURA         12000           49075.2  2044.8             99.90   \n12      CVX         14000           57254.4  2385.6              0.10   \n13     AURA         14000           57254.4  2385.6             99.90   \n14      CVX         16000           65433.6  2726.4              0.10   \n15     AURA         16000           65433.6  2726.4             99.90   \n16      CVX         18000           73612.8  3067.2              0.10   \n17     AURA         18000           73612.8  3067.2             99.90   \n18      CVX         20000           81792.0  3408.0              0.10   \n19     AURA         20000           81792.0  3408.0             99.90   \n20      CVX         22000           89971.2  3748.8              0.10   \n21     AURA         22000           89971.2  3748.8             99.90   \n22      CVX         24000           98150.4  4089.6              0.10   \n23     AURA         24000           98150.4  4089.6             99.90   \n24      CVX         26000          106329.6  4430.4              0.10   \n25     AURA         26000          106329.6  4430.4             99.90   \n26      CVX         28000          114508.8  4771.2              0.10   \n27     AURA         28000          114508.8  4771.2             99.90   \n28      CVX         30000          122688.0  5112.0              0.10   \n29     AURA         30000          122688.0  5112.0             99.90   \n30      CVX         32000          130867.2  5452.8              3.32   \n31     AURA         32000          130867.2  5452.8             96.68   \n32      CVX         34000          139046.4  5793.6              8.63   \n33     AURA         34000          139046.4  5793.6             91.37   \n34      CVX         36000          147225.6  6134.4             13.35   \n35     AURA         36000          147225.6  6134.4             86.65   \n36      CVX         38000          155404.8  6475.2             17.58   \n37     AURA         38000          155404.8  6475.2             82.42   \n38      CVX         40000          163584.0  6816.0             21.38   \n39     AURA         40000          163584.0  6816.0             78.62   \n\n    Bribes Portion   Dilution        $I/O  \n0         8.507184   0.000312  149.218290  \n1      8170.692816   2.622002  245.060201  \n2        17.014369   0.000625  149.217824  \n3     16341.385631   5.244004  238.461704  \n4        25.521553   0.000937  149.217358  \n5     24512.078447   7.866006  231.863208  \n6        34.028737   0.001250  149.216892  \n7     32682.771263  10.488008  225.264712  \n8        42.535922   0.001562  149.216425  \n9     40853.464078  13.110010  218.666216  \n10       51.043106   0.001875  149.215959  \n11    49024.156894  15.732012  212.067720  \n12       59.550290   0.002187  149.215493  \n13    57194.849710  18.354014  205.469223  \n14       68.057475   0.002500  149.215027  \n15    65365.542525  20.976016  198.870727  \n16       76.564659   0.002812  149.214560  \n17    73536.235341  23.598019  192.272231  \n18       85.071843   0.003125  149.214094  \n19    81706.928157  26.220021  185.673735  \n20       93.579028   0.003437  149.213628  \n21    89877.620972  28.842023  179.075239  \n22      102.086212   0.003749  149.213162  \n23    98048.313788  31.464025  172.476742  \n24      110.593397   0.004062  149.212696  \n25   106219.006603  34.086027  165.878246  \n26      119.100581   0.004374  149.212229  \n27   114389.699419  36.708029  159.279750  \n28      127.607765   0.004687  149.211763  \n29   122560.392235  39.330031  152.681254  \n30     4343.126929   0.159517  148.980728  \n31   126524.073071  40.601989  149.480260  \n32    12001.890262   0.440812  148.560982  \n33   127044.509738  40.768999  149.059966  \n34    19661.858287   0.722152  148.141170  \n35   127563.741713  40.935622  148.640644  \n36    27321.139773   1.003467  147.721396  \n37   128083.660227  41.102466  148.220768  \n38    34980.095037   1.284769  147.301640  \n39   128603.904963  41.269414  147.800628  ",
      "text/html": "<div>\n<style scoped>\n    .dataframe tbody tr th:only-of-type {\n        vertical-align: middle;\n    }\n\n    .dataframe tbody tr th {\n        vertical-align: top;\n    }\n\n    .dataframe thead th {\n        text-align: right;\n    }\n</style>\n<table border=\"1\" class=\"dataframe\">\n  <thead>\n    <tr style=\"text-align: right;\">\n      <th></th>\n      <th>Protocol</th>\n      <th>BADGER bribe</th>\n      <th>Total bribe in $</th>\n      <th>Fees</th>\n      <th>Bribes Portion %</th>\n      <th>Bribes Portion</th>\n      <th>Dilution</th>\n      <th>$I/O</th>\n    </tr>\n  </thead>\n  <tbody>\n    <tr>\n      <th>0</th>\n      <td>CVX</td>\n      <td>2000</td>\n      <td>8179.2</td>\n      <td>340.8</td>\n      <td>0.10</td>\n      <td>8.507184</td>\n      <td>0.000312</td>\n      <td>149.218290</td>\n    </tr>\n    <tr>\n      <th>1</th>\n      <td>AURA</td>\n      <td>2000</td>\n      <td>8179.2</td>\n      <td>340.8</td>\n      <td>99.90</td>\n      <td>8170.692816</td>\n      <td>2.622002</td>\n      <td>245.060201</td>\n    </tr>\n    <tr>\n      <th>2</th>\n      <td>CVX</td>\n      <td>4000</td>\n      <td>16358.4</td>\n      <td>681.6</td>\n      <td>0.10</td>\n      <td>17.014369</td>\n      <td>0.000625</td>\n      <td>149.217824</td>\n    </tr>\n    <tr>\n      <th>3</th>\n      <td>AURA</td>\n      <td>4000</td>\n      <td>16358.4</td>\n      <td>681.6</td>\n      <td>99.90</td>\n      <td>16341.385631</td>\n      <td>5.244004</td>\n      <td>238.461704</td>\n    </tr>\n    <tr>\n      <th>4</th>\n      <td>CVX</td>\n      <td>6000</td>\n      <td>24537.6</td>\n      <td>1022.4</td>\n      <td>0.10</td>\n      <td>25.521553</td>\n      <td>0.000937</td>\n      <td>149.217358</td>\n    </tr>\n    <tr>\n      <th>5</th>\n      <td>AURA</td>\n      <td>6000</td>\n      <td>24537.6</td>\n      <td>1022.4</td>\n      <td>99.90</td>\n      <td>24512.078447</td>\n      <td>7.866006</td>\n      <td>231.863208</td>\n    </tr>\n    <tr>\n      <th>6</th>\n      <td>CVX</td>\n      <td>8000</td>\n      <td>32716.8</td>\n      <td>1363.2</td>\n      <td>0.10</td>\n      <td>34.028737</td>\n      <td>0.001250</td>\n      <td>149.216892</td>\n    </tr>\n    <tr>\n      <th>7</th>\n      <td>AURA</td>\n      <td>8000</td>\n      <td>32716.8</td>\n      <td>1363.2</td>\n      <td>99.90</td>\n      <td>32682.771263</td>\n      <td>10.488008</td>\n      <td>225.264712</td>\n    </tr>\n    <tr>\n      <th>8</th>\n      <td>CVX</td>\n      <td>10000</td>\n      <td>40896.0</td>\n      <td>1704.0</td>\n      <td>0.10</td>\n      <td>42.535922</td>\n      <td>0.001562</td>\n      <td>149.216425</td>\n    </tr>\n    <tr>\n      <th>9</th>\n      <td>AURA</td>\n      <td>10000</td>\n      <td>40896.0</td>\n      <td>1704.0</td>\n      <td>99.90</td>\n      <td>40853.464078</td>\n      <td>13.110010</td>\n      <td>218.666216</td>\n    </tr>\n    <tr>\n      <th>10</th>\n      <td>CVX</td>\n      <td>12000</td>\n      <td>49075.2</td>\n      <td>2044.8</td>\n      <td>0.10</td>\n      <td>51.043106</td>\n      <td>0.001875</td>\n      <td>149.215959</td>\n    </tr>\n    <tr>\n      <th>11</th>\n      <td>AURA</td>\n      <td>12000</td>\n      <td>49075.2</td>\n      <td>2044.8</td>\n      <td>99.90</td>\n      <td>49024.156894</td>\n      <td>15.732012</td>\n      <td>212.067720</td>\n    </tr>\n    <tr>\n      <th>12</th>\n      <td>CVX</td>\n      <td>14000</td>\n      <td>57254.4</td>\n      <td>2385.6</td>\n      <td>0.10</td>\n      <td>59.550290</td>\n      <td>0.002187</td>\n      <td>149.215493</td>\n    </tr>\n    <tr>\n      <th>13</th>\n      <td>AURA</td>\n      <td>14000</td>\n      <td>57254.4</td>\n      <td>2385.6</td>\n      <td>99.90</td>\n      <td>57194.849710</td>\n      <td>18.354014</td>\n      <td>205.469223</td>\n    </tr>\n    <tr>\n      <th>14</th>\n      <td>CVX</td>\n      <td>16000</td>\n      <td>65433.6</td>\n      <td>2726.4</td>\n      <td>0.10</td>\n      <td>68.057475</td>\n      <td>0.002500</td>\n      <td>149.215027</td>\n    </tr>\n    <tr>\n      <th>15</th>\n      <td>AURA</td>\n      <td>16000</td>\n      <td>65433.6</td>\n      <td>2726.4</td>\n      <td>99.90</td>\n      <td>65365.542525</td>\n      <td>20.976016</td>\n      <td>198.870727</td>\n    </tr>\n    <tr>\n      <th>16</th>\n      <td>CVX</td>\n      <td>18000</td>\n      <td>73612.8</td>\n      <td>3067.2</td>\n      <td>0.10</td>\n      <td>76.564659</td>\n      <td>0.002812</td>\n      <td>149.214560</td>\n    </tr>\n    <tr>\n      <th>17</th>\n      <td>AURA</td>\n      <td>18000</td>\n      <td>73612.8</td>\n      <td>3067.2</td>\n      <td>99.90</td>\n      <td>73536.235341</td>\n      <td>23.598019</td>\n      <td>192.272231</td>\n    </tr>\n    <tr>\n      <th>18</th>\n      <td>CVX</td>\n      <td>20000</td>\n      <td>81792.0</td>\n      <td>3408.0</td>\n      <td>0.10</td>\n      <td>85.071843</td>\n      <td>0.003125</td>\n      <td>149.214094</td>\n    </tr>\n    <tr>\n      <th>19</th>\n      <td>AURA</td>\n      <td>20000</td>\n      <td>81792.0</td>\n      <td>3408.0</td>\n      <td>99.90</td>\n      <td>81706.928157</td>\n      <td>26.220021</td>\n      <td>185.673735</td>\n    </tr>\n    <tr>\n      <th>20</th>\n      <td>CVX</td>\n      <td>22000</td>\n      <td>89971.2</td>\n      <td>3748.8</td>\n      <td>0.10</td>\n      <td>93.579028</td>\n      <td>0.003437</td>\n      <td>149.213628</td>\n    </tr>\n    <tr>\n      <th>21</th>\n      <td>AURA</td>\n      <td>22000</td>\n      <td>89971.2</td>\n      <td>3748.8</td>\n      <td>99.90</td>\n      <td>89877.620972</td>\n      <td>28.842023</td>\n      <td>179.075239</td>\n    </tr>\n    <tr>\n      <th>22</th>\n      <td>CVX</td>\n      <td>24000</td>\n      <td>98150.4</td>\n      <td>4089.6</td>\n      <td>0.10</td>\n      <td>102.086212</td>\n      <td>0.003749</td>\n      <td>149.213162</td>\n    </tr>\n    <tr>\n      <th>23</th>\n      <td>AURA</td>\n      <td>24000</td>\n      <td>98150.4</td>\n      <td>4089.6</td>\n      <td>99.90</td>\n      <td>98048.313788</td>\n      <td>31.464025</td>\n      <td>172.476742</td>\n    </tr>\n    <tr>\n      <th>24</th>\n      <td>CVX</td>\n      <td>26000</td>\n      <td>106329.6</td>\n      <td>4430.4</td>\n      <td>0.10</td>\n      <td>110.593397</td>\n      <td>0.004062</td>\n      <td>149.212696</td>\n    </tr>\n    <tr>\n      <th>25</th>\n      <td>AURA</td>\n      <td>26000</td>\n      <td>106329.6</td>\n      <td>4430.4</td>\n      <td>99.90</td>\n      <td>106219.006603</td>\n      <td>34.086027</td>\n      <td>165.878246</td>\n    </tr>\n    <tr>\n      <th>26</th>\n      <td>CVX</td>\n      <td>28000</td>\n      <td>114508.8</td>\n      <td>4771.2</td>\n      <td>0.10</td>\n      <td>119.100581</td>\n      <td>0.004374</td>\n      <td>149.212229</td>\n    </tr>\n    <tr>\n      <th>27</th>\n      <td>AURA</td>\n      <td>28000</td>\n      <td>114508.8</td>\n      <td>4771.2</td>\n      <td>99.90</td>\n      <td>114389.699419</td>\n      <td>36.708029</td>\n      <td>159.279750</td>\n    </tr>\n    <tr>\n      <th>28</th>\n      <td>CVX</td>\n      <td>30000</td>\n      <td>122688.0</td>\n      <td>5112.0</td>\n      <td>0.10</td>\n      <td>127.607765</td>\n      <td>0.004687</td>\n      <td>149.211763</td>\n    </tr>\n    <tr>\n      <th>29</th>\n      <td>AURA</td>\n      <td>30000</td>\n      <td>122688.0</td>\n      <td>5112.0</td>\n      <td>99.90</td>\n      <td>122560.392235</td>\n      <td>39.330031</td>\n      <td>152.681254</td>\n    </tr>\n    <tr>\n      <th>30</th>\n      <td>CVX</td>\n      <td>32000</td>\n      <td>130867.2</td>\n      <td>5452.8</td>\n      <td>3.32</td>\n      <td>4343.126929</td>\n      <td>0.159517</td>\n      <td>148.980728</td>\n    </tr>\n    <tr>\n      <th>31</th>\n      <td>AURA</td>\n      <td>32000</td>\n      <td>130867.2</td>\n      <td>5452.8</td>\n      <td>96.68</td>\n      <td>126524.073071</td>\n      <td>40.601989</td>\n      <td>149.480260</td>\n    </tr>\n    <tr>\n      <th>32</th>\n      <td>CVX</td>\n      <td>34000</td>\n      <td>139046.4</td>\n      <td>5793.6</td>\n      <td>8.63</td>\n      <td>12001.890262</td>\n      <td>0.440812</td>\n      <td>148.560982</td>\n    </tr>\n    <tr>\n      <th>33</th>\n      <td>AURA</td>\n      <td>34000</td>\n      <td>139046.4</td>\n      <td>5793.6</td>\n      <td>91.37</td>\n      <td>127044.509738</td>\n      <td>40.768999</td>\n      <td>149.059966</td>\n    </tr>\n    <tr>\n      <th>34</th>\n      <td>CVX</td>\n      <td>36000</td>\n      <td>147225.6</td>\n      <td>6134.4</td>\n      <td>13.35</td>\n      <td>19661.858287</td>\n      <td>0.722152</td>\n      <td>148.141170</td>\n    </tr>\n    <tr>\n      <th>35</th>\n      <td>AURA</td>\n      <td>36000</td>\n      <td>147225.6</td>\n      <td>6134.4</td>\n      <td>86.65</td>\n      <td>127563.741713</td>\n      <td>40.935622</td>\n      <td>148.640644</td>\n    </tr>\n    <tr>\n      <th>36</th>\n      <td>CVX</td>\n      <td>38000</td>\n      <td>155404.8</td>\n      <td>6475.2</td>\n      <td>17.58</td>\n      <td>27321.139773</td>\n      <td>1.003467</td>\n      <td>147.721396</td>\n    </tr>\n    <tr>\n      <th>37</th>\n      <td>AURA</td>\n      <td>38000</td>\n      <td>155404.8</td>\n      <td>6475.2</td>\n      <td>82.42</td>\n      <td>128083.660227</td>\n      <td>41.102466</td>\n      <td>148.220768</td>\n    </tr>\n    <tr>\n      <th>38</th>\n      <td>CVX</td>\n      <td>40000</td>\n      <td>163584.0</td>\n      <td>6816.0</td>\n      <td>21.38</td>\n      <td>34980.095037</td>\n      <td>1.284769</td>\n      <td>147.301640</td>\n    </tr>\n    <tr>\n      <th>39</th>\n      <td>AURA</td>\n      <td>40000</td>\n      <td>163584.0</td>\n      <td>6816.0</td>\n      <td>78.62</td>\n      <td>128603.904963</td>\n      <td>41.269414</td>\n      <td>147.800628</td>\n    </tr>\n  </tbody>\n</table>\n</div>"
     },
     "metadata": {},
     "output_type": "display_data"
    }
   ],
   "source": [
    "import math\n",
    "\n",
    "import pandas as pd\n",
    "import requests\n",
    "from IPython.core.display_functions import display\n",
    "\n",
    "from notebooks.bribes_research.constants import BRIBES_URL\n",
    "from notebooks.bribes_research.constants import DASHBOARD_URL\n",
    "from notebooks.bribes_research.constants import PROTOCOL_AURA\n",
    "from notebooks.bribes_research.constants import PROTOCOL_CVX\n",
    "from notebooks.bribes_research.constants import TABLE_COLUMNS\n",
    "from notebooks.bribes_research.helpers import calculate_metrics\n",
    "from notebooks.bribes_research.helpers import fetch_token_prices\n",
    "\n",
    "pd.set_option('display.max_rows', 500)\n",
    "BADGER_BRIBE = 42000\n",
    "STEP = 2000\n",
    "BADGER_LOW_BOUND = 2000\n",
    "BADGER_UPPER_BOUND = BADGER_BRIBE\n",
    "# HH and Votium take 4% on all bribes\n",
    "FEE = 0.04  # in %\n",
    "\n",
    "REBALANCING_STEP = 0.00001  # in %\n",
    "\n",
    "table_rows = []\n",
    "token_prices = fetch_token_prices(['badger-dao'])\n",
    "badger_price = token_prices['badger-dao']['usd']\n",
    "\n",
    "cvx_bribes = requests.post(BRIBES_URL, json={'platform': \"votium\", 'protocol': \"cvx-crv\"}).json()\n",
    "cvx_dash = requests.post(DASHBOARD_URL, json={\"id\": \"bribes-overview-votium\"}).json()\n",
    "aura_bribes = requests.post(BRIBES_URL, json={'platform': \"hh\", 'protocol': \"aura-bal\"}).json()\n",
    "aura_dash = requests.post(DASHBOARD_URL, json={\"id\": \"bribes-overview-aura\"}).json()\n",
    "total_bribes_cvx = sum([bribe['amountDollars'] for bribe in cvx_bribes['epoch']['bribes']])\n",
    "dollar_spent_on_bribes_cvx = cvx_dash['dashboard']['rewardPerDollarBribe']\n",
    "\n",
    "total_bribes_aura = sum([bribe['amountDollars'] for bribe in aura_bribes['epoch']['bribes']])\n",
    "dollar_spent_on_bribes_aura = aura_dash['dashboard']['rewardPerDollarBribe']\n",
    "\n",
    "\n",
    "for bribe in range(BADGER_LOW_BOUND, BADGER_UPPER_BOUND, STEP):\n",
    "    badger_bribe_in_dollar = bribe * badger_price\n",
    "    fees = badger_bribe_in_dollar * FEE\n",
    "    badger_bribe_in_dollar_after_fees = badger_bribe_in_dollar - fees\n",
    "    cvx_dilution_50, cvx_in_out_50 = calculate_metrics(badger_bribe_in_dollar_after_fees / 2, total_bribes_cvx,\n",
    "                                                       dollar_spent_on_bribes_cvx)\n",
    "    aura_dilution_50, aura_in_out_50 = calculate_metrics(badger_bribe_in_dollar_after_fees / 2, total_bribes_aura,\n",
    "                                                         dollar_spent_on_bribes_aura)\n",
    "\n",
    "    # Rebalance here\n",
    "    cvx_in_out_floating = cvx_in_out_50\n",
    "    aura_in_out_floating = aura_in_out_50\n",
    "\n",
    "    cvx_bribe_portion = aura_bribe_portion = badger_bribe_in_dollar_after_fees / 2\n",
    "    cvx_dilution = None\n",
    "    aura_dilution = None\n",
    "    while not math.isclose(cvx_in_out_floating, aura_in_out_floating, abs_tol=0.5):\n",
    "        # Do not allow negative numbers\n",
    "        cvx_bribe_portion_percent = round(cvx_bribe_portion / badger_bribe_in_dollar_after_fees * 100, 2)\n",
    "        aura_bribe_portion_percent = round(aura_bribe_portion / badger_bribe_in_dollar_after_fees * 100, 2)\n",
    "        if math.isclose(cvx_bribe_portion_percent, 0, abs_tol=0.1) or math.isclose(aura_bribe_portion_percent, 0, abs_tol=0.1):\n",
    "            break\n",
    "        if cvx_in_out_floating > aura_in_out_floating:\n",
    "            # Take bribe portion from aura and give it to cvx\n",
    "            bribe_stolen = aura_bribe_portion * REBALANCING_STEP\n",
    "            aura_bribe_portion -= bribe_stolen\n",
    "            cvx_bribe_portion += bribe_stolen\n",
    "        elif aura_in_out_floating > cvx_in_out_floating:\n",
    "            # Take bribe portion from cvx and give it to aura\n",
    "            bribe_stolen = aura_bribe_portion * REBALANCING_STEP\n",
    "            cvx_bribe_portion -= bribe_stolen\n",
    "            aura_bribe_portion += bribe_stolen\n",
    "        if cvx_bribe_portion <= 0 or aura_bribe_portion <= 0:\n",
    "            break\n",
    "        cvx_dilution, cvx_in_out_floating = calculate_metrics(cvx_bribe_portion, total_bribes_cvx,\n",
    "                                                              dollar_spent_on_bribes_cvx)\n",
    "        aura_dilution, aura_in_out_floating = calculate_metrics(aura_bribe_portion, total_bribes_aura,\n",
    "                                                                dollar_spent_on_bribes_aura)\n",
    "\n",
    "    table_rows.append(\n",
    "        [PROTOCOL_CVX, bribe, badger_bribe_in_dollar_after_fees, fees, round(cvx_bribe_portion / badger_bribe_in_dollar_after_fees * 100, 2),\n",
    "         cvx_bribe_portion, cvx_dilution, cvx_in_out_floating]\n",
    "    )\n",
    "    table_rows.append(\n",
    "        [PROTOCOL_AURA, bribe, badger_bribe_in_dollar_after_fees, fees, round(aura_bribe_portion / badger_bribe_in_dollar_after_fees * 100, 2),\n",
    "         aura_bribe_portion, aura_dilution, aura_in_out_floating]\n",
    "    )\n",
    "dataframe = pd.DataFrame(data=table_rows, columns=TABLE_COLUMNS)\n",
    "display(dataframe)"
   ],
   "metadata": {
    "collapsed": false,
    "pycharm": {
     "name": "#%%\n"
    }
   }
  }
 ],
 "metadata": {
  "kernelspec": {
   "display_name": "Python 3",
   "language": "python",
   "name": "python3"
  },
  "language_info": {
   "codemirror_mode": {
    "name": "ipython",
    "version": 2
   },
   "file_extension": ".py",
   "mimetype": "text/x-python",
   "name": "python",
   "nbconvert_exporter": "python",
   "pygments_lexer": "ipython2",
   "version": "2.7.6"
  }
 },
 "nbformat": 4,
 "nbformat_minor": 0
}