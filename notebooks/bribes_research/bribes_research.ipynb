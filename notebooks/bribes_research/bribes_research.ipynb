{
 "cells": [
  {
   "cell_type": "markdown",
   "source": [
    "## Bribes research"
   ],
   "metadata": {
    "collapsed": false,
    "pycharm": {
     "name": "#%% md\n"
    }
   }
  },
  {
   "cell_type": "code",
   "execution_count": 16,
   "outputs": [
    {
     "data": {
      "text/plain": "   Protocol  BADGER total bribe in $  Bribes Portion %  Bribes Portion  \\\n0       CVX                  85400.0             -0.34     -288.795830   \n1      AURA                  85400.0            100.34    85688.795830   \n2       CVX                  93940.0             -0.34     -317.675414   \n3      AURA                  93940.0            100.34    94257.675414   \n4       CVX                 102480.0             -0.34     -346.554997   \n5      AURA                 102480.0            100.34   102826.554997   \n6       CVX                 111020.0             -0.34     -375.434580   \n7      AURA                 111020.0            100.34   111395.434580   \n8       CVX                 119560.0             -0.34     -404.314163   \n9      AURA                 119560.0            100.34   119964.314163   \n10      CVX                 128100.0             -0.34     -433.193746   \n11     AURA                 128100.0            100.34   128533.193746   \n12      CVX                 136640.0              5.48     7483.645077   \n13     AURA                 136640.0             94.52   129156.354923   \n14      CVX                 145180.0             10.06    14611.669952   \n15     AURA                 145180.0             89.94   130568.330048   \n16      CVX                 153720.0             15.28    23483.357791   \n17     AURA                 153720.0             84.72   130236.642209   \n18      CVX                 162260.0             19.39    31460.098318   \n19     AURA                 162260.0             80.61   130799.901682   \n20      CVX                 170800.0             22.53    38488.279393   \n21     AURA                 170800.0             77.47   132311.720607   \n22      CVX                 179340.0             26.29    47155.434663   \n23     AURA                 179340.0             73.71   132184.565337   \n24      CVX                 187880.0             29.17    54804.337098   \n25     AURA                 187880.0             70.83   133075.662902   \n26      CVX                 196420.0             31.93    62724.035605   \n27     AURA                 196420.0             68.07   133695.964395   \n28      CVX                 204960.0             34.59    70894.754171   \n29     AURA                 204960.0             65.41   134065.245829   \n30      CVX                 213500.0             37.14    79297.847791   \n31     AURA                 213500.0             62.86   134202.152209   \n32      CVX                 222040.0             38.99    86574.501765   \n33     AURA                 222040.0             61.01   135465.498235   \n34      CVX                 230580.0             41.37    95393.408027   \n35     AURA                 230580.0             58.63   135186.591973   \n36      CVX                 239120.0             43.10   103049.567391   \n37     AURA                 239120.0             56.90   136070.432609   \n38      CVX                 247660.0             44.77   110874.642210   \n39     AURA                 247660.0             55.23   136785.357790   \n\n     Dilution        $I/O  \n0    0.020767  149.510989  \n1   27.047464  185.478033  \n2    0.022844  149.507883  \n3   29.752210  178.601355  \n4    0.024920  149.504778  \n5   32.456957  171.724678  \n6    0.026997  149.501672  \n7   35.161703  164.848001  \n8    0.029074  149.498567  \n9   37.866449  157.971324  \n10   0.031151  149.495461  \n11  40.571196  151.094647  \n12   0.277718  149.126739  \n13  41.175574  149.558046  \n14   0.542238  148.731170  \n15  41.625718  148.413580  \n16   0.871466  148.238836  \n17  41.519974  148.682427  \n18   1.167483  147.796167  \n19  41.699544  148.225881  \n20   1.428298  147.406138  \n21  42.181518  147.000487  \n22   1.749936  146.925155  \n23  42.140980  147.103552  \n24   2.033786  146.500679  \n25  42.425066  146.381279  \n26   2.327686  146.061175  \n27  42.622820  145.878498  \n28   2.630901  145.607742  \n29  42.740549  145.579180  \n30   2.942739  145.141412  \n31  42.784195  145.468211  \n32   3.212775  144.737594  \n33  43.186955  144.444215  \n34   3.540044  144.248189  \n35  43.098038  144.670281  \n36   3.824164  143.823311  \n37  43.379810  143.953890  \n38   4.114552  143.389059  \n39  43.607731  143.374413  ",
      "text/html": "<div>\n<style scoped>\n    .dataframe tbody tr th:only-of-type {\n        vertical-align: middle;\n    }\n\n    .dataframe tbody tr th {\n        vertical-align: top;\n    }\n\n    .dataframe thead th {\n        text-align: right;\n    }\n</style>\n<table border=\"1\" class=\"dataframe\">\n  <thead>\n    <tr style=\"text-align: right;\">\n      <th></th>\n      <th>Protocol</th>\n      <th>BADGER total bribe in $</th>\n      <th>Bribes Portion %</th>\n      <th>Bribes Portion</th>\n      <th>Dilution</th>\n      <th>$I/O</th>\n    </tr>\n  </thead>\n  <tbody>\n    <tr>\n      <th>0</th>\n      <td>CVX</td>\n      <td>85400.0</td>\n      <td>-0.34</td>\n      <td>-288.795830</td>\n      <td>0.020767</td>\n      <td>149.510989</td>\n    </tr>\n    <tr>\n      <th>1</th>\n      <td>AURA</td>\n      <td>85400.0</td>\n      <td>100.34</td>\n      <td>85688.795830</td>\n      <td>27.047464</td>\n      <td>185.478033</td>\n    </tr>\n    <tr>\n      <th>2</th>\n      <td>CVX</td>\n      <td>93940.0</td>\n      <td>-0.34</td>\n      <td>-317.675414</td>\n      <td>0.022844</td>\n      <td>149.507883</td>\n    </tr>\n    <tr>\n      <th>3</th>\n      <td>AURA</td>\n      <td>93940.0</td>\n      <td>100.34</td>\n      <td>94257.675414</td>\n      <td>29.752210</td>\n      <td>178.601355</td>\n    </tr>\n    <tr>\n      <th>4</th>\n      <td>CVX</td>\n      <td>102480.0</td>\n      <td>-0.34</td>\n      <td>-346.554997</td>\n      <td>0.024920</td>\n      <td>149.504778</td>\n    </tr>\n    <tr>\n      <th>5</th>\n      <td>AURA</td>\n      <td>102480.0</td>\n      <td>100.34</td>\n      <td>102826.554997</td>\n      <td>32.456957</td>\n      <td>171.724678</td>\n    </tr>\n    <tr>\n      <th>6</th>\n      <td>CVX</td>\n      <td>111020.0</td>\n      <td>-0.34</td>\n      <td>-375.434580</td>\n      <td>0.026997</td>\n      <td>149.501672</td>\n    </tr>\n    <tr>\n      <th>7</th>\n      <td>AURA</td>\n      <td>111020.0</td>\n      <td>100.34</td>\n      <td>111395.434580</td>\n      <td>35.161703</td>\n      <td>164.848001</td>\n    </tr>\n    <tr>\n      <th>8</th>\n      <td>CVX</td>\n      <td>119560.0</td>\n      <td>-0.34</td>\n      <td>-404.314163</td>\n      <td>0.029074</td>\n      <td>149.498567</td>\n    </tr>\n    <tr>\n      <th>9</th>\n      <td>AURA</td>\n      <td>119560.0</td>\n      <td>100.34</td>\n      <td>119964.314163</td>\n      <td>37.866449</td>\n      <td>157.971324</td>\n    </tr>\n    <tr>\n      <th>10</th>\n      <td>CVX</td>\n      <td>128100.0</td>\n      <td>-0.34</td>\n      <td>-433.193746</td>\n      <td>0.031151</td>\n      <td>149.495461</td>\n    </tr>\n    <tr>\n      <th>11</th>\n      <td>AURA</td>\n      <td>128100.0</td>\n      <td>100.34</td>\n      <td>128533.193746</td>\n      <td>40.571196</td>\n      <td>151.094647</td>\n    </tr>\n    <tr>\n      <th>12</th>\n      <td>CVX</td>\n      <td>136640.0</td>\n      <td>5.48</td>\n      <td>7483.645077</td>\n      <td>0.277718</td>\n      <td>149.126739</td>\n    </tr>\n    <tr>\n      <th>13</th>\n      <td>AURA</td>\n      <td>136640.0</td>\n      <td>94.52</td>\n      <td>129156.354923</td>\n      <td>41.175574</td>\n      <td>149.558046</td>\n    </tr>\n    <tr>\n      <th>14</th>\n      <td>CVX</td>\n      <td>145180.0</td>\n      <td>10.06</td>\n      <td>14611.669952</td>\n      <td>0.542238</td>\n      <td>148.731170</td>\n    </tr>\n    <tr>\n      <th>15</th>\n      <td>AURA</td>\n      <td>145180.0</td>\n      <td>89.94</td>\n      <td>130568.330048</td>\n      <td>41.625718</td>\n      <td>148.413580</td>\n    </tr>\n    <tr>\n      <th>16</th>\n      <td>CVX</td>\n      <td>153720.0</td>\n      <td>15.28</td>\n      <td>23483.357791</td>\n      <td>0.871466</td>\n      <td>148.238836</td>\n    </tr>\n    <tr>\n      <th>17</th>\n      <td>AURA</td>\n      <td>153720.0</td>\n      <td>84.72</td>\n      <td>130236.642209</td>\n      <td>41.519974</td>\n      <td>148.682427</td>\n    </tr>\n    <tr>\n      <th>18</th>\n      <td>CVX</td>\n      <td>162260.0</td>\n      <td>19.39</td>\n      <td>31460.098318</td>\n      <td>1.167483</td>\n      <td>147.796167</td>\n    </tr>\n    <tr>\n      <th>19</th>\n      <td>AURA</td>\n      <td>162260.0</td>\n      <td>80.61</td>\n      <td>130799.901682</td>\n      <td>41.699544</td>\n      <td>148.225881</td>\n    </tr>\n    <tr>\n      <th>20</th>\n      <td>CVX</td>\n      <td>170800.0</td>\n      <td>22.53</td>\n      <td>38488.279393</td>\n      <td>1.428298</td>\n      <td>147.406138</td>\n    </tr>\n    <tr>\n      <th>21</th>\n      <td>AURA</td>\n      <td>170800.0</td>\n      <td>77.47</td>\n      <td>132311.720607</td>\n      <td>42.181518</td>\n      <td>147.000487</td>\n    </tr>\n    <tr>\n      <th>22</th>\n      <td>CVX</td>\n      <td>179340.0</td>\n      <td>26.29</td>\n      <td>47155.434663</td>\n      <td>1.749936</td>\n      <td>146.925155</td>\n    </tr>\n    <tr>\n      <th>23</th>\n      <td>AURA</td>\n      <td>179340.0</td>\n      <td>73.71</td>\n      <td>132184.565337</td>\n      <td>42.140980</td>\n      <td>147.103552</td>\n    </tr>\n    <tr>\n      <th>24</th>\n      <td>CVX</td>\n      <td>187880.0</td>\n      <td>29.17</td>\n      <td>54804.337098</td>\n      <td>2.033786</td>\n      <td>146.500679</td>\n    </tr>\n    <tr>\n      <th>25</th>\n      <td>AURA</td>\n      <td>187880.0</td>\n      <td>70.83</td>\n      <td>133075.662902</td>\n      <td>42.425066</td>\n      <td>146.381279</td>\n    </tr>\n    <tr>\n      <th>26</th>\n      <td>CVX</td>\n      <td>196420.0</td>\n      <td>31.93</td>\n      <td>62724.035605</td>\n      <td>2.327686</td>\n      <td>146.061175</td>\n    </tr>\n    <tr>\n      <th>27</th>\n      <td>AURA</td>\n      <td>196420.0</td>\n      <td>68.07</td>\n      <td>133695.964395</td>\n      <td>42.622820</td>\n      <td>145.878498</td>\n    </tr>\n    <tr>\n      <th>28</th>\n      <td>CVX</td>\n      <td>204960.0</td>\n      <td>34.59</td>\n      <td>70894.754171</td>\n      <td>2.630901</td>\n      <td>145.607742</td>\n    </tr>\n    <tr>\n      <th>29</th>\n      <td>AURA</td>\n      <td>204960.0</td>\n      <td>65.41</td>\n      <td>134065.245829</td>\n      <td>42.740549</td>\n      <td>145.579180</td>\n    </tr>\n    <tr>\n      <th>30</th>\n      <td>CVX</td>\n      <td>213500.0</td>\n      <td>37.14</td>\n      <td>79297.847791</td>\n      <td>2.942739</td>\n      <td>145.141412</td>\n    </tr>\n    <tr>\n      <th>31</th>\n      <td>AURA</td>\n      <td>213500.0</td>\n      <td>62.86</td>\n      <td>134202.152209</td>\n      <td>42.784195</td>\n      <td>145.468211</td>\n    </tr>\n    <tr>\n      <th>32</th>\n      <td>CVX</td>\n      <td>222040.0</td>\n      <td>38.99</td>\n      <td>86574.501765</td>\n      <td>3.212775</td>\n      <td>144.737594</td>\n    </tr>\n    <tr>\n      <th>33</th>\n      <td>AURA</td>\n      <td>222040.0</td>\n      <td>61.01</td>\n      <td>135465.498235</td>\n      <td>43.186955</td>\n      <td>144.444215</td>\n    </tr>\n    <tr>\n      <th>34</th>\n      <td>CVX</td>\n      <td>230580.0</td>\n      <td>41.37</td>\n      <td>95393.408027</td>\n      <td>3.540044</td>\n      <td>144.248189</td>\n    </tr>\n    <tr>\n      <th>35</th>\n      <td>AURA</td>\n      <td>230580.0</td>\n      <td>58.63</td>\n      <td>135186.591973</td>\n      <td>43.098038</td>\n      <td>144.670281</td>\n    </tr>\n    <tr>\n      <th>36</th>\n      <td>CVX</td>\n      <td>239120.0</td>\n      <td>43.10</td>\n      <td>103049.567391</td>\n      <td>3.824164</td>\n      <td>143.823311</td>\n    </tr>\n    <tr>\n      <th>37</th>\n      <td>AURA</td>\n      <td>239120.0</td>\n      <td>56.90</td>\n      <td>136070.432609</td>\n      <td>43.379810</td>\n      <td>143.953890</td>\n    </tr>\n    <tr>\n      <th>38</th>\n      <td>CVX</td>\n      <td>247660.0</td>\n      <td>44.77</td>\n      <td>110874.642210</td>\n      <td>4.114552</td>\n      <td>143.389059</td>\n    </tr>\n    <tr>\n      <th>39</th>\n      <td>AURA</td>\n      <td>247660.0</td>\n      <td>55.23</td>\n      <td>136785.357790</td>\n      <td>43.607731</td>\n      <td>143.374413</td>\n    </tr>\n  </tbody>\n</table>\n</div>"
     },
     "metadata": {},
     "output_type": "display_data"
    }
   ],
   "source": [
    "import math\n",
    "\n",
    "import pandas as pd\n",
    "import requests\n",
    "from IPython.core.display_functions import display\n",
    "\n",
    "from notebooks.bribes_research.constants import BRIBES_URL\n",
    "from notebooks.bribes_research.constants import DASHBOARD_URL\n",
    "from notebooks.bribes_research.constants import PROTOCOL_AURA\n",
    "from notebooks.bribes_research.constants import PROTOCOL_CVX\n",
    "from notebooks.bribes_research.constants import TABLE_COLUMNS\n",
    "from notebooks.bribes_research.helpers import calculate_metrics\n",
    "from notebooks.bribes_research.helpers import fetch_token_prices\n",
    "\n",
    "pd.set_option('display.max_rows', 500)\n",
    "BADGER_BRIBE = 40000\n",
    "DELTA = 20000\n",
    "STEP = 2000\n",
    "BADGER_LOW_BOUND = BADGER_BRIBE - DELTA\n",
    "BADGER_UPPER_BOUND = BADGER_BRIBE + DELTA\n",
    "\n",
    "table_rows = []\n",
    "token_prices = fetch_token_prices(['badger-dao'])\n",
    "badger_price = token_prices['badger-dao']['usd']\n",
    "\n",
    "cvx_bribes = requests.post(BRIBES_URL, json={'platform': \"votium\", 'protocol': \"cvx-crv\"}).json()\n",
    "cvx_dash = requests.post(DASHBOARD_URL, json={\"id\": \"bribes-overview-votium\"}).json()\n",
    "aura_bribes = requests.post(BRIBES_URL, json={'platform': \"hh\", 'protocol': \"aura-bal\"}).json()\n",
    "aura_dash = requests.post(DASHBOARD_URL, json={\"id\": \"bribes-overview-aura\"}).json()\n",
    "total_bribes_cvx = sum([bribe['amountDollars'] for bribe in cvx_bribes['epoch']['bribes']])\n",
    "dollar_spent_on_bribes_cvx = cvx_dash['dashboard']['rewardPerDollarBribe']\n",
    "\n",
    "total_bribes_aura = sum([bribe['amountDollars'] for bribe in aura_bribes['epoch']['bribes']])\n",
    "dollar_spent_on_bribes_aura = aura_dash['dashboard']['rewardPerDollarBribe']\n",
    "for bribe in range(BADGER_LOW_BOUND, BADGER_UPPER_BOUND, STEP):\n",
    "    badger_bribe_in_dollar = bribe * badger_price\n",
    "    # cvx_dilution_100, cvx_in_out_100 = calculate_metrics(badger_bribe_in_dollar, total_bribes_cvx,\n",
    "    #                                                      dollar_spent_on_bribes_cvx)\n",
    "    # table_rows.append(\n",
    "    #     [PROTOCOL_CVX, badger_bribe_in_dollar, (badger_bribe_in_dollar / badger_bribe_in_dollar) * 100,\n",
    "    #      badger_bribe_in_dollar, cvx_dilution_100, cvx_in_out_100]\n",
    "    # )\n",
    "    # aura_dilution_100, aura_in_out_100 = calculate_metrics(badger_bribe_in_dollar, total_bribes_aura,\n",
    "    #                                                        dollar_spent_on_bribes_aura)\n",
    "    # table_rows.append(\n",
    "    #     [PROTOCOL_AURA, badger_bribe_in_dollar, (badger_bribe_in_dollar / badger_bribe_in_dollar) * 100,\n",
    "    #      badger_bribe_in_dollar, aura_dilution_100, aura_in_out_100]\n",
    "    # )\n",
    "    cvx_dilution_50, cvx_in_out_50 = calculate_metrics(badger_bribe_in_dollar / 2, total_bribes_cvx,\n",
    "                                                       dollar_spent_on_bribes_cvx)\n",
    "    aura_dilution_50, aura_in_out_50 = calculate_metrics(badger_bribe_in_dollar / 2, total_bribes_aura,\n",
    "                                                         dollar_spent_on_bribes_aura)\n",
    "    # table_rows.append(\n",
    "    #     [PROTOCOL_AURA, badger_bribe_in_dollar, ((badger_bribe_in_dollar / 2) / badger_bribe_in_dollar) * 100,\n",
    "    #      badger_bribe_in_dollar / 2, aura_dilution_50, aura_in_out_50]\n",
    "    # )\n",
    "\n",
    "    # Rebalance here\n",
    "    cvx_in_out_floating = cvx_in_out_50\n",
    "    aura_in_out_floating = aura_in_out_50\n",
    "    rebalancing_step = 0.01  # in %\n",
    "    cvx_bribe_portion = aura_bribe_portion = badger_bribe_in_dollar / 2\n",
    "    cvx_dilution = None\n",
    "    aura_dilution = None\n",
    "    while not math.isclose(cvx_in_out_floating, aura_in_out_floating, abs_tol=0.5):\n",
    "        if cvx_in_out_floating > aura_in_out_floating:\n",
    "            # Take bribe portion from aura and give it to cvx\n",
    "            bribe_stolen = aura_bribe_portion * rebalancing_step\n",
    "            aura_bribe_portion -= bribe_stolen\n",
    "            cvx_bribe_portion += bribe_stolen\n",
    "        elif aura_in_out_floating > cvx_in_out_floating:\n",
    "            # Take bribe portion from cvx and give it to aura\n",
    "            bribe_stolen = aura_bribe_portion * rebalancing_step\n",
    "            cvx_bribe_portion -= bribe_stolen\n",
    "            aura_bribe_portion += bribe_stolen\n",
    "        if cvx_bribe_portion <= 0 or aura_bribe_portion <= 0:\n",
    "            break\n",
    "        cvx_dilution, cvx_in_out_floating = calculate_metrics(cvx_bribe_portion, total_bribes_cvx,\n",
    "                                                              dollar_spent_on_bribes_cvx)\n",
    "        aura_dilution, aura_in_out_floating = calculate_metrics(aura_bribe_portion, total_bribes_aura,\n",
    "                                                                dollar_spent_on_bribes_aura)\n",
    "\n",
    "    table_rows.append(\n",
    "        [PROTOCOL_CVX, badger_bribe_in_dollar, round(cvx_bribe_portion / badger_bribe_in_dollar * 100, 2),\n",
    "         cvx_bribe_portion, cvx_dilution, cvx_in_out_floating]\n",
    "    )\n",
    "    table_rows.append(\n",
    "        [PROTOCOL_AURA, badger_bribe_in_dollar, round(aura_bribe_portion / badger_bribe_in_dollar * 100, 2),\n",
    "         aura_bribe_portion, aura_dilution, aura_in_out_floating]\n",
    "    )\n",
    "dataframe = pd.DataFrame(data=table_rows, columns=TABLE_COLUMNS)\n",
    "display(dataframe)"
   ],
   "metadata": {
    "collapsed": false,
    "pycharm": {
     "name": "#%%\n"
    }
   }
  }
 ],
 "metadata": {
  "kernelspec": {
   "display_name": "Python 3",
   "language": "python",
   "name": "python3"
  },
  "language_info": {
   "codemirror_mode": {
    "name": "ipython",
    "version": 2
   },
   "file_extension": ".py",
   "mimetype": "text/x-python",
   "name": "python",
   "nbconvert_exporter": "python",
   "pygments_lexer": "ipython2",
   "version": "2.7.6"
  }
 },
 "nbformat": 4,
 "nbformat_minor": 0
}