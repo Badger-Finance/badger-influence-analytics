{
 "cells": [
  {
   "cell_type": "markdown",
   "source": [
    "## Bribes research"
   ],
   "metadata": {
    "collapsed": false,
    "pycharm": {
     "name": "#%% md\n"
    }
   }
  },
  {
   "cell_type": "code",
   "execution_count": 18,
   "outputs": [
    {
     "data": {
      "text/plain": "   Protocol  BADGER total bribe in $    Fees  Bribes Portion %  \\\n0       CVX                   8179.2   340.8              0.66   \n1      AURA                   8179.2   340.8             99.34   \n2       CVX                  16358.4   681.6              0.66   \n3      AURA                  16358.4   681.6             99.34   \n4       CVX                  24537.6  1022.4              0.66   \n5      AURA                  24537.6  1022.4             99.34   \n6       CVX                  32716.8  1363.2              0.66   \n7      AURA                  32716.8  1363.2             99.34   \n8       CVX                  40896.0  1704.0              0.66   \n9      AURA                  40896.0  1704.0             99.34   \n10      CVX                  49075.2  2044.8              0.66   \n11     AURA                  49075.2  2044.8             99.34   \n12      CVX                  57254.4  2385.6              0.66   \n13     AURA                  57254.4  2385.6             99.34   \n14      CVX                  65433.6  2726.4              0.66   \n15     AURA                  65433.6  2726.4             99.34   \n16      CVX                  73612.8  3067.2              0.66   \n17     AURA                  73612.8  3067.2             99.34   \n18      CVX                  81792.0  3408.0              0.66   \n19     AURA                  81792.0  3408.0             99.34   \n20      CVX                  89971.2  3748.8              0.66   \n21     AURA                  89971.2  3748.8             99.34   \n22      CVX                  98150.4  4089.6              0.66   \n23     AURA                  98150.4  4089.6             99.34   \n24      CVX                 106329.6  4430.4              0.66   \n25     AURA                 106329.6  4430.4             99.34   \n26      CVX                 114508.8  4771.2              0.66   \n27     AURA                 114508.8  4771.2             99.34   \n28      CVX                 122688.0  5112.0              0.66   \n29     AURA                 122688.0  5112.0             99.34   \n30      CVX                 130867.2  5452.8              2.61   \n31     AURA                 130867.2  5452.8             97.39   \n32      CVX                 139046.4  5793.6              8.26   \n33     AURA                 139046.4  5793.6             91.74   \n34      CVX                 147225.6  6134.4             12.71   \n35     AURA                 147225.6  6134.4             87.29   \n36      CVX                 155404.8  6475.2             16.95   \n37     AURA                 155404.8  6475.2             83.05   \n38      CVX                 163584.0  6816.0             20.98   \n39     AURA                 163584.0  6816.0             79.02   \n\n    Bribes Portion   Dilution        $I/O  \n0        53.596563   0.001988  149.245102  \n1      8125.603437   2.610087  245.097946  \n2       107.193126   0.003977  149.242135  \n3     16251.206874   5.220175  238.529226  \n4       160.789689   0.005965  149.239167  \n5     24376.810311   7.830262  231.960505  \n6       214.386252   0.007954  149.236199  \n7     32502.413748  10.440350  225.391785  \n8       267.982815   0.009942  149.233232  \n9     40628.017185  13.050437  218.823065  \n10      321.579378   0.011931  149.230264  \n11    48753.620622  15.660525  212.254345  \n12      375.175941   0.013919  149.227296  \n13    56879.224059  18.270612  205.685625  \n14      428.772504   0.015907  149.224329  \n15    65004.827496  20.880700  199.116905  \n16      482.369067   0.017896  149.221361  \n17    73130.430933  23.490787  192.548185  \n18      535.965630   0.019884  149.218393  \n19    81256.034370  26.100875  185.979465  \n20      589.562193   0.021873  149.215425  \n21    89381.637807  28.710962  179.410745  \n22      643.158756   0.023861  149.212458  \n23    97507.241244  31.321050  172.842025  \n24      696.755319   0.025850  149.209490  \n25   105632.844681  33.931137  166.273305  \n26      750.351882   0.027838  149.206522  \n27   113758.448118  36.541224  159.704585  \n28      803.948445   0.029826  149.203555  \n29   121884.051555  39.151312  153.135864  \n30     3419.248826   0.126854  149.058743  \n31   127447.951174  40.938535  148.638020  \n32    11480.806407   0.425938  148.612366  \n33   127565.593593  40.976324  148.542918  \n34    18711.650941   0.694202  148.211987  \n35   128513.949059  41.280952  147.776270  \n36    26335.041930   0.977030  147.789872  \n37   129069.758070  41.459488  147.326955  \n38    34315.109356   1.273090  147.348008  \n39   129268.890644  41.523453  147.165977  ",
      "text/html": "<div>\n<style scoped>\n    .dataframe tbody tr th:only-of-type {\n        vertical-align: middle;\n    }\n\n    .dataframe tbody tr th {\n        vertical-align: top;\n    }\n\n    .dataframe thead th {\n        text-align: right;\n    }\n</style>\n<table border=\"1\" class=\"dataframe\">\n  <thead>\n    <tr style=\"text-align: right;\">\n      <th></th>\n      <th>Protocol</th>\n      <th>BADGER total bribe in $</th>\n      <th>Fees</th>\n      <th>Bribes Portion %</th>\n      <th>Bribes Portion</th>\n      <th>Dilution</th>\n      <th>$I/O</th>\n    </tr>\n  </thead>\n  <tbody>\n    <tr>\n      <th>0</th>\n      <td>CVX</td>\n      <td>8179.2</td>\n      <td>340.8</td>\n      <td>0.66</td>\n      <td>53.596563</td>\n      <td>0.001988</td>\n      <td>149.245102</td>\n    </tr>\n    <tr>\n      <th>1</th>\n      <td>AURA</td>\n      <td>8179.2</td>\n      <td>340.8</td>\n      <td>99.34</td>\n      <td>8125.603437</td>\n      <td>2.610087</td>\n      <td>245.097946</td>\n    </tr>\n    <tr>\n      <th>2</th>\n      <td>CVX</td>\n      <td>16358.4</td>\n      <td>681.6</td>\n      <td>0.66</td>\n      <td>107.193126</td>\n      <td>0.003977</td>\n      <td>149.242135</td>\n    </tr>\n    <tr>\n      <th>3</th>\n      <td>AURA</td>\n      <td>16358.4</td>\n      <td>681.6</td>\n      <td>99.34</td>\n      <td>16251.206874</td>\n      <td>5.220175</td>\n      <td>238.529226</td>\n    </tr>\n    <tr>\n      <th>4</th>\n      <td>CVX</td>\n      <td>24537.6</td>\n      <td>1022.4</td>\n      <td>0.66</td>\n      <td>160.789689</td>\n      <td>0.005965</td>\n      <td>149.239167</td>\n    </tr>\n    <tr>\n      <th>5</th>\n      <td>AURA</td>\n      <td>24537.6</td>\n      <td>1022.4</td>\n      <td>99.34</td>\n      <td>24376.810311</td>\n      <td>7.830262</td>\n      <td>231.960505</td>\n    </tr>\n    <tr>\n      <th>6</th>\n      <td>CVX</td>\n      <td>32716.8</td>\n      <td>1363.2</td>\n      <td>0.66</td>\n      <td>214.386252</td>\n      <td>0.007954</td>\n      <td>149.236199</td>\n    </tr>\n    <tr>\n      <th>7</th>\n      <td>AURA</td>\n      <td>32716.8</td>\n      <td>1363.2</td>\n      <td>99.34</td>\n      <td>32502.413748</td>\n      <td>10.440350</td>\n      <td>225.391785</td>\n    </tr>\n    <tr>\n      <th>8</th>\n      <td>CVX</td>\n      <td>40896.0</td>\n      <td>1704.0</td>\n      <td>0.66</td>\n      <td>267.982815</td>\n      <td>0.009942</td>\n      <td>149.233232</td>\n    </tr>\n    <tr>\n      <th>9</th>\n      <td>AURA</td>\n      <td>40896.0</td>\n      <td>1704.0</td>\n      <td>99.34</td>\n      <td>40628.017185</td>\n      <td>13.050437</td>\n      <td>218.823065</td>\n    </tr>\n    <tr>\n      <th>10</th>\n      <td>CVX</td>\n      <td>49075.2</td>\n      <td>2044.8</td>\n      <td>0.66</td>\n      <td>321.579378</td>\n      <td>0.011931</td>\n      <td>149.230264</td>\n    </tr>\n    <tr>\n      <th>11</th>\n      <td>AURA</td>\n      <td>49075.2</td>\n      <td>2044.8</td>\n      <td>99.34</td>\n      <td>48753.620622</td>\n      <td>15.660525</td>\n      <td>212.254345</td>\n    </tr>\n    <tr>\n      <th>12</th>\n      <td>CVX</td>\n      <td>57254.4</td>\n      <td>2385.6</td>\n      <td>0.66</td>\n      <td>375.175941</td>\n      <td>0.013919</td>\n      <td>149.227296</td>\n    </tr>\n    <tr>\n      <th>13</th>\n      <td>AURA</td>\n      <td>57254.4</td>\n      <td>2385.6</td>\n      <td>99.34</td>\n      <td>56879.224059</td>\n      <td>18.270612</td>\n      <td>205.685625</td>\n    </tr>\n    <tr>\n      <th>14</th>\n      <td>CVX</td>\n      <td>65433.6</td>\n      <td>2726.4</td>\n      <td>0.66</td>\n      <td>428.772504</td>\n      <td>0.015907</td>\n      <td>149.224329</td>\n    </tr>\n    <tr>\n      <th>15</th>\n      <td>AURA</td>\n      <td>65433.6</td>\n      <td>2726.4</td>\n      <td>99.34</td>\n      <td>65004.827496</td>\n      <td>20.880700</td>\n      <td>199.116905</td>\n    </tr>\n    <tr>\n      <th>16</th>\n      <td>CVX</td>\n      <td>73612.8</td>\n      <td>3067.2</td>\n      <td>0.66</td>\n      <td>482.369067</td>\n      <td>0.017896</td>\n      <td>149.221361</td>\n    </tr>\n    <tr>\n      <th>17</th>\n      <td>AURA</td>\n      <td>73612.8</td>\n      <td>3067.2</td>\n      <td>99.34</td>\n      <td>73130.430933</td>\n      <td>23.490787</td>\n      <td>192.548185</td>\n    </tr>\n    <tr>\n      <th>18</th>\n      <td>CVX</td>\n      <td>81792.0</td>\n      <td>3408.0</td>\n      <td>0.66</td>\n      <td>535.965630</td>\n      <td>0.019884</td>\n      <td>149.218393</td>\n    </tr>\n    <tr>\n      <th>19</th>\n      <td>AURA</td>\n      <td>81792.0</td>\n      <td>3408.0</td>\n      <td>99.34</td>\n      <td>81256.034370</td>\n      <td>26.100875</td>\n      <td>185.979465</td>\n    </tr>\n    <tr>\n      <th>20</th>\n      <td>CVX</td>\n      <td>89971.2</td>\n      <td>3748.8</td>\n      <td>0.66</td>\n      <td>589.562193</td>\n      <td>0.021873</td>\n      <td>149.215425</td>\n    </tr>\n    <tr>\n      <th>21</th>\n      <td>AURA</td>\n      <td>89971.2</td>\n      <td>3748.8</td>\n      <td>99.34</td>\n      <td>89381.637807</td>\n      <td>28.710962</td>\n      <td>179.410745</td>\n    </tr>\n    <tr>\n      <th>22</th>\n      <td>CVX</td>\n      <td>98150.4</td>\n      <td>4089.6</td>\n      <td>0.66</td>\n      <td>643.158756</td>\n      <td>0.023861</td>\n      <td>149.212458</td>\n    </tr>\n    <tr>\n      <th>23</th>\n      <td>AURA</td>\n      <td>98150.4</td>\n      <td>4089.6</td>\n      <td>99.34</td>\n      <td>97507.241244</td>\n      <td>31.321050</td>\n      <td>172.842025</td>\n    </tr>\n    <tr>\n      <th>24</th>\n      <td>CVX</td>\n      <td>106329.6</td>\n      <td>4430.4</td>\n      <td>0.66</td>\n      <td>696.755319</td>\n      <td>0.025850</td>\n      <td>149.209490</td>\n    </tr>\n    <tr>\n      <th>25</th>\n      <td>AURA</td>\n      <td>106329.6</td>\n      <td>4430.4</td>\n      <td>99.34</td>\n      <td>105632.844681</td>\n      <td>33.931137</td>\n      <td>166.273305</td>\n    </tr>\n    <tr>\n      <th>26</th>\n      <td>CVX</td>\n      <td>114508.8</td>\n      <td>4771.2</td>\n      <td>0.66</td>\n      <td>750.351882</td>\n      <td>0.027838</td>\n      <td>149.206522</td>\n    </tr>\n    <tr>\n      <th>27</th>\n      <td>AURA</td>\n      <td>114508.8</td>\n      <td>4771.2</td>\n      <td>99.34</td>\n      <td>113758.448118</td>\n      <td>36.541224</td>\n      <td>159.704585</td>\n    </tr>\n    <tr>\n      <th>28</th>\n      <td>CVX</td>\n      <td>122688.0</td>\n      <td>5112.0</td>\n      <td>0.66</td>\n      <td>803.948445</td>\n      <td>0.029826</td>\n      <td>149.203555</td>\n    </tr>\n    <tr>\n      <th>29</th>\n      <td>AURA</td>\n      <td>122688.0</td>\n      <td>5112.0</td>\n      <td>99.34</td>\n      <td>121884.051555</td>\n      <td>39.151312</td>\n      <td>153.135864</td>\n    </tr>\n    <tr>\n      <th>30</th>\n      <td>CVX</td>\n      <td>130867.2</td>\n      <td>5452.8</td>\n      <td>2.61</td>\n      <td>3419.248826</td>\n      <td>0.126854</td>\n      <td>149.058743</td>\n    </tr>\n    <tr>\n      <th>31</th>\n      <td>AURA</td>\n      <td>130867.2</td>\n      <td>5452.8</td>\n      <td>97.39</td>\n      <td>127447.951174</td>\n      <td>40.938535</td>\n      <td>148.638020</td>\n    </tr>\n    <tr>\n      <th>32</th>\n      <td>CVX</td>\n      <td>139046.4</td>\n      <td>5793.6</td>\n      <td>8.26</td>\n      <td>11480.806407</td>\n      <td>0.425938</td>\n      <td>148.612366</td>\n    </tr>\n    <tr>\n      <th>33</th>\n      <td>AURA</td>\n      <td>139046.4</td>\n      <td>5793.6</td>\n      <td>91.74</td>\n      <td>127565.593593</td>\n      <td>40.976324</td>\n      <td>148.542918</td>\n    </tr>\n    <tr>\n      <th>34</th>\n      <td>CVX</td>\n      <td>147225.6</td>\n      <td>6134.4</td>\n      <td>12.71</td>\n      <td>18711.650941</td>\n      <td>0.694202</td>\n      <td>148.211987</td>\n    </tr>\n    <tr>\n      <th>35</th>\n      <td>AURA</td>\n      <td>147225.6</td>\n      <td>6134.4</td>\n      <td>87.29</td>\n      <td>128513.949059</td>\n      <td>41.280952</td>\n      <td>147.776270</td>\n    </tr>\n    <tr>\n      <th>36</th>\n      <td>CVX</td>\n      <td>155404.8</td>\n      <td>6475.2</td>\n      <td>16.95</td>\n      <td>26335.041930</td>\n      <td>0.977030</td>\n      <td>147.789872</td>\n    </tr>\n    <tr>\n      <th>37</th>\n      <td>AURA</td>\n      <td>155404.8</td>\n      <td>6475.2</td>\n      <td>83.05</td>\n      <td>129069.758070</td>\n      <td>41.459488</td>\n      <td>147.326955</td>\n    </tr>\n    <tr>\n      <th>38</th>\n      <td>CVX</td>\n      <td>163584.0</td>\n      <td>6816.0</td>\n      <td>20.98</td>\n      <td>34315.109356</td>\n      <td>1.273090</td>\n      <td>147.348008</td>\n    </tr>\n    <tr>\n      <th>39</th>\n      <td>AURA</td>\n      <td>163584.0</td>\n      <td>6816.0</td>\n      <td>79.02</td>\n      <td>129268.890644</td>\n      <td>41.523453</td>\n      <td>147.165977</td>\n    </tr>\n  </tbody>\n</table>\n</div>"
     },
     "metadata": {},
     "output_type": "display_data"
    }
   ],
   "source": [
    "import math\n",
    "\n",
    "import pandas as pd\n",
    "import requests\n",
    "from IPython.core.display_functions import display\n",
    "\n",
    "from notebooks.bribes_research.constants import BRIBES_URL\n",
    "from notebooks.bribes_research.constants import DASHBOARD_URL\n",
    "from notebooks.bribes_research.constants import PROTOCOL_AURA\n",
    "from notebooks.bribes_research.constants import PROTOCOL_CVX\n",
    "from notebooks.bribes_research.constants import TABLE_COLUMNS\n",
    "from notebooks.bribes_research.helpers import calculate_metrics\n",
    "from notebooks.bribes_research.helpers import fetch_token_prices\n",
    "\n",
    "pd.set_option('display.max_rows', 500)\n",
    "BADGER_BRIBE = 42000\n",
    "STEP = 2000\n",
    "BADGER_LOW_BOUND = 2000\n",
    "BADGER_UPPER_BOUND = BADGER_BRIBE\n",
    "# HH and Votium take 4% on all bribes\n",
    "FEE = 0.04  # in %\n",
    "\n",
    "REBALANCING_STEP = 0.01  # in %\n",
    "\n",
    "table_rows = []\n",
    "token_prices = fetch_token_prices(['badger-dao'])\n",
    "badger_price = token_prices['badger-dao']['usd']\n",
    "\n",
    "cvx_bribes = requests.post(BRIBES_URL, json={'platform': \"votium\", 'protocol': \"cvx-crv\"}).json()\n",
    "cvx_dash = requests.post(DASHBOARD_URL, json={\"id\": \"bribes-overview-votium\"}).json()\n",
    "aura_bribes = requests.post(BRIBES_URL, json={'platform': \"hh\", 'protocol': \"aura-bal\"}).json()\n",
    "aura_dash = requests.post(DASHBOARD_URL, json={\"id\": \"bribes-overview-aura\"}).json()\n",
    "total_bribes_cvx = sum([bribe['amountDollars'] for bribe in cvx_bribes['epoch']['bribes']])\n",
    "dollar_spent_on_bribes_cvx = cvx_dash['dashboard']['rewardPerDollarBribe']\n",
    "\n",
    "total_bribes_aura = sum([bribe['amountDollars'] for bribe in aura_bribes['epoch']['bribes']])\n",
    "dollar_spent_on_bribes_aura = aura_dash['dashboard']['rewardPerDollarBribe']\n",
    "\n",
    "cell_hover = {  # for row hover use <tr> instead of <td>\n",
    "    'selector': 'td:hover',\n",
    "    'props': [('background-color', '#ffffb3')]\n",
    "}\n",
    "index_names = {\n",
    "    'selector': '.index_name',\n",
    "    'props': 'font-style: italic; color: darkgrey; font-weight:normal;'\n",
    "}\n",
    "headers = {\n",
    "    'selector': 'th:not(.index_name)',\n",
    "    'props': 'background-color: #000066; color: white;'\n",
    "}\n",
    "for bribe in range(BADGER_LOW_BOUND, BADGER_UPPER_BOUND, STEP):\n",
    "    badger_bribe_in_dollar = bribe * badger_price\n",
    "    fees = badger_bribe_in_dollar * FEE\n",
    "    badger_bribe_in_dollar_after_fees = badger_bribe_in_dollar - fees\n",
    "    cvx_dilution_50, cvx_in_out_50 = calculate_metrics(badger_bribe_in_dollar_after_fees / 2, total_bribes_cvx,\n",
    "                                                       dollar_spent_on_bribes_cvx)\n",
    "    aura_dilution_50, aura_in_out_50 = calculate_metrics(badger_bribe_in_dollar_after_fees / 2, total_bribes_aura,\n",
    "                                                         dollar_spent_on_bribes_aura)\n",
    "\n",
    "    # Rebalance here\n",
    "    cvx_in_out_floating = cvx_in_out_50\n",
    "    aura_in_out_floating = aura_in_out_50\n",
    "\n",
    "    cvx_bribe_portion = aura_bribe_portion = badger_bribe_in_dollar_after_fees / 2\n",
    "    cvx_dilution = None\n",
    "    aura_dilution = None\n",
    "    while not math.isclose(cvx_in_out_floating, aura_in_out_floating, abs_tol=0.5):\n",
    "        # Do not allow negative numbers\n",
    "        cvx_bribe_portion_percent = round(cvx_bribe_portion / badger_bribe_in_dollar_after_fees * 100, 2)\n",
    "        aura_bribe_portion_percent = round(aura_bribe_portion / badger_bribe_in_dollar_after_fees * 100, 2)\n",
    "        if math.isclose(cvx_bribe_portion_percent, 0, abs_tol=1) or math.isclose(aura_bribe_portion_percent, 0, abs_tol=1):\n",
    "            break\n",
    "        if cvx_in_out_floating > aura_in_out_floating:\n",
    "            # Take bribe portion from aura and give it to cvx\n",
    "            bribe_stolen = aura_bribe_portion * REBALANCING_STEP\n",
    "            aura_bribe_portion -= bribe_stolen\n",
    "            cvx_bribe_portion += bribe_stolen\n",
    "        elif aura_in_out_floating > cvx_in_out_floating:\n",
    "            # Take bribe portion from cvx and give it to aura\n",
    "            bribe_stolen = aura_bribe_portion * REBALANCING_STEP\n",
    "            cvx_bribe_portion -= bribe_stolen\n",
    "            aura_bribe_portion += bribe_stolen\n",
    "        if cvx_bribe_portion <= 0 or aura_bribe_portion <= 0:\n",
    "            break\n",
    "        cvx_dilution, cvx_in_out_floating = calculate_metrics(cvx_bribe_portion, total_bribes_cvx,\n",
    "                                                              dollar_spent_on_bribes_cvx)\n",
    "        aura_dilution, aura_in_out_floating = calculate_metrics(aura_bribe_portion, total_bribes_aura,\n",
    "                                                                dollar_spent_on_bribes_aura)\n",
    "\n",
    "    table_rows.append(\n",
    "        [PROTOCOL_CVX, badger_bribe_in_dollar_after_fees, fees, round(cvx_bribe_portion / badger_bribe_in_dollar_after_fees * 100, 2),\n",
    "         cvx_bribe_portion, cvx_dilution, cvx_in_out_floating]\n",
    "    )\n",
    "    table_rows.append(\n",
    "        [PROTOCOL_AURA, badger_bribe_in_dollar_after_fees, fees, round(aura_bribe_portion / badger_bribe_in_dollar_after_fees * 100, 2),\n",
    "         aura_bribe_portion, aura_dilution, aura_in_out_floating]\n",
    "    )\n",
    "dataframe = pd.DataFrame(data=table_rows, columns=TABLE_COLUMNS)\n",
    "display(dataframe)"
   ],
   "metadata": {
    "collapsed": false,
    "pycharm": {
     "name": "#%%\n"
    }
   }
  }
 ],
 "metadata": {
  "kernelspec": {
   "display_name": "Python 3",
   "language": "python",
   "name": "python3"
  },
  "language_info": {
   "codemirror_mode": {
    "name": "ipython",
    "version": 2
   },
   "file_extension": ".py",
   "mimetype": "text/x-python",
   "name": "python",
   "nbconvert_exporter": "python",
   "pygments_lexer": "ipython2",
   "version": "2.7.6"
  }
 },
 "nbformat": 4,
 "nbformat_minor": 0
}