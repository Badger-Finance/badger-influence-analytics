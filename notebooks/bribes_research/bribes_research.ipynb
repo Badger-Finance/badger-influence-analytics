{
 "cells": [
  {
   "cell_type": "markdown",
   "source": [
    "## Bribes research"
   ],
   "metadata": {
    "collapsed": false,
    "pycharm": {
     "name": "#%% md\n"
    }
   }
  },
  {
   "cell_type": "code",
   "execution_count": 1,
   "outputs": [
    {
     "data": {
      "text/plain": "   Protocol  BADGER bribe  Total bribe in $    Fees  Bribes Portion %  \\\n0       CVX          2000            8160.0   340.0              0.10   \n1      AURA          2000            8160.0   340.0             95.90   \n2       CVX          4000           16320.0   680.0              0.10   \n3      AURA          4000           16320.0   680.0             95.90   \n4       CVX          6000           24480.0  1020.0              0.10   \n5      AURA          6000           24480.0  1020.0             95.90   \n6       CVX          8000           32640.0  1360.0              0.10   \n7      AURA          8000           32640.0  1360.0             95.90   \n8       CVX         10000           40800.0  1700.0              0.10   \n9      AURA         10000           40800.0  1700.0             95.90   \n10      CVX         12000           48960.0  2040.0              0.10   \n11     AURA         12000           48960.0  2040.0             95.90   \n12      CVX         14000           57120.0  2380.0              0.10   \n13     AURA         14000           57120.0  2380.0             95.90   \n14      CVX         16000           65280.0  2720.0              0.10   \n15     AURA         16000           65280.0  2720.0             95.90   \n16      CVX         18000           73440.0  3060.0              0.10   \n17     AURA         18000           73440.0  3060.0             95.90   \n18      CVX         20000           81600.0  3400.0              0.10   \n19     AURA         20000           81600.0  3400.0             95.90   \n20      CVX         22000           89760.0  3740.0              0.10   \n21     AURA         22000           89760.0  3740.0             95.90   \n22      CVX         24000           97920.0  4080.0              0.10   \n23     AURA         24000           97920.0  4080.0             95.90   \n24      CVX         26000          106080.0  4420.0              0.10   \n25     AURA         26000          106080.0  4420.0             95.90   \n26      CVX         28000          114240.0  4760.0              0.10   \n27     AURA         28000          114240.0  4760.0             95.90   \n28      CVX         30000          122400.0  5100.0              0.10   \n29     AURA         30000          122400.0  5100.0             95.90   \n30      CVX         32000          130560.0  5440.0              2.98   \n31     AURA         32000          130560.0  5440.0             93.02   \n32      CVX         34000          138720.0  5780.0              8.09   \n33     AURA         34000          138720.0  5780.0             87.91   \n34      CVX         36000          146880.0  6120.0             12.64   \n35     AURA         36000          146880.0  6120.0             83.36   \n36      CVX         38000          155040.0  6460.0             16.71   \n37     AURA         38000          155040.0  6460.0             79.29   \n38      CVX         40000          163200.0  6800.0             20.37   \n39     AURA         40000          163200.0  6800.0             75.63   \n\n    Bribes Portion   Dilution        $I/O  \n0         8.487214   0.000312  149.218292  \n1      8151.512786   2.615847  245.075690  \n2        16.974429   0.000623  149.217826  \n3     16303.025571   5.231694  238.492683  \n4        25.461643   0.000935  149.217361  \n5     24454.538357   7.847541  231.909676  \n6        33.948858   0.001247  149.216896  \n7     32606.051142  10.463388  225.326670  \n8        42.436072   0.001559  149.216431  \n9     40757.563928  13.079236  218.743663  \n10       50.923287   0.001870  149.215966  \n11    48909.076713  15.695083  212.160656  \n12       59.410501   0.002182  149.215501  \n13    57060.589499  18.310930  205.577649  \n14       67.897715   0.002494  149.215035  \n15    65212.102285  20.926777  198.994643  \n16       76.384930   0.002806  149.214570  \n17    73363.615070  23.542624  192.411636  \n18       84.872144   0.003117  149.214105  \n19    81515.127856  26.158471  185.828629  \n20       93.359359   0.003429  149.213640  \n21    89666.640641  28.774318  179.245622  \n22      101.846573   0.003741  149.213175  \n23    97818.153427  31.390165  172.662615  \n24      110.333788   0.004052  149.212710  \n25   105969.666212  34.006013  166.079609  \n26      118.821002   0.004364  149.212245  \n27   114121.178998  36.621860  159.496602  \n28      127.308216   0.004676  149.211779  \n29   122272.691784  39.237707  152.913595  \n30     4054.927943   0.148932  148.996523  \n31   126505.072057  40.595891  149.495605  \n32    11697.109904   0.429618  148.577686  \n33   127022.890096  40.762061  149.077425  \n34    19337.966289   0.710256  148.158922  \n35   127542.033711  40.928656  148.658175  \n36    26979.416857   0.990916  147.740125  \n37   128060.583143  41.095060  148.239404  \n38    34620.551649   1.271564  147.321345  \n39   128579.448351  41.261566  147.820378  ",
      "text/html": "<div>\n<style scoped>\n    .dataframe tbody tr th:only-of-type {\n        vertical-align: middle;\n    }\n\n    .dataframe tbody tr th {\n        vertical-align: top;\n    }\n\n    .dataframe thead th {\n        text-align: right;\n    }\n</style>\n<table border=\"1\" class=\"dataframe\">\n  <thead>\n    <tr style=\"text-align: right;\">\n      <th></th>\n      <th>Protocol</th>\n      <th>BADGER bribe</th>\n      <th>Total bribe in $</th>\n      <th>Fees</th>\n      <th>Bribes Portion %</th>\n      <th>Bribes Portion</th>\n      <th>Dilution</th>\n      <th>$I/O</th>\n    </tr>\n  </thead>\n  <tbody>\n    <tr>\n      <th>0</th>\n      <td>CVX</td>\n      <td>2000</td>\n      <td>8160.0</td>\n      <td>340.0</td>\n      <td>0.10</td>\n      <td>8.487214</td>\n      <td>0.000312</td>\n      <td>149.218292</td>\n    </tr>\n    <tr>\n      <th>1</th>\n      <td>AURA</td>\n      <td>2000</td>\n      <td>8160.0</td>\n      <td>340.0</td>\n      <td>95.90</td>\n      <td>8151.512786</td>\n      <td>2.615847</td>\n      <td>245.075690</td>\n    </tr>\n    <tr>\n      <th>2</th>\n      <td>CVX</td>\n      <td>4000</td>\n      <td>16320.0</td>\n      <td>680.0</td>\n      <td>0.10</td>\n      <td>16.974429</td>\n      <td>0.000623</td>\n      <td>149.217826</td>\n    </tr>\n    <tr>\n      <th>3</th>\n      <td>AURA</td>\n      <td>4000</td>\n      <td>16320.0</td>\n      <td>680.0</td>\n      <td>95.90</td>\n      <td>16303.025571</td>\n      <td>5.231694</td>\n      <td>238.492683</td>\n    </tr>\n    <tr>\n      <th>4</th>\n      <td>CVX</td>\n      <td>6000</td>\n      <td>24480.0</td>\n      <td>1020.0</td>\n      <td>0.10</td>\n      <td>25.461643</td>\n      <td>0.000935</td>\n      <td>149.217361</td>\n    </tr>\n    <tr>\n      <th>5</th>\n      <td>AURA</td>\n      <td>6000</td>\n      <td>24480.0</td>\n      <td>1020.0</td>\n      <td>95.90</td>\n      <td>24454.538357</td>\n      <td>7.847541</td>\n      <td>231.909676</td>\n    </tr>\n    <tr>\n      <th>6</th>\n      <td>CVX</td>\n      <td>8000</td>\n      <td>32640.0</td>\n      <td>1360.0</td>\n      <td>0.10</td>\n      <td>33.948858</td>\n      <td>0.001247</td>\n      <td>149.216896</td>\n    </tr>\n    <tr>\n      <th>7</th>\n      <td>AURA</td>\n      <td>8000</td>\n      <td>32640.0</td>\n      <td>1360.0</td>\n      <td>95.90</td>\n      <td>32606.051142</td>\n      <td>10.463388</td>\n      <td>225.326670</td>\n    </tr>\n    <tr>\n      <th>8</th>\n      <td>CVX</td>\n      <td>10000</td>\n      <td>40800.0</td>\n      <td>1700.0</td>\n      <td>0.10</td>\n      <td>42.436072</td>\n      <td>0.001559</td>\n      <td>149.216431</td>\n    </tr>\n    <tr>\n      <th>9</th>\n      <td>AURA</td>\n      <td>10000</td>\n      <td>40800.0</td>\n      <td>1700.0</td>\n      <td>95.90</td>\n      <td>40757.563928</td>\n      <td>13.079236</td>\n      <td>218.743663</td>\n    </tr>\n    <tr>\n      <th>10</th>\n      <td>CVX</td>\n      <td>12000</td>\n      <td>48960.0</td>\n      <td>2040.0</td>\n      <td>0.10</td>\n      <td>50.923287</td>\n      <td>0.001870</td>\n      <td>149.215966</td>\n    </tr>\n    <tr>\n      <th>11</th>\n      <td>AURA</td>\n      <td>12000</td>\n      <td>48960.0</td>\n      <td>2040.0</td>\n      <td>95.90</td>\n      <td>48909.076713</td>\n      <td>15.695083</td>\n      <td>212.160656</td>\n    </tr>\n    <tr>\n      <th>12</th>\n      <td>CVX</td>\n      <td>14000</td>\n      <td>57120.0</td>\n      <td>2380.0</td>\n      <td>0.10</td>\n      <td>59.410501</td>\n      <td>0.002182</td>\n      <td>149.215501</td>\n    </tr>\n    <tr>\n      <th>13</th>\n      <td>AURA</td>\n      <td>14000</td>\n      <td>57120.0</td>\n      <td>2380.0</td>\n      <td>95.90</td>\n      <td>57060.589499</td>\n      <td>18.310930</td>\n      <td>205.577649</td>\n    </tr>\n    <tr>\n      <th>14</th>\n      <td>CVX</td>\n      <td>16000</td>\n      <td>65280.0</td>\n      <td>2720.0</td>\n      <td>0.10</td>\n      <td>67.897715</td>\n      <td>0.002494</td>\n      <td>149.215035</td>\n    </tr>\n    <tr>\n      <th>15</th>\n      <td>AURA</td>\n      <td>16000</td>\n      <td>65280.0</td>\n      <td>2720.0</td>\n      <td>95.90</td>\n      <td>65212.102285</td>\n      <td>20.926777</td>\n      <td>198.994643</td>\n    </tr>\n    <tr>\n      <th>16</th>\n      <td>CVX</td>\n      <td>18000</td>\n      <td>73440.0</td>\n      <td>3060.0</td>\n      <td>0.10</td>\n      <td>76.384930</td>\n      <td>0.002806</td>\n      <td>149.214570</td>\n    </tr>\n    <tr>\n      <th>17</th>\n      <td>AURA</td>\n      <td>18000</td>\n      <td>73440.0</td>\n      <td>3060.0</td>\n      <td>95.90</td>\n      <td>73363.615070</td>\n      <td>23.542624</td>\n      <td>192.411636</td>\n    </tr>\n    <tr>\n      <th>18</th>\n      <td>CVX</td>\n      <td>20000</td>\n      <td>81600.0</td>\n      <td>3400.0</td>\n      <td>0.10</td>\n      <td>84.872144</td>\n      <td>0.003117</td>\n      <td>149.214105</td>\n    </tr>\n    <tr>\n      <th>19</th>\n      <td>AURA</td>\n      <td>20000</td>\n      <td>81600.0</td>\n      <td>3400.0</td>\n      <td>95.90</td>\n      <td>81515.127856</td>\n      <td>26.158471</td>\n      <td>185.828629</td>\n    </tr>\n    <tr>\n      <th>20</th>\n      <td>CVX</td>\n      <td>22000</td>\n      <td>89760.0</td>\n      <td>3740.0</td>\n      <td>0.10</td>\n      <td>93.359359</td>\n      <td>0.003429</td>\n      <td>149.213640</td>\n    </tr>\n    <tr>\n      <th>21</th>\n      <td>AURA</td>\n      <td>22000</td>\n      <td>89760.0</td>\n      <td>3740.0</td>\n      <td>95.90</td>\n      <td>89666.640641</td>\n      <td>28.774318</td>\n      <td>179.245622</td>\n    </tr>\n    <tr>\n      <th>22</th>\n      <td>CVX</td>\n      <td>24000</td>\n      <td>97920.0</td>\n      <td>4080.0</td>\n      <td>0.10</td>\n      <td>101.846573</td>\n      <td>0.003741</td>\n      <td>149.213175</td>\n    </tr>\n    <tr>\n      <th>23</th>\n      <td>AURA</td>\n      <td>24000</td>\n      <td>97920.0</td>\n      <td>4080.0</td>\n      <td>95.90</td>\n      <td>97818.153427</td>\n      <td>31.390165</td>\n      <td>172.662615</td>\n    </tr>\n    <tr>\n      <th>24</th>\n      <td>CVX</td>\n      <td>26000</td>\n      <td>106080.0</td>\n      <td>4420.0</td>\n      <td>0.10</td>\n      <td>110.333788</td>\n      <td>0.004052</td>\n      <td>149.212710</td>\n    </tr>\n    <tr>\n      <th>25</th>\n      <td>AURA</td>\n      <td>26000</td>\n      <td>106080.0</td>\n      <td>4420.0</td>\n      <td>95.90</td>\n      <td>105969.666212</td>\n      <td>34.006013</td>\n      <td>166.079609</td>\n    </tr>\n    <tr>\n      <th>26</th>\n      <td>CVX</td>\n      <td>28000</td>\n      <td>114240.0</td>\n      <td>4760.0</td>\n      <td>0.10</td>\n      <td>118.821002</td>\n      <td>0.004364</td>\n      <td>149.212245</td>\n    </tr>\n    <tr>\n      <th>27</th>\n      <td>AURA</td>\n      <td>28000</td>\n      <td>114240.0</td>\n      <td>4760.0</td>\n      <td>95.90</td>\n      <td>114121.178998</td>\n      <td>36.621860</td>\n      <td>159.496602</td>\n    </tr>\n    <tr>\n      <th>28</th>\n      <td>CVX</td>\n      <td>30000</td>\n      <td>122400.0</td>\n      <td>5100.0</td>\n      <td>0.10</td>\n      <td>127.308216</td>\n      <td>0.004676</td>\n      <td>149.211779</td>\n    </tr>\n    <tr>\n      <th>29</th>\n      <td>AURA</td>\n      <td>30000</td>\n      <td>122400.0</td>\n      <td>5100.0</td>\n      <td>95.90</td>\n      <td>122272.691784</td>\n      <td>39.237707</td>\n      <td>152.913595</td>\n    </tr>\n    <tr>\n      <th>30</th>\n      <td>CVX</td>\n      <td>32000</td>\n      <td>130560.0</td>\n      <td>5440.0</td>\n      <td>2.98</td>\n      <td>4054.927943</td>\n      <td>0.148932</td>\n      <td>148.996523</td>\n    </tr>\n    <tr>\n      <th>31</th>\n      <td>AURA</td>\n      <td>32000</td>\n      <td>130560.0</td>\n      <td>5440.0</td>\n      <td>93.02</td>\n      <td>126505.072057</td>\n      <td>40.595891</td>\n      <td>149.495605</td>\n    </tr>\n    <tr>\n      <th>32</th>\n      <td>CVX</td>\n      <td>34000</td>\n      <td>138720.0</td>\n      <td>5780.0</td>\n      <td>8.09</td>\n      <td>11697.109904</td>\n      <td>0.429618</td>\n      <td>148.577686</td>\n    </tr>\n    <tr>\n      <th>33</th>\n      <td>AURA</td>\n      <td>34000</td>\n      <td>138720.0</td>\n      <td>5780.0</td>\n      <td>87.91</td>\n      <td>127022.890096</td>\n      <td>40.762061</td>\n      <td>149.077425</td>\n    </tr>\n    <tr>\n      <th>34</th>\n      <td>CVX</td>\n      <td>36000</td>\n      <td>146880.0</td>\n      <td>6120.0</td>\n      <td>12.64</td>\n      <td>19337.966289</td>\n      <td>0.710256</td>\n      <td>148.158922</td>\n    </tr>\n    <tr>\n      <th>35</th>\n      <td>AURA</td>\n      <td>36000</td>\n      <td>146880.0</td>\n      <td>6120.0</td>\n      <td>83.36</td>\n      <td>127542.033711</td>\n      <td>40.928656</td>\n      <td>148.658175</td>\n    </tr>\n    <tr>\n      <th>36</th>\n      <td>CVX</td>\n      <td>38000</td>\n      <td>155040.0</td>\n      <td>6460.0</td>\n      <td>16.71</td>\n      <td>26979.416857</td>\n      <td>0.990916</td>\n      <td>147.740125</td>\n    </tr>\n    <tr>\n      <th>37</th>\n      <td>AURA</td>\n      <td>38000</td>\n      <td>155040.0</td>\n      <td>6460.0</td>\n      <td>79.29</td>\n      <td>128060.583143</td>\n      <td>41.095060</td>\n      <td>148.239404</td>\n    </tr>\n    <tr>\n      <th>38</th>\n      <td>CVX</td>\n      <td>40000</td>\n      <td>163200.0</td>\n      <td>6800.0</td>\n      <td>20.37</td>\n      <td>34620.551649</td>\n      <td>1.271564</td>\n      <td>147.321345</td>\n    </tr>\n    <tr>\n      <th>39</th>\n      <td>AURA</td>\n      <td>40000</td>\n      <td>163200.0</td>\n      <td>6800.0</td>\n      <td>75.63</td>\n      <td>128579.448351</td>\n      <td>41.261566</td>\n      <td>147.820378</td>\n    </tr>\n  </tbody>\n</table>\n</div>"
     },
     "metadata": {},
     "output_type": "display_data"
    }
   ],
   "source": [
    "import math\n",
    "\n",
    "import pandas as pd\n",
    "import requests\n",
    "from IPython.core.display_functions import display\n",
    "\n",
    "from notebooks.bribes_research.constants import BRIBES_URL\n",
    "from notebooks.bribes_research.constants import DASHBOARD_URL\n",
    "from notebooks.bribes_research.constants import PROTOCOL_AURA\n",
    "from notebooks.bribes_research.constants import PROTOCOL_CVX\n",
    "from notebooks.bribes_research.constants import TABLE_COLUMNS\n",
    "from notebooks.bribes_research.helpers import calculate_metrics\n",
    "from notebooks.bribes_research.helpers import fetch_token_prices\n",
    "\n",
    "pd.set_option('display.max_rows', 500)\n",
    "BADGER_BRIBE = 42000\n",
    "STEP = 2000\n",
    "BADGER_LOW_BOUND = 2000\n",
    "BADGER_UPPER_BOUND = BADGER_BRIBE\n",
    "# HH and Votium take 4% on all bribes\n",
    "FEE = 0.04  # in %\n",
    "\n",
    "REBALANCING_STEP = 0.00001  # in %\n",
    "\n",
    "table_rows = []\n",
    "token_prices = fetch_token_prices(['badger-dao'])\n",
    "badger_price = token_prices['badger-dao']['usd']\n",
    "\n",
    "cvx_bribes = requests.post(BRIBES_URL, json={'platform': \"votium\", 'protocol': \"cvx-crv\"}).json()\n",
    "cvx_dash = requests.post(DASHBOARD_URL, json={\"id\": \"bribes-overview-votium\"}).json()\n",
    "aura_bribes = requests.post(BRIBES_URL, json={'platform': \"hh\", 'protocol': \"aura-bal\"}).json()\n",
    "aura_dash = requests.post(DASHBOARD_URL, json={\"id\": \"bribes-overview-aura\"}).json()\n",
    "total_bribes_cvx = sum([bribe['amountDollars'] for bribe in cvx_bribes['epoch']['bribes']])\n",
    "dollar_spent_on_bribes_cvx = cvx_dash['dashboard']['rewardPerDollarBribe']\n",
    "\n",
    "total_bribes_aura = sum([bribe['amountDollars'] for bribe in aura_bribes['epoch']['bribes']])\n",
    "dollar_spent_on_bribes_aura = aura_dash['dashboard']['rewardPerDollarBribe']\n",
    "\n",
    "\n",
    "for bribe in range(BADGER_LOW_BOUND, BADGER_UPPER_BOUND, STEP):\n",
    "    badger_bribe_in_dollar = bribe * badger_price\n",
    "    fees = badger_bribe_in_dollar * FEE\n",
    "    badger_bribe_in_dollar_after_fees = badger_bribe_in_dollar - fees\n",
    "    cvx_dilution_50, cvx_in_out_50 = calculate_metrics(badger_bribe_in_dollar_after_fees / 2, total_bribes_cvx,\n",
    "                                                       dollar_spent_on_bribes_cvx)\n",
    "    aura_dilution_50, aura_in_out_50 = calculate_metrics(badger_bribe_in_dollar_after_fees / 2, total_bribes_aura,\n",
    "                                                         dollar_spent_on_bribes_aura)\n",
    "\n",
    "    # Rebalance here\n",
    "    cvx_in_out_floating = cvx_in_out_50\n",
    "    aura_in_out_floating = aura_in_out_50\n",
    "\n",
    "    cvx_bribe_portion = aura_bribe_portion = badger_bribe_in_dollar_after_fees / 2\n",
    "    cvx_dilution = None\n",
    "    aura_dilution = None\n",
    "    while not math.isclose(cvx_in_out_floating, aura_in_out_floating, abs_tol=0.5):\n",
    "        # Do not allow negative numbers\n",
    "        cvx_bribe_portion_percent = round(cvx_bribe_portion / badger_bribe_in_dollar_after_fees * 100, 2)\n",
    "        aura_bribe_portion_percent = round(aura_bribe_portion / badger_bribe_in_dollar_after_fees * 100, 2)\n",
    "        if math.isclose(cvx_bribe_portion_percent, 0, abs_tol=0.1) or math.isclose(aura_bribe_portion_percent, 0, abs_tol=0.1):\n",
    "            break\n",
    "        if cvx_in_out_floating > aura_in_out_floating:\n",
    "            # Take bribe portion from aura and give it to cvx\n",
    "            bribe_stolen = aura_bribe_portion * REBALANCING_STEP\n",
    "            aura_bribe_portion -= bribe_stolen\n",
    "            cvx_bribe_portion += bribe_stolen\n",
    "        elif aura_in_out_floating > cvx_in_out_floating:\n",
    "            # Take bribe portion from cvx and give it to aura\n",
    "            bribe_stolen = aura_bribe_portion * REBALANCING_STEP\n",
    "            cvx_bribe_portion -= bribe_stolen\n",
    "            aura_bribe_portion += bribe_stolen\n",
    "        if cvx_bribe_portion <= 0 or aura_bribe_portion <= 0:\n",
    "            break\n",
    "        cvx_dilution, cvx_in_out_floating = calculate_metrics(cvx_bribe_portion, total_bribes_cvx,\n",
    "                                                              dollar_spent_on_bribes_cvx)\n",
    "        aura_dilution, aura_in_out_floating = calculate_metrics(aura_bribe_portion, total_bribes_aura,\n",
    "                                                                dollar_spent_on_bribes_aura)\n",
    "\n",
    "    table_rows.append(\n",
    "        [PROTOCOL_CVX, bribe, badger_bribe_in_dollar_after_fees, fees, round(cvx_bribe_portion / badger_bribe_in_dollar * 100, 2),\n",
    "         cvx_bribe_portion, cvx_dilution, cvx_in_out_floating]\n",
    "    )\n",
    "    table_rows.append(\n",
    "        [PROTOCOL_AURA, bribe, badger_bribe_in_dollar_after_fees, fees, round(aura_bribe_portion / badger_bribe_in_dollar * 100, 2),\n",
    "         aura_bribe_portion, aura_dilution, aura_in_out_floating]\n",
    "    )\n",
    "dataframe = pd.DataFrame(data=table_rows, columns=TABLE_COLUMNS)\n",
    "display(dataframe)"
   ],
   "metadata": {
    "collapsed": false,
    "pycharm": {
     "name": "#%%\n"
    }
   }
  }
 ],
 "metadata": {
  "kernelspec": {
   "display_name": "Python 3",
   "language": "python",
   "name": "python3"
  },
  "language_info": {
   "codemirror_mode": {
    "name": "ipython",
    "version": 2
   },
   "file_extension": ".py",
   "mimetype": "text/x-python",
   "name": "python",
   "nbconvert_exporter": "python",
   "pygments_lexer": "ipython2",
   "version": "2.7.6"
  }
 },
 "nbformat": 4,
 "nbformat_minor": 0
}