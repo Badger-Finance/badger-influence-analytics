{
 "cells": [
  {
   "cell_type": "markdown",
   "source": [
    "## Bribes research"
   ],
   "metadata": {
    "collapsed": false,
    "pycharm": {
     "name": "#%% md\n"
    }
   }
  },
  {
   "cell_type": "code",
   "execution_count": 18,
   "outputs": [
    {
     "data": {
      "text/plain": "   Protocol  BADGER total bribe in $  Bribes Portion %  Bribes Portion  \\\n0       CVX                   8560.0             -0.34      -28.947217   \n1      AURA                   8560.0            100.34     8588.947217   \n2       CVX                  17120.0             -0.34      -57.894433   \n3      AURA                  17120.0            100.34    17177.894433   \n4       CVX                  25680.0             -0.34      -86.841650   \n5      AURA                  25680.0            100.34    25766.841650   \n6       CVX                  34240.0             -0.34     -115.788867   \n7      AURA                  34240.0            100.34    34355.788867   \n8       CVX                  42800.0             -0.34     -144.736084   \n9      AURA                  42800.0            100.34    42944.736084   \n10      CVX                  51360.0             -0.34     -173.683300   \n11     AURA                  51360.0            100.34    51533.683300   \n12      CVX                  59920.0             -0.34     -202.630517   \n13     AURA                  59920.0            100.34    60122.630517   \n14      CVX                  68480.0             -0.34     -231.577734   \n15     AURA                  68480.0            100.34    68711.577734   \n16      CVX                  77040.0             -0.34     -260.524951   \n17     AURA                  77040.0            100.34    77300.524951   \n18      CVX                  85600.0             -0.34     -289.472167   \n19     AURA                  85600.0            100.34    85889.472167   \n20      CVX                  94160.0             -0.34     -318.419384   \n21     AURA                  94160.0            100.34    94478.419384   \n22      CVX                 102720.0             -0.34     -347.366601   \n23     AURA                 102720.0            100.34   103067.366601   \n24      CVX                 111280.0             -0.34     -376.313818   \n25     AURA                 111280.0            100.34   111656.313818   \n26      CVX                 119840.0             -0.34     -405.261034   \n27     AURA                 119840.0            100.34   120245.261034   \n28      CVX                 128400.0             -0.34     -434.208251   \n29     AURA                 128400.0            100.34   128834.208251   \n30      CVX                 136960.0              5.48     7501.171178   \n31     AURA                 136960.0             94.52   129458.828822   \n32      CVX                 145520.0             10.12    14724.394157   \n33     AURA                 145520.0             89.88   130795.605843   \n34      CVX                 154080.0             15.28    23538.353945   \n35     AURA                 154080.0             84.72   130541.646055   \n36      CVX                 162640.0             19.39    31533.775363   \n37     AURA                 162640.0             80.61   131106.224637   \n38      CVX                 171200.0             23.30    39891.500870   \n39     AURA                 171200.0             76.70   131308.499130   \n\n     Dilution        $I/O  \n0    0.002082  149.538581  \n1    2.711081  247.349680  \n2    0.004163  149.535468  \n3    5.422161  240.456964  \n4    0.006245  149.532355  \n5    8.133242  233.564247  \n6    0.008326  149.529242  \n7   10.844323  226.671531  \n8    0.010408  149.526130  \n9   13.555403  219.778814  \n10   0.012489  149.523017  \n11  16.266484  212.886097  \n12   0.014571  149.519904  \n13  18.977565  205.993381  \n14   0.016653  149.516791  \n15  21.688646  199.100664  \n16   0.018734  149.513678  \n17  24.399726  192.207948  \n18   0.020816  149.510565  \n19  27.110807  185.315231  \n20   0.022897  149.507453  \n21  29.821888  178.422515  \n22   0.024979  149.504340  \n23  32.532968  171.529798  \n24   0.027060  149.501227  \n25  35.244049  164.637082  \n26   0.029142  149.498114  \n27  37.955130  157.744365  \n28   0.031223  149.495001  \n29  40.666210  150.851649  \n30   0.278368  149.125417  \n31  41.272004  149.311464  \n32   0.546421  148.724566  \n33  41.698174  148.227960  \n34   0.873507  148.235436  \n35  41.617211  148.433803  \n36   1.170217  147.791732  \n37  41.797201  147.976192  \n38   1.480372  147.327921  \n39  41.861687  147.812241  ",
      "text/html": "<div>\n<style scoped>\n    .dataframe tbody tr th:only-of-type {\n        vertical-align: middle;\n    }\n\n    .dataframe tbody tr th {\n        vertical-align: top;\n    }\n\n    .dataframe thead th {\n        text-align: right;\n    }\n</style>\n<table border=\"1\" class=\"dataframe\">\n  <thead>\n    <tr style=\"text-align: right;\">\n      <th></th>\n      <th>Protocol</th>\n      <th>BADGER total bribe in $</th>\n      <th>Bribes Portion %</th>\n      <th>Bribes Portion</th>\n      <th>Dilution</th>\n      <th>$I/O</th>\n    </tr>\n  </thead>\n  <tbody>\n    <tr>\n      <th>0</th>\n      <td>CVX</td>\n      <td>8560.0</td>\n      <td>-0.34</td>\n      <td>-28.947217</td>\n      <td>0.002082</td>\n      <td>149.538581</td>\n    </tr>\n    <tr>\n      <th>1</th>\n      <td>AURA</td>\n      <td>8560.0</td>\n      <td>100.34</td>\n      <td>8588.947217</td>\n      <td>2.711081</td>\n      <td>247.349680</td>\n    </tr>\n    <tr>\n      <th>2</th>\n      <td>CVX</td>\n      <td>17120.0</td>\n      <td>-0.34</td>\n      <td>-57.894433</td>\n      <td>0.004163</td>\n      <td>149.535468</td>\n    </tr>\n    <tr>\n      <th>3</th>\n      <td>AURA</td>\n      <td>17120.0</td>\n      <td>100.34</td>\n      <td>17177.894433</td>\n      <td>5.422161</td>\n      <td>240.456964</td>\n    </tr>\n    <tr>\n      <th>4</th>\n      <td>CVX</td>\n      <td>25680.0</td>\n      <td>-0.34</td>\n      <td>-86.841650</td>\n      <td>0.006245</td>\n      <td>149.532355</td>\n    </tr>\n    <tr>\n      <th>5</th>\n      <td>AURA</td>\n      <td>25680.0</td>\n      <td>100.34</td>\n      <td>25766.841650</td>\n      <td>8.133242</td>\n      <td>233.564247</td>\n    </tr>\n    <tr>\n      <th>6</th>\n      <td>CVX</td>\n      <td>34240.0</td>\n      <td>-0.34</td>\n      <td>-115.788867</td>\n      <td>0.008326</td>\n      <td>149.529242</td>\n    </tr>\n    <tr>\n      <th>7</th>\n      <td>AURA</td>\n      <td>34240.0</td>\n      <td>100.34</td>\n      <td>34355.788867</td>\n      <td>10.844323</td>\n      <td>226.671531</td>\n    </tr>\n    <tr>\n      <th>8</th>\n      <td>CVX</td>\n      <td>42800.0</td>\n      <td>-0.34</td>\n      <td>-144.736084</td>\n      <td>0.010408</td>\n      <td>149.526130</td>\n    </tr>\n    <tr>\n      <th>9</th>\n      <td>AURA</td>\n      <td>42800.0</td>\n      <td>100.34</td>\n      <td>42944.736084</td>\n      <td>13.555403</td>\n      <td>219.778814</td>\n    </tr>\n    <tr>\n      <th>10</th>\n      <td>CVX</td>\n      <td>51360.0</td>\n      <td>-0.34</td>\n      <td>-173.683300</td>\n      <td>0.012489</td>\n      <td>149.523017</td>\n    </tr>\n    <tr>\n      <th>11</th>\n      <td>AURA</td>\n      <td>51360.0</td>\n      <td>100.34</td>\n      <td>51533.683300</td>\n      <td>16.266484</td>\n      <td>212.886097</td>\n    </tr>\n    <tr>\n      <th>12</th>\n      <td>CVX</td>\n      <td>59920.0</td>\n      <td>-0.34</td>\n      <td>-202.630517</td>\n      <td>0.014571</td>\n      <td>149.519904</td>\n    </tr>\n    <tr>\n      <th>13</th>\n      <td>AURA</td>\n      <td>59920.0</td>\n      <td>100.34</td>\n      <td>60122.630517</td>\n      <td>18.977565</td>\n      <td>205.993381</td>\n    </tr>\n    <tr>\n      <th>14</th>\n      <td>CVX</td>\n      <td>68480.0</td>\n      <td>-0.34</td>\n      <td>-231.577734</td>\n      <td>0.016653</td>\n      <td>149.516791</td>\n    </tr>\n    <tr>\n      <th>15</th>\n      <td>AURA</td>\n      <td>68480.0</td>\n      <td>100.34</td>\n      <td>68711.577734</td>\n      <td>21.688646</td>\n      <td>199.100664</td>\n    </tr>\n    <tr>\n      <th>16</th>\n      <td>CVX</td>\n      <td>77040.0</td>\n      <td>-0.34</td>\n      <td>-260.524951</td>\n      <td>0.018734</td>\n      <td>149.513678</td>\n    </tr>\n    <tr>\n      <th>17</th>\n      <td>AURA</td>\n      <td>77040.0</td>\n      <td>100.34</td>\n      <td>77300.524951</td>\n      <td>24.399726</td>\n      <td>192.207948</td>\n    </tr>\n    <tr>\n      <th>18</th>\n      <td>CVX</td>\n      <td>85600.0</td>\n      <td>-0.34</td>\n      <td>-289.472167</td>\n      <td>0.020816</td>\n      <td>149.510565</td>\n    </tr>\n    <tr>\n      <th>19</th>\n      <td>AURA</td>\n      <td>85600.0</td>\n      <td>100.34</td>\n      <td>85889.472167</td>\n      <td>27.110807</td>\n      <td>185.315231</td>\n    </tr>\n    <tr>\n      <th>20</th>\n      <td>CVX</td>\n      <td>94160.0</td>\n      <td>-0.34</td>\n      <td>-318.419384</td>\n      <td>0.022897</td>\n      <td>149.507453</td>\n    </tr>\n    <tr>\n      <th>21</th>\n      <td>AURA</td>\n      <td>94160.0</td>\n      <td>100.34</td>\n      <td>94478.419384</td>\n      <td>29.821888</td>\n      <td>178.422515</td>\n    </tr>\n    <tr>\n      <th>22</th>\n      <td>CVX</td>\n      <td>102720.0</td>\n      <td>-0.34</td>\n      <td>-347.366601</td>\n      <td>0.024979</td>\n      <td>149.504340</td>\n    </tr>\n    <tr>\n      <th>23</th>\n      <td>AURA</td>\n      <td>102720.0</td>\n      <td>100.34</td>\n      <td>103067.366601</td>\n      <td>32.532968</td>\n      <td>171.529798</td>\n    </tr>\n    <tr>\n      <th>24</th>\n      <td>CVX</td>\n      <td>111280.0</td>\n      <td>-0.34</td>\n      <td>-376.313818</td>\n      <td>0.027060</td>\n      <td>149.501227</td>\n    </tr>\n    <tr>\n      <th>25</th>\n      <td>AURA</td>\n      <td>111280.0</td>\n      <td>100.34</td>\n      <td>111656.313818</td>\n      <td>35.244049</td>\n      <td>164.637082</td>\n    </tr>\n    <tr>\n      <th>26</th>\n      <td>CVX</td>\n      <td>119840.0</td>\n      <td>-0.34</td>\n      <td>-405.261034</td>\n      <td>0.029142</td>\n      <td>149.498114</td>\n    </tr>\n    <tr>\n      <th>27</th>\n      <td>AURA</td>\n      <td>119840.0</td>\n      <td>100.34</td>\n      <td>120245.261034</td>\n      <td>37.955130</td>\n      <td>157.744365</td>\n    </tr>\n    <tr>\n      <th>28</th>\n      <td>CVX</td>\n      <td>128400.0</td>\n      <td>-0.34</td>\n      <td>-434.208251</td>\n      <td>0.031223</td>\n      <td>149.495001</td>\n    </tr>\n    <tr>\n      <th>29</th>\n      <td>AURA</td>\n      <td>128400.0</td>\n      <td>100.34</td>\n      <td>128834.208251</td>\n      <td>40.666210</td>\n      <td>150.851649</td>\n    </tr>\n    <tr>\n      <th>30</th>\n      <td>CVX</td>\n      <td>136960.0</td>\n      <td>5.48</td>\n      <td>7501.171178</td>\n      <td>0.278368</td>\n      <td>149.125417</td>\n    </tr>\n    <tr>\n      <th>31</th>\n      <td>AURA</td>\n      <td>136960.0</td>\n      <td>94.52</td>\n      <td>129458.828822</td>\n      <td>41.272004</td>\n      <td>149.311464</td>\n    </tr>\n    <tr>\n      <th>32</th>\n      <td>CVX</td>\n      <td>145520.0</td>\n      <td>10.12</td>\n      <td>14724.394157</td>\n      <td>0.546421</td>\n      <td>148.724566</td>\n    </tr>\n    <tr>\n      <th>33</th>\n      <td>AURA</td>\n      <td>145520.0</td>\n      <td>89.88</td>\n      <td>130795.605843</td>\n      <td>41.698174</td>\n      <td>148.227960</td>\n    </tr>\n    <tr>\n      <th>34</th>\n      <td>CVX</td>\n      <td>154080.0</td>\n      <td>15.28</td>\n      <td>23538.353945</td>\n      <td>0.873507</td>\n      <td>148.235436</td>\n    </tr>\n    <tr>\n      <th>35</th>\n      <td>AURA</td>\n      <td>154080.0</td>\n      <td>84.72</td>\n      <td>130541.646055</td>\n      <td>41.617211</td>\n      <td>148.433803</td>\n    </tr>\n    <tr>\n      <th>36</th>\n      <td>CVX</td>\n      <td>162640.0</td>\n      <td>19.39</td>\n      <td>31533.775363</td>\n      <td>1.170217</td>\n      <td>147.791732</td>\n    </tr>\n    <tr>\n      <th>37</th>\n      <td>AURA</td>\n      <td>162640.0</td>\n      <td>80.61</td>\n      <td>131106.224637</td>\n      <td>41.797201</td>\n      <td>147.976192</td>\n    </tr>\n    <tr>\n      <th>38</th>\n      <td>CVX</td>\n      <td>171200.0</td>\n      <td>23.30</td>\n      <td>39891.500870</td>\n      <td>1.480372</td>\n      <td>147.327921</td>\n    </tr>\n    <tr>\n      <th>39</th>\n      <td>AURA</td>\n      <td>171200.0</td>\n      <td>76.70</td>\n      <td>131308.499130</td>\n      <td>41.861687</td>\n      <td>147.812241</td>\n    </tr>\n  </tbody>\n</table>\n</div>"
     },
     "metadata": {},
     "output_type": "display_data"
    }
   ],
   "source": [
    "import math\n",
    "\n",
    "import pandas as pd\n",
    "import requests\n",
    "from IPython.core.display_functions import display\n",
    "\n",
    "from notebooks.bribes_research.constants import BRIBES_URL\n",
    "from notebooks.bribes_research.constants import DASHBOARD_URL\n",
    "from notebooks.bribes_research.constants import PROTOCOL_AURA\n",
    "from notebooks.bribes_research.constants import PROTOCOL_CVX\n",
    "from notebooks.bribes_research.constants import TABLE_COLUMNS\n",
    "from notebooks.bribes_research.helpers import calculate_metrics\n",
    "from notebooks.bribes_research.helpers import fetch_token_prices\n",
    "\n",
    "pd.set_option('display.max_rows', 500)\n",
    "BADGER_BRIBE = 42000\n",
    "STEP = 2000\n",
    "BADGER_LOW_BOUND = 2000\n",
    "BADGER_UPPER_BOUND = BADGER_BRIBE\n",
    "\n",
    "table_rows = []\n",
    "token_prices = fetch_token_prices(['badger-dao'])\n",
    "badger_price = token_prices['badger-dao']['usd']\n",
    "\n",
    "cvx_bribes = requests.post(BRIBES_URL, json={'platform': \"votium\", 'protocol': \"cvx-crv\"}).json()\n",
    "cvx_dash = requests.post(DASHBOARD_URL, json={\"id\": \"bribes-overview-votium\"}).json()\n",
    "aura_bribes = requests.post(BRIBES_URL, json={'platform': \"hh\", 'protocol': \"aura-bal\"}).json()\n",
    "aura_dash = requests.post(DASHBOARD_URL, json={\"id\": \"bribes-overview-aura\"}).json()\n",
    "total_bribes_cvx = sum([bribe['amountDollars'] for bribe in cvx_bribes['epoch']['bribes']])\n",
    "dollar_spent_on_bribes_cvx = cvx_dash['dashboard']['rewardPerDollarBribe']\n",
    "\n",
    "total_bribes_aura = sum([bribe['amountDollars'] for bribe in aura_bribes['epoch']['bribes']])\n",
    "dollar_spent_on_bribes_aura = aura_dash['dashboard']['rewardPerDollarBribe']\n",
    "for bribe in range(BADGER_LOW_BOUND, BADGER_UPPER_BOUND, STEP):\n",
    "    badger_bribe_in_dollar = bribe * badger_price\n",
    "    # cvx_dilution_100, cvx_in_out_100 = calculate_metrics(badger_bribe_in_dollar, total_bribes_cvx,\n",
    "    #                                                      dollar_spent_on_bribes_cvx)\n",
    "    # table_rows.append(\n",
    "    #     [PROTOCOL_CVX, badger_bribe_in_dollar, (badger_bribe_in_dollar / badger_bribe_in_dollar) * 100,\n",
    "    #      badger_bribe_in_dollar, cvx_dilution_100, cvx_in_out_100]\n",
    "    # )\n",
    "    # aura_dilution_100, aura_in_out_100 = calculate_metrics(badger_bribe_in_dollar, total_bribes_aura,\n",
    "    #                                                        dollar_spent_on_bribes_aura)\n",
    "    # table_rows.append(\n",
    "    #     [PROTOCOL_AURA, badger_bribe_in_dollar, (badger_bribe_in_dollar / badger_bribe_in_dollar) * 100,\n",
    "    #      badger_bribe_in_dollar, aura_dilution_100, aura_in_out_100]\n",
    "    # )\n",
    "    cvx_dilution_50, cvx_in_out_50 = calculate_metrics(badger_bribe_in_dollar / 2, total_bribes_cvx,\n",
    "                                                       dollar_spent_on_bribes_cvx)\n",
    "    aura_dilution_50, aura_in_out_50 = calculate_metrics(badger_bribe_in_dollar / 2, total_bribes_aura,\n",
    "                                                         dollar_spent_on_bribes_aura)\n",
    "    # table_rows.append(\n",
    "    #     [PROTOCOL_AURA, badger_bribe_in_dollar, ((badger_bribe_in_dollar / 2) / badger_bribe_in_dollar) * 100,\n",
    "    #      badger_bribe_in_dollar / 2, aura_dilution_50, aura_in_out_50]\n",
    "    # )\n",
    "\n",
    "    # Rebalance here\n",
    "    cvx_in_out_floating = cvx_in_out_50\n",
    "    aura_in_out_floating = aura_in_out_50\n",
    "    rebalancing_step = 0.01  # in %\n",
    "    cvx_bribe_portion = aura_bribe_portion = badger_bribe_in_dollar / 2\n",
    "    cvx_dilution = None\n",
    "    aura_dilution = None\n",
    "    while not math.isclose(cvx_in_out_floating, aura_in_out_floating, abs_tol=0.5):\n",
    "        if cvx_in_out_floating > aura_in_out_floating:\n",
    "            # Take bribe portion from aura and give it to cvx\n",
    "            bribe_stolen = aura_bribe_portion * rebalancing_step\n",
    "            aura_bribe_portion -= bribe_stolen\n",
    "            cvx_bribe_portion += bribe_stolen\n",
    "        elif aura_in_out_floating > cvx_in_out_floating:\n",
    "            # Take bribe portion from cvx and give it to aura\n",
    "            bribe_stolen = aura_bribe_portion * rebalancing_step\n",
    "            cvx_bribe_portion -= bribe_stolen\n",
    "            aura_bribe_portion += bribe_stolen\n",
    "        if cvx_bribe_portion <= 0 or aura_bribe_portion <= 0:\n",
    "            break\n",
    "        cvx_dilution, cvx_in_out_floating = calculate_metrics(cvx_bribe_portion, total_bribes_cvx,\n",
    "                                                              dollar_spent_on_bribes_cvx)\n",
    "        aura_dilution, aura_in_out_floating = calculate_metrics(aura_bribe_portion, total_bribes_aura,\n",
    "                                                                dollar_spent_on_bribes_aura)\n",
    "\n",
    "    table_rows.append(\n",
    "        [PROTOCOL_CVX, badger_bribe_in_dollar, round(cvx_bribe_portion / badger_bribe_in_dollar * 100, 2),\n",
    "         cvx_bribe_portion, cvx_dilution, cvx_in_out_floating]\n",
    "    )\n",
    "    table_rows.append(\n",
    "        [PROTOCOL_AURA, badger_bribe_in_dollar, round(aura_bribe_portion / badger_bribe_in_dollar * 100, 2),\n",
    "         aura_bribe_portion, aura_dilution, aura_in_out_floating]\n",
    "    )\n",
    "dataframe = pd.DataFrame(data=table_rows, columns=TABLE_COLUMNS)\n",
    "display(dataframe)"
   ],
   "metadata": {
    "collapsed": false,
    "pycharm": {
     "name": "#%%\n"
    }
   }
  }
 ],
 "metadata": {
  "kernelspec": {
   "display_name": "Python 3",
   "language": "python",
   "name": "python3"
  },
  "language_info": {
   "codemirror_mode": {
    "name": "ipython",
    "version": 2
   },
   "file_extension": ".py",
   "mimetype": "text/x-python",
   "name": "python",
   "nbconvert_exporter": "python",
   "pygments_lexer": "ipython2",
   "version": "2.7.6"
  }
 },
 "nbformat": 4,
 "nbformat_minor": 0
}