{
 "cells": [
  {
   "cell_type": "markdown",
   "source": [
    "## Bribes research"
   ],
   "metadata": {
    "collapsed": false,
    "pycharm": {
     "name": "#%% md\n"
    }
   }
  },
  {
   "cell_type": "code",
   "execution_count": 43,
   "outputs": [
    {
     "data": {
      "text/plain": "  Protocol  BADGER total bribe in $  Bribes Portion %  Bribes Portion  \\\n0      CVX                 171600.0            100.00   171600.000000   \n1     AURA                 171600.0            100.00   171600.000000   \n2      CVX                 171600.0             50.00    85800.000000   \n3     AURA                 171600.0             50.00    85800.000000   \n4      CVX                 171600.0             24.81    42578.046575   \n5     AURA                 171600.0             75.19   129021.953425   \n\n    Dilution        $I/O  \n0   6.396820  137.757540  \n1  55.507226  110.586181  \n2   3.198410  142.464699  \n3  27.753613  179.567406  \n4   1.587203  144.835942  \n5  41.734561  144.817951  ",
      "text/html": "<div>\n<style scoped>\n    .dataframe tbody tr th:only-of-type {\n        vertical-align: middle;\n    }\n\n    .dataframe tbody tr th {\n        vertical-align: top;\n    }\n\n    .dataframe thead th {\n        text-align: right;\n    }\n</style>\n<table border=\"1\" class=\"dataframe\">\n  <thead>\n    <tr style=\"text-align: right;\">\n      <th></th>\n      <th>Protocol</th>\n      <th>BADGER total bribe in $</th>\n      <th>Bribes Portion %</th>\n      <th>Bribes Portion</th>\n      <th>Dilution</th>\n      <th>$I/O</th>\n    </tr>\n  </thead>\n  <tbody>\n    <tr>\n      <th>0</th>\n      <td>CVX</td>\n      <td>171600.0</td>\n      <td>100.00</td>\n      <td>171600.000000</td>\n      <td>6.396820</td>\n      <td>137.757540</td>\n    </tr>\n    <tr>\n      <th>1</th>\n      <td>AURA</td>\n      <td>171600.0</td>\n      <td>100.00</td>\n      <td>171600.000000</td>\n      <td>55.507226</td>\n      <td>110.586181</td>\n    </tr>\n    <tr>\n      <th>2</th>\n      <td>CVX</td>\n      <td>171600.0</td>\n      <td>50.00</td>\n      <td>85800.000000</td>\n      <td>3.198410</td>\n      <td>142.464699</td>\n    </tr>\n    <tr>\n      <th>3</th>\n      <td>AURA</td>\n      <td>171600.0</td>\n      <td>50.00</td>\n      <td>85800.000000</td>\n      <td>27.753613</td>\n      <td>179.567406</td>\n    </tr>\n    <tr>\n      <th>4</th>\n      <td>CVX</td>\n      <td>171600.0</td>\n      <td>24.81</td>\n      <td>42578.046575</td>\n      <td>1.587203</td>\n      <td>144.835942</td>\n    </tr>\n    <tr>\n      <th>5</th>\n      <td>AURA</td>\n      <td>171600.0</td>\n      <td>75.19</td>\n      <td>129021.953425</td>\n      <td>41.734561</td>\n      <td>144.817951</td>\n    </tr>\n  </tbody>\n</table>\n</div>"
     },
     "metadata": {},
     "output_type": "display_data"
    }
   ],
   "source": [
    "import math\n",
    "\n",
    "import pandas as pd\n",
    "import requests\n",
    "from IPython.core.display_functions import display\n",
    "\n",
    "from notebooks.bribes_research.helpers import fetch_token_prices\n",
    "\n",
    "BADGER_BRIBE = 40000\n",
    "\n",
    "BRIBES_URL = \"https://api.llama.airforce/bribes\"\n",
    "DASHBOARD_URL = \"https://api.llama.airforce//dashboard\"\n",
    "TABLE_COLUMNS = [\"Protocol\", \"BADGER total bribe in $\", \"Bribes Portion %\", \"Bribes Portion\", \"Dilution\", \"$I/O\",]\n",
    "PROTOCOL_CVX = \"CVX\"\n",
    "PROTOCOL_AURA = \"AURA\"\n",
    "\n",
    "table_rows = []\n",
    "token_prices = fetch_token_prices(['badger-dao'])\n",
    "badger_price = token_prices['badger-dao']['usd']\n",
    "badger_bribe_in_dollar = BADGER_BRIBE * badger_price\n",
    "\n",
    "cvx_bribes = requests.post(BRIBES_URL, json={'platform': \"votium\", 'protocol': \"cvx-crv\"}).json()\n",
    "cvx_dash = requests.post(DASHBOARD_URL, json={\"id\": \"bribes-overview-votium\"}).json()\n",
    "aura_bribes = requests.post(BRIBES_URL, json={'platform': \"hh\", 'protocol': \"aura-bal\"}).json()\n",
    "aura_dash = requests.post(DASHBOARD_URL, json={\"id\": \"bribes-overview-aura\"}).json()\n",
    "\n",
    "total_bribes_cvx = sum([bribe['amountDollars'] for bribe in cvx_bribes['epoch']['bribes']])\n",
    "dollar_spent_on_bribes_cvx = cvx_dash['dashboard']['rewardPerDollarBribe']\n",
    "\n",
    "total_bribes_aura = sum([bribe['amountDollars'] for bribe in aura_bribes['epoch']['bribes']])\n",
    "dollar_spent_on_bribes_aura = aura_dash['dashboard']['rewardPerDollarBribe']\n",
    "\n",
    "cvx_dilution_100 = badger_bribe_in_dollar / total_bribes_cvx * 100\n",
    "aura_dilution_100 = badger_bribe_in_dollar / total_bribes_aura * 100\n",
    "\n",
    "cvx_in_out_100 = (100 - cvx_dilution_100) * dollar_spent_on_bribes_cvx\n",
    "table_rows.append(\n",
    "    [PROTOCOL_CVX, badger_bribe_in_dollar, (badger_bribe_in_dollar / badger_bribe_in_dollar) * 100, badger_bribe_in_dollar, cvx_dilution_100, cvx_in_out_100]\n",
    ")\n",
    "aura_in_out_100 = (100 - aura_dilution_100) * dollar_spent_on_bribes_aura\n",
    "table_rows.append(\n",
    "    [PROTOCOL_AURA, badger_bribe_in_dollar, (badger_bribe_in_dollar / badger_bribe_in_dollar) * 100, badger_bribe_in_dollar, aura_dilution_100, aura_in_out_100]\n",
    ")\n",
    "\n",
    "# Rebalancing bribe values\n",
    "cvx_dilution_50 = ((badger_bribe_in_dollar / 2) / total_bribes_cvx * 100)\n",
    "aura_dilution_50 = ((badger_bribe_in_dollar / 2) / total_bribes_aura * 100)\n",
    "\n",
    "cvx_in_out_50 = (100 - cvx_dilution_50) * dollar_spent_on_bribes_cvx\n",
    "table_rows.append(\n",
    "    [PROTOCOL_CVX, badger_bribe_in_dollar, ((badger_bribe_in_dollar / 2) / badger_bribe_in_dollar) * 100, badger_bribe_in_dollar / 2, cvx_dilution_50, cvx_in_out_50]\n",
    ")\n",
    "aura_in_out_50 = (100 - aura_dilution_50) * dollar_spent_on_bribes_aura\n",
    "table_rows.append(\n",
    "    [PROTOCOL_AURA, badger_bribe_in_dollar, ((badger_bribe_in_dollar / 2) / badger_bribe_in_dollar) * 100, badger_bribe_in_dollar / 2, aura_dilution_50, aura_in_out_50]\n",
    ")\n",
    "\n",
    "# Rebalance here\n",
    "cvx_in_out_floating = cvx_in_out_50\n",
    "aura_in_out_floating = aura_in_out_50\n",
    "rebalancing_step = 0.01  # in %\n",
    "cvx_bribe_portion = aura_bribe_portion = badger_bribe_in_dollar / 2\n",
    "while not math.isclose(cvx_in_out_floating, aura_in_out_floating, abs_tol=0.5):\n",
    "    if cvx_in_out_floating > aura_in_out_floating:\n",
    "        # Take bribe portion from aura and give it to cvx\n",
    "        bribe_stolen = aura_bribe_portion * rebalancing_step\n",
    "        aura_bribe_portion -= bribe_stolen\n",
    "        cvx_bribe_portion += bribe_stolen\n",
    "    elif aura_in_out_floating > cvx_in_out_floating:\n",
    "        # Take bribe portion from cvx and give it to aura\n",
    "        bribe_stolen = aura_bribe_portion * rebalancing_step\n",
    "        cvx_bribe_portion -= bribe_stolen\n",
    "        aura_bribe_portion += bribe_stolen\n",
    "    cvx_dilution =  cvx_bribe_portion / total_bribes_cvx * 100\n",
    "    aura_dilution = aura_bribe_portion / total_bribes_aura * 100\n",
    "    cvx_in_out_floating = (100 - cvx_dilution) * dollar_spent_on_bribes_cvx\n",
    "    aura_in_out_floating = (100 - aura_dilution) * dollar_spent_on_bribes_aura\n",
    "\n",
    "table_rows.append(\n",
    "    [PROTOCOL_CVX, badger_bribe_in_dollar, round(cvx_bribe_portion / badger_bribe_in_dollar * 100, 2), cvx_bribe_portion, cvx_dilution, cvx_in_out_floating]\n",
    ")\n",
    "table_rows.append(\n",
    "    [PROTOCOL_AURA, badger_bribe_in_dollar, round(aura_bribe_portion / badger_bribe_in_dollar * 100, 2), aura_bribe_portion, aura_dilution, aura_in_out_floating]\n",
    ")\n",
    "dataframe = pd.DataFrame(data=table_rows, columns=TABLE_COLUMNS)\n",
    "display(dataframe)"
   ],
   "metadata": {
    "collapsed": false,
    "pycharm": {
     "name": "#%%\n"
    }
   }
  }
 ],
 "metadata": {
  "kernelspec": {
   "display_name": "Python 3",
   "language": "python",
   "name": "python3"
  },
  "language_info": {
   "codemirror_mode": {
    "name": "ipython",
    "version": 2
   },
   "file_extension": ".py",
   "mimetype": "text/x-python",
   "name": "python",
   "nbconvert_exporter": "python",
   "pygments_lexer": "ipython2",
   "version": "2.7.6"
  }
 },
 "nbformat": 4,
 "nbformat_minor": 0
}