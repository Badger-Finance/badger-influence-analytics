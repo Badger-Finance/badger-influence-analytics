{
 "cells": [
  {
   "cell_type": "markdown",
   "source": [
    "## Bribes research"
   ],
   "metadata": {
    "collapsed": false,
    "pycharm": {
     "name": "#%% md\n"
    }
   }
  },
  {
   "cell_type": "code",
   "execution_count": 3,
   "outputs": [
    {
     "data": {
      "text/plain": "   Protocol  BADGER total bribe in $    Fees  Bribes Portion %  \\\n0       CVX                   8198.4   341.6             -0.34   \n1      AURA                   8198.4   341.6            100.34   \n2       CVX                  16396.8   683.2             -0.34   \n3      AURA                  16396.8   683.2            100.34   \n4       CVX                  24595.2  1024.8             -0.34   \n5      AURA                  24595.2  1024.8            100.34   \n6       CVX                  32793.6  1366.4             -0.34   \n7      AURA                  32793.6  1366.4            100.34   \n8       CVX                  40992.0  1708.0             -0.34   \n9      AURA                  40992.0  1708.0            100.34   \n10      CVX                  49190.4  2049.6             -0.34   \n11     AURA                  49190.4  2049.6            100.34   \n12      CVX                  57388.8  2391.2             -0.34   \n13     AURA                  57388.8  2391.2            100.34   \n14      CVX                  65587.2  2732.8             -0.34   \n15     AURA                  65587.2  2732.8            100.34   \n16      CVX                  73785.6  3074.4             -0.34   \n17     AURA                  73785.6  3074.4            100.34   \n18      CVX                  81984.0  3416.0             -0.34   \n19     AURA                  81984.0  3416.0            100.34   \n20      CVX                  90182.4  3757.6             -0.34   \n21     AURA                  90182.4  3757.6            100.34   \n22      CVX                  98380.8  4099.2             -0.34   \n23     AURA                  98380.8  4099.2            100.34   \n24      CVX                 106579.2  4440.8             -0.34   \n25     AURA                 106579.2  4440.8            100.34   \n26      CVX                 114777.6  4782.4             -0.34   \n27     AURA                 114777.6  4782.4            100.34   \n28      CVX                 122976.0  5124.0             -0.34   \n29     AURA                 122976.0  5124.0            100.34   \n30      CVX                 131174.4  5465.6              1.64   \n31     AURA                 131174.4  5465.6             98.36   \n32      CVX                 139372.8  5807.2              6.44   \n33     AURA                 139372.8  5807.2             93.56   \n34      CVX                 147571.2  6148.8             11.84   \n35     AURA                 147571.2  6148.8             88.16   \n36      CVX                 155769.6  6490.4             16.12   \n37     AURA                 155769.6  6490.4             83.88   \n38      CVX                 163968.0  6832.0             20.19   \n39     AURA                 163968.0  6832.0             79.81   \n\n    Bribes Portion   Dilution        $I/O  \n0       -27.724400   0.001994  149.538059  \n1      8226.124400   2.596557  247.636318  \n2       -55.448799   0.003987  149.535078  \n3     16452.248799   5.193113  241.034891  \n4       -83.173199   0.005981  149.532097  \n5     24678.373199   7.789670  234.433465  \n6      -110.897599   0.007975  149.529115  \n7     32904.497599  10.386226  227.832038  \n8      -138.621999   0.009968  149.526134  \n9     41130.621999  12.982783  221.230611  \n10     -166.346398   0.011962  149.523153  \n11    49356.746398  15.579339  214.629184  \n12     -194.070798   0.013955  149.520172  \n13    57582.870798  18.175896  208.027757  \n14     -221.795198   0.015949  149.517190  \n15    65808.995198  20.772452  201.426331  \n16     -249.519598   0.017943  149.514209  \n17    74035.119598  23.369009  194.824904  \n18     -277.243997   0.019936  149.511228  \n19    82261.243997  25.965565  188.223477  \n20     -304.968397   0.021930  149.508246  \n21    90487.368397  28.562122  181.622050  \n22     -332.692797   0.023924  149.505265  \n23    98713.492797  31.158678  175.020624  \n24     -360.417196   0.025917  149.502284  \n25   106939.617196  33.755235  168.419197  \n26     -388.141596   0.027911  149.499302  \n27   115165.741596  36.351792  161.817770  \n28     -415.865996   0.029905  149.496321  \n29   123391.865996  38.948348  155.216343  \n30     2149.803984   0.079779  149.421738  \n31   129024.596016  41.133569  149.660687  \n32     8976.795912   0.333128  149.042877  \n33   130396.004088  41.570779  148.549133  \n34    17467.418754   0.648215  148.571693  \n35   130103.781246  41.477618  148.785985  \n36    25103.133890   0.931576  148.147952  \n37   130666.466110  41.657004  148.329918  \n38    33099.937869   1.228337  147.704173  \n39   130868.062131  41.721273  148.166520  ",
      "text/html": "<div>\n<style scoped>\n    .dataframe tbody tr th:only-of-type {\n        vertical-align: middle;\n    }\n\n    .dataframe tbody tr th {\n        vertical-align: top;\n    }\n\n    .dataframe thead th {\n        text-align: right;\n    }\n</style>\n<table border=\"1\" class=\"dataframe\">\n  <thead>\n    <tr style=\"text-align: right;\">\n      <th></th>\n      <th>Protocol</th>\n      <th>BADGER total bribe in $</th>\n      <th>Fees</th>\n      <th>Bribes Portion %</th>\n      <th>Bribes Portion</th>\n      <th>Dilution</th>\n      <th>$I/O</th>\n    </tr>\n  </thead>\n  <tbody>\n    <tr>\n      <th>0</th>\n      <td>CVX</td>\n      <td>8198.4</td>\n      <td>341.6</td>\n      <td>-0.34</td>\n      <td>-27.724400</td>\n      <td>0.001994</td>\n      <td>149.538059</td>\n    </tr>\n    <tr>\n      <th>1</th>\n      <td>AURA</td>\n      <td>8198.4</td>\n      <td>341.6</td>\n      <td>100.34</td>\n      <td>8226.124400</td>\n      <td>2.596557</td>\n      <td>247.636318</td>\n    </tr>\n    <tr>\n      <th>2</th>\n      <td>CVX</td>\n      <td>16396.8</td>\n      <td>683.2</td>\n      <td>-0.34</td>\n      <td>-55.448799</td>\n      <td>0.003987</td>\n      <td>149.535078</td>\n    </tr>\n    <tr>\n      <th>3</th>\n      <td>AURA</td>\n      <td>16396.8</td>\n      <td>683.2</td>\n      <td>100.34</td>\n      <td>16452.248799</td>\n      <td>5.193113</td>\n      <td>241.034891</td>\n    </tr>\n    <tr>\n      <th>4</th>\n      <td>CVX</td>\n      <td>24595.2</td>\n      <td>1024.8</td>\n      <td>-0.34</td>\n      <td>-83.173199</td>\n      <td>0.005981</td>\n      <td>149.532097</td>\n    </tr>\n    <tr>\n      <th>5</th>\n      <td>AURA</td>\n      <td>24595.2</td>\n      <td>1024.8</td>\n      <td>100.34</td>\n      <td>24678.373199</td>\n      <td>7.789670</td>\n      <td>234.433465</td>\n    </tr>\n    <tr>\n      <th>6</th>\n      <td>CVX</td>\n      <td>32793.6</td>\n      <td>1366.4</td>\n      <td>-0.34</td>\n      <td>-110.897599</td>\n      <td>0.007975</td>\n      <td>149.529115</td>\n    </tr>\n    <tr>\n      <th>7</th>\n      <td>AURA</td>\n      <td>32793.6</td>\n      <td>1366.4</td>\n      <td>100.34</td>\n      <td>32904.497599</td>\n      <td>10.386226</td>\n      <td>227.832038</td>\n    </tr>\n    <tr>\n      <th>8</th>\n      <td>CVX</td>\n      <td>40992.0</td>\n      <td>1708.0</td>\n      <td>-0.34</td>\n      <td>-138.621999</td>\n      <td>0.009968</td>\n      <td>149.526134</td>\n    </tr>\n    <tr>\n      <th>9</th>\n      <td>AURA</td>\n      <td>40992.0</td>\n      <td>1708.0</td>\n      <td>100.34</td>\n      <td>41130.621999</td>\n      <td>12.982783</td>\n      <td>221.230611</td>\n    </tr>\n    <tr>\n      <th>10</th>\n      <td>CVX</td>\n      <td>49190.4</td>\n      <td>2049.6</td>\n      <td>-0.34</td>\n      <td>-166.346398</td>\n      <td>0.011962</td>\n      <td>149.523153</td>\n    </tr>\n    <tr>\n      <th>11</th>\n      <td>AURA</td>\n      <td>49190.4</td>\n      <td>2049.6</td>\n      <td>100.34</td>\n      <td>49356.746398</td>\n      <td>15.579339</td>\n      <td>214.629184</td>\n    </tr>\n    <tr>\n      <th>12</th>\n      <td>CVX</td>\n      <td>57388.8</td>\n      <td>2391.2</td>\n      <td>-0.34</td>\n      <td>-194.070798</td>\n      <td>0.013955</td>\n      <td>149.520172</td>\n    </tr>\n    <tr>\n      <th>13</th>\n      <td>AURA</td>\n      <td>57388.8</td>\n      <td>2391.2</td>\n      <td>100.34</td>\n      <td>57582.870798</td>\n      <td>18.175896</td>\n      <td>208.027757</td>\n    </tr>\n    <tr>\n      <th>14</th>\n      <td>CVX</td>\n      <td>65587.2</td>\n      <td>2732.8</td>\n      <td>-0.34</td>\n      <td>-221.795198</td>\n      <td>0.015949</td>\n      <td>149.517190</td>\n    </tr>\n    <tr>\n      <th>15</th>\n      <td>AURA</td>\n      <td>65587.2</td>\n      <td>2732.8</td>\n      <td>100.34</td>\n      <td>65808.995198</td>\n      <td>20.772452</td>\n      <td>201.426331</td>\n    </tr>\n    <tr>\n      <th>16</th>\n      <td>CVX</td>\n      <td>73785.6</td>\n      <td>3074.4</td>\n      <td>-0.34</td>\n      <td>-249.519598</td>\n      <td>0.017943</td>\n      <td>149.514209</td>\n    </tr>\n    <tr>\n      <th>17</th>\n      <td>AURA</td>\n      <td>73785.6</td>\n      <td>3074.4</td>\n      <td>100.34</td>\n      <td>74035.119598</td>\n      <td>23.369009</td>\n      <td>194.824904</td>\n    </tr>\n    <tr>\n      <th>18</th>\n      <td>CVX</td>\n      <td>81984.0</td>\n      <td>3416.0</td>\n      <td>-0.34</td>\n      <td>-277.243997</td>\n      <td>0.019936</td>\n      <td>149.511228</td>\n    </tr>\n    <tr>\n      <th>19</th>\n      <td>AURA</td>\n      <td>81984.0</td>\n      <td>3416.0</td>\n      <td>100.34</td>\n      <td>82261.243997</td>\n      <td>25.965565</td>\n      <td>188.223477</td>\n    </tr>\n    <tr>\n      <th>20</th>\n      <td>CVX</td>\n      <td>90182.4</td>\n      <td>3757.6</td>\n      <td>-0.34</td>\n      <td>-304.968397</td>\n      <td>0.021930</td>\n      <td>149.508246</td>\n    </tr>\n    <tr>\n      <th>21</th>\n      <td>AURA</td>\n      <td>90182.4</td>\n      <td>3757.6</td>\n      <td>100.34</td>\n      <td>90487.368397</td>\n      <td>28.562122</td>\n      <td>181.622050</td>\n    </tr>\n    <tr>\n      <th>22</th>\n      <td>CVX</td>\n      <td>98380.8</td>\n      <td>4099.2</td>\n      <td>-0.34</td>\n      <td>-332.692797</td>\n      <td>0.023924</td>\n      <td>149.505265</td>\n    </tr>\n    <tr>\n      <th>23</th>\n      <td>AURA</td>\n      <td>98380.8</td>\n      <td>4099.2</td>\n      <td>100.34</td>\n      <td>98713.492797</td>\n      <td>31.158678</td>\n      <td>175.020624</td>\n    </tr>\n    <tr>\n      <th>24</th>\n      <td>CVX</td>\n      <td>106579.2</td>\n      <td>4440.8</td>\n      <td>-0.34</td>\n      <td>-360.417196</td>\n      <td>0.025917</td>\n      <td>149.502284</td>\n    </tr>\n    <tr>\n      <th>25</th>\n      <td>AURA</td>\n      <td>106579.2</td>\n      <td>4440.8</td>\n      <td>100.34</td>\n      <td>106939.617196</td>\n      <td>33.755235</td>\n      <td>168.419197</td>\n    </tr>\n    <tr>\n      <th>26</th>\n      <td>CVX</td>\n      <td>114777.6</td>\n      <td>4782.4</td>\n      <td>-0.34</td>\n      <td>-388.141596</td>\n      <td>0.027911</td>\n      <td>149.499302</td>\n    </tr>\n    <tr>\n      <th>27</th>\n      <td>AURA</td>\n      <td>114777.6</td>\n      <td>4782.4</td>\n      <td>100.34</td>\n      <td>115165.741596</td>\n      <td>36.351792</td>\n      <td>161.817770</td>\n    </tr>\n    <tr>\n      <th>28</th>\n      <td>CVX</td>\n      <td>122976.0</td>\n      <td>5124.0</td>\n      <td>-0.34</td>\n      <td>-415.865996</td>\n      <td>0.029905</td>\n      <td>149.496321</td>\n    </tr>\n    <tr>\n      <th>29</th>\n      <td>AURA</td>\n      <td>122976.0</td>\n      <td>5124.0</td>\n      <td>100.34</td>\n      <td>123391.865996</td>\n      <td>38.948348</td>\n      <td>155.216343</td>\n    </tr>\n    <tr>\n      <th>30</th>\n      <td>CVX</td>\n      <td>131174.4</td>\n      <td>5465.6</td>\n      <td>1.64</td>\n      <td>2149.803984</td>\n      <td>0.079779</td>\n      <td>149.421738</td>\n    </tr>\n    <tr>\n      <th>31</th>\n      <td>AURA</td>\n      <td>131174.4</td>\n      <td>5465.6</td>\n      <td>98.36</td>\n      <td>129024.596016</td>\n      <td>41.133569</td>\n      <td>149.660687</td>\n    </tr>\n    <tr>\n      <th>32</th>\n      <td>CVX</td>\n      <td>139372.8</td>\n      <td>5807.2</td>\n      <td>6.44</td>\n      <td>8976.795912</td>\n      <td>0.333128</td>\n      <td>149.042877</td>\n    </tr>\n    <tr>\n      <th>33</th>\n      <td>AURA</td>\n      <td>139372.8</td>\n      <td>5807.2</td>\n      <td>93.56</td>\n      <td>130396.004088</td>\n      <td>41.570779</td>\n      <td>148.549133</td>\n    </tr>\n    <tr>\n      <th>34</th>\n      <td>CVX</td>\n      <td>147571.2</td>\n      <td>6148.8</td>\n      <td>11.84</td>\n      <td>17467.418754</td>\n      <td>0.648215</td>\n      <td>148.571693</td>\n    </tr>\n    <tr>\n      <th>35</th>\n      <td>AURA</td>\n      <td>147571.2</td>\n      <td>6148.8</td>\n      <td>88.16</td>\n      <td>130103.781246</td>\n      <td>41.477618</td>\n      <td>148.785985</td>\n    </tr>\n    <tr>\n      <th>36</th>\n      <td>CVX</td>\n      <td>155769.6</td>\n      <td>6490.4</td>\n      <td>16.12</td>\n      <td>25103.133890</td>\n      <td>0.931576</td>\n      <td>148.147952</td>\n    </tr>\n    <tr>\n      <th>37</th>\n      <td>AURA</td>\n      <td>155769.6</td>\n      <td>6490.4</td>\n      <td>83.88</td>\n      <td>130666.466110</td>\n      <td>41.657004</td>\n      <td>148.329918</td>\n    </tr>\n    <tr>\n      <th>38</th>\n      <td>CVX</td>\n      <td>163968.0</td>\n      <td>6832.0</td>\n      <td>20.19</td>\n      <td>33099.937869</td>\n      <td>1.228337</td>\n      <td>147.704173</td>\n    </tr>\n    <tr>\n      <th>39</th>\n      <td>AURA</td>\n      <td>163968.0</td>\n      <td>6832.0</td>\n      <td>79.81</td>\n      <td>130868.062131</td>\n      <td>41.721273</td>\n      <td>148.166520</td>\n    </tr>\n  </tbody>\n</table>\n</div>"
     },
     "metadata": {},
     "output_type": "display_data"
    }
   ],
   "source": [
    "import math\n",
    "\n",
    "import pandas as pd\n",
    "import requests\n",
    "from IPython.core.display_functions import display\n",
    "\n",
    "from notebooks.bribes_research.constants import BRIBES_URL\n",
    "from notebooks.bribes_research.constants import DASHBOARD_URL\n",
    "from notebooks.bribes_research.constants import PROTOCOL_AURA\n",
    "from notebooks.bribes_research.constants import PROTOCOL_CVX\n",
    "from notebooks.bribes_research.constants import TABLE_COLUMNS\n",
    "from notebooks.bribes_research.helpers import calculate_metrics\n",
    "from notebooks.bribes_research.helpers import fetch_token_prices\n",
    "\n",
    "pd.set_option('display.max_rows', 500)\n",
    "BADGER_BRIBE = 42000\n",
    "STEP = 2000\n",
    "BADGER_LOW_BOUND = 2000\n",
    "BADGER_UPPER_BOUND = BADGER_BRIBE\n",
    "# HH and Votium take 4% on all bribes\n",
    "FEE = 0.04  # in %\n",
    "\n",
    "REBALANCING_STEP = 0.01  # in %\n",
    "\n",
    "table_rows = []\n",
    "token_prices = fetch_token_prices(['badger-dao'])\n",
    "badger_price = token_prices['badger-dao']['usd']\n",
    "\n",
    "cvx_bribes = requests.post(BRIBES_URL, json={'platform': \"votium\", 'protocol': \"cvx-crv\"}).json()\n",
    "cvx_dash = requests.post(DASHBOARD_URL, json={\"id\": \"bribes-overview-votium\"}).json()\n",
    "aura_bribes = requests.post(BRIBES_URL, json={'platform': \"hh\", 'protocol': \"aura-bal\"}).json()\n",
    "aura_dash = requests.post(DASHBOARD_URL, json={\"id\": \"bribes-overview-aura\"}).json()\n",
    "total_bribes_cvx = sum([bribe['amountDollars'] for bribe in cvx_bribes['epoch']['bribes']])\n",
    "dollar_spent_on_bribes_cvx = cvx_dash['dashboard']['rewardPerDollarBribe']\n",
    "\n",
    "total_bribes_aura = sum([bribe['amountDollars'] for bribe in aura_bribes['epoch']['bribes']])\n",
    "dollar_spent_on_bribes_aura = aura_dash['dashboard']['rewardPerDollarBribe']\n",
    "for bribe in range(BADGER_LOW_BOUND, BADGER_UPPER_BOUND, STEP):\n",
    "    badger_bribe_in_dollar = bribe * badger_price\n",
    "    fees = badger_bribe_in_dollar * FEE\n",
    "    badger_bribe_in_dollar_after_fees = badger_bribe_in_dollar - fees\n",
    "    cvx_dilution_50, cvx_in_out_50 = calculate_metrics(badger_bribe_in_dollar_after_fees / 2, total_bribes_cvx,\n",
    "                                                       dollar_spent_on_bribes_cvx)\n",
    "    aura_dilution_50, aura_in_out_50 = calculate_metrics(badger_bribe_in_dollar_after_fees / 2, total_bribes_aura,\n",
    "                                                         dollar_spent_on_bribes_aura)\n",
    "\n",
    "    # Rebalance here\n",
    "    cvx_in_out_floating = cvx_in_out_50\n",
    "    aura_in_out_floating = aura_in_out_50\n",
    "\n",
    "    cvx_bribe_portion = aura_bribe_portion = badger_bribe_in_dollar_after_fees / 2\n",
    "    cvx_dilution = None\n",
    "    aura_dilution = None\n",
    "    while not math.isclose(cvx_in_out_floating, aura_in_out_floating, abs_tol=0.5):\n",
    "        if cvx_in_out_floating > aura_in_out_floating:\n",
    "            # Take bribe portion from aura and give it to cvx\n",
    "            bribe_stolen = aura_bribe_portion * REBALANCING_STEP\n",
    "            aura_bribe_portion -= bribe_stolen\n",
    "            cvx_bribe_portion += bribe_stolen\n",
    "        elif aura_in_out_floating > cvx_in_out_floating:\n",
    "            # Take bribe portion from cvx and give it to aura\n",
    "            bribe_stolen = aura_bribe_portion * REBALANCING_STEP\n",
    "            cvx_bribe_portion -= bribe_stolen\n",
    "            aura_bribe_portion += bribe_stolen\n",
    "        if cvx_bribe_portion <= 0 or aura_bribe_portion <= 0:\n",
    "            break\n",
    "        cvx_dilution, cvx_in_out_floating = calculate_metrics(cvx_bribe_portion, total_bribes_cvx,\n",
    "                                                              dollar_spent_on_bribes_cvx)\n",
    "        aura_dilution, aura_in_out_floating = calculate_metrics(aura_bribe_portion, total_bribes_aura,\n",
    "                                                                dollar_spent_on_bribes_aura)\n",
    "\n",
    "    table_rows.append(\n",
    "        [PROTOCOL_CVX, badger_bribe_in_dollar_after_fees, fees, round(cvx_bribe_portion / badger_bribe_in_dollar_after_fees * 100, 2),\n",
    "         cvx_bribe_portion, cvx_dilution, cvx_in_out_floating]\n",
    "    )\n",
    "    table_rows.append(\n",
    "        [PROTOCOL_AURA, badger_bribe_in_dollar_after_fees, fees, round(aura_bribe_portion / badger_bribe_in_dollar_after_fees * 100, 2),\n",
    "         aura_bribe_portion, aura_dilution, aura_in_out_floating]\n",
    "    )\n",
    "dataframe = pd.DataFrame(data=table_rows, columns=TABLE_COLUMNS)\n",
    "display(dataframe)"
   ],
   "metadata": {
    "collapsed": false,
    "pycharm": {
     "name": "#%%\n"
    }
   }
  }
 ],
 "metadata": {
  "kernelspec": {
   "display_name": "Python 3",
   "language": "python",
   "name": "python3"
  },
  "language_info": {
   "codemirror_mode": {
    "name": "ipython",
    "version": 2
   },
   "file_extension": ".py",
   "mimetype": "text/x-python",
   "name": "python",
   "nbconvert_exporter": "python",
   "pygments_lexer": "ipython2",
   "version": "2.7.6"
  }
 },
 "nbformat": 4,
 "nbformat_minor": 0
}