{
 "cells": [
  {
   "cell_type": "markdown",
   "source": [
    "## Autobriber\n",
    "\n",
    "Consider running this notebook 1 day before Snapshot voting ends on https://snapshot.org/#/aurafinance.eth"
   ],
   "metadata": {
    "collapsed": false,
    "pycharm": {
     "name": "#%% md\n"
    }
   }
  },
  {
   "cell_type": "code",
   "execution_count": 2,
   "outputs": [
    {
     "name": "stdout",
     "output_type": "stream",
     "text": [
      "Previous dollar per vlAURA: 0.06351649000186448\n",
      "Current dollar per vlAURA: None\n"
     ]
    }
   ],
   "source": [
    "from notebooks.bribes_research.helpers import get_dollar_per_vl_asset_for_snapshot\n",
    "from notebooks.bribes_research.helpers import get_preset_token_prices\n",
    "from notebooks.bribes_research.snapshot_helpers import get_active_and_previous_snapshots\n",
    "\n",
    "snapshots = get_active_and_previous_snapshots()\n",
    "previous_dollar_per_vlaura = get_dollar_per_vl_asset_for_snapshot(snapshots.previous_snapshot['id']) if snapshots.previous_snapshot else None\n",
    "current_dollar_per_vlaura = get_dollar_per_vl_asset_for_snapshot(snapshots.current_snapshot['id']) if snapshots.current_snapshot else None\n",
    "\n",
    "assert current_dollar_per_vlaura or previous_dollar_per_vlaura\n",
    "print(f\"Previous dollar per vlAURA: {previous_dollar_per_vlaura}\")\n",
    "print(f\"Current dollar per vlAURA: {current_dollar_per_vlaura}\")\n",
    "token_prices = get_preset_token_prices()"
   ],
   "metadata": {
    "collapsed": false,
    "pycharm": {
     "name": "#%%\n"
    }
   }
  },
  {
   "cell_type": "markdown",
   "source": [],
   "metadata": {
    "collapsed": false,
    "pycharm": {
     "name": "#%% md\n"
    }
   }
  }
 ],
 "metadata": {
  "kernelspec": {
   "display_name": "Python 3",
   "language": "python",
   "name": "python3"
  },
  "language_info": {
   "codemirror_mode": {
    "name": "ipython",
    "version": 2
   },
   "file_extension": ".py",
   "mimetype": "text/x-python",
   "name": "python",
   "nbconvert_exporter": "python",
   "pygments_lexer": "ipython2",
   "version": "2.7.6"
  }
 },
 "nbformat": 4,
 "nbformat_minor": 0
}