{
 "cells": [
  {
   "cell_type": "markdown",
   "source": [
    "## Bribe and Voting report for graviAURA round 1st September 2022\n",
    "\n",
    "---\n",
    "\n",
    "### Snapshot Link\n",
    "\n",
    "[Snapshot Voting Round](https://snapshot.org/#/aurafinance.eth/proposal/0x1b8dfa5993c22e67e6d01d8f58f0c6872ac9e56685148249f4443f7315123410)\n",
    "\n",
    "### Llama.Airforce:\n",
    "\n",
    "[Llama Airforce Link](https://llama.airforce/#/bribes/rounds/hh/aura-bal/6)\n",
    "\n"
   ],
   "metadata": {
    "collapsed": false,
    "pycharm": {
     "name": "#%% md\n"
    }
   }
  },
  {
   "cell_type": "code",
   "execution_count": 2,
   "outputs": [
    {
     "data": {
      "text/plain": "         Voting Round Total graviAURA bought in $ Total BADGER bought in $  \\\n0  1st September 2022                    26371.21                  8983.14   \n\n  graviAURA bought BADGER bought $/vlAURA total $/vlAURA pure bribes  \\\n0          8618.04       2133.76           0.04                0.069   \n\n  $/vlAURA Llama vlAURA difference  \n0        0.08562            21.498  ",
      "text/html": "<div>\n<style scoped>\n    .dataframe tbody tr th:only-of-type {\n        vertical-align: middle;\n    }\n\n    .dataframe tbody tr th {\n        vertical-align: top;\n    }\n\n    .dataframe thead th {\n        text-align: right;\n    }\n</style>\n<table border=\"1\" class=\"dataframe\">\n  <thead>\n    <tr style=\"text-align: right;\">\n      <th></th>\n      <th>Voting Round</th>\n      <th>Total graviAURA bought in $</th>\n      <th>Total BADGER bought in $</th>\n      <th>graviAURA bought</th>\n      <th>BADGER bought</th>\n      <th>$/vlAURA total</th>\n      <th>$/vlAURA pure bribes</th>\n      <th>$/vlAURA Llama</th>\n      <th>vlAURA difference</th>\n    </tr>\n  </thead>\n  <tbody>\n    <tr>\n      <th>0</th>\n      <td>1st September 2022</td>\n      <td>26371.21</td>\n      <td>8983.14</td>\n      <td>8618.04</td>\n      <td>2133.76</td>\n      <td>0.04</td>\n      <td>0.069</td>\n      <td>0.08562</td>\n      <td>21.498</td>\n    </tr>\n  </tbody>\n</table>\n</div>"
     },
     "metadata": {},
     "output_type": "display_data"
    }
   ],
   "source": [
    "from decimal import Decimal\n",
    "\n",
    "import pandas as pd\n",
    "from IPython.core.display_functions import display\n",
    "\n",
    "from notebooks.aura_bribes.aura_data import VOTING_ROUNDS\n",
    "\n",
    "TABLE_COLUMNS = [\"Voting Round\", \"Total graviAURA bought in $\", \"Total BADGER bought in $\", \"graviAURA bought\", \"BADGER bought\",\n",
    "                 \"$/vlAURA total\", \"$/vlAURA pure bribes\", \"$/vlAURA Llama\", \"vlAURA difference\"]\n",
    "\n",
    "table_rows = []\n",
    "for voting_round in VOTING_ROUNDS:\n",
    "    llama_vlaura = voting_round['llama_vlaura']\n",
    "    badger_vlaura = voting_round['$/vlAURA without pools']\n",
    "    difference_with_llama = round(\n",
    "        abs(badger_vlaura - llama_vlaura) / ((llama_vlaura + badger_vlaura) / 2) * 100, 3\n",
    "    )\n",
    "    table_rows.append([\n",
    "        voting_round['round'], voting_round['total_graviaura_bought_in_$'], voting_round['total_badger_bought_in_$'],\n",
    "        voting_round['amount_graviaura_bought'], voting_round['amount_badger_bought'], voting_round['$/vlAURA for total votes'],\n",
    "        voting_round['$/vlAURA without pools'], voting_round['llama_vlaura'], difference_with_llama\n",
    "    ])\n",
    "dataframe = pd.DataFrame(data=table_rows, columns=TABLE_COLUMNS)\n",
    "display(dataframe)\n"
   ],
   "metadata": {
    "collapsed": false,
    "pycharm": {
     "name": "#%%\n"
    }
   }
  }
 ],
 "metadata": {
  "kernelspec": {
   "display_name": "Python 3",
   "language": "python",
   "name": "python3"
  },
  "language_info": {
   "codemirror_mode": {
    "name": "ipython",
    "version": 2
   },
   "file_extension": ".py",
   "mimetype": "text/x-python",
   "name": "python",
   "nbconvert_exporter": "python",
   "pygments_lexer": "ipython2",
   "version": "2.7.6"
  }
 },
 "nbformat": 4,
 "nbformat_minor": 0
}